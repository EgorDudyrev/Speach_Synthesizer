{
 "cells": [
  {
   "cell_type": "code",
   "execution_count": 1,
   "metadata": {},
   "outputs": [],
   "source": [
    "import os\n",
    "import sys\n",
    "import importlib\n",
    "PARENT_DIR = os.path.realpath('..')+'/'\n",
    "sys.path.append(PARENT_DIR)\n",
    "  \n",
    "import numpy as np\n",
    "from tqdm import tqdm_notebook\n",
    "from joblib import Parallel, delayed\n",
    "import subprocess\n",
    "from pathlib import Path\n",
    "\n",
    "try: importlib.reload(sl)\n",
    "except: import synt_lib as sl"
   ]
  },
  {
   "cell_type": "code",
   "execution_count": 2,
   "metadata": {},
   "outputs": [],
   "source": [
    "DIRS = sl.get_dirs(parent_dir=PARENT_DIR)\n",
    "M_PARAMS = sl.get_model_params()"
   ]
  },
  {
   "cell_type": "code",
   "execution_count": 17,
   "metadata": {},
   "outputs": [],
   "source": [
    "DIRS['RAW_DATA'] = '/data/dudyrev/Speach_Synthesizer/raw_data/'"
   ]
  },
  {
   "cell_type": "markdown",
   "metadata": {},
   "source": [
    "# Get all mp3 files"
   ]
  },
  {
   "cell_type": "code",
   "execution_count": 19,
   "metadata": {},
   "outputs": [
    {
     "data": {
      "text/plain": [
       "'/data/dudyrev/Speach_Synthesizer/raw_data/rus'"
      ]
     },
     "execution_count": 19,
     "metadata": {},
     "output_type": "execute_result"
    }
   ],
   "source": [
    "dir_ = (DIRS['RAW_DATA']+'rus').replace('//','/')\n",
    "dir_"
   ]
  },
  {
   "cell_type": "code",
   "execution_count": 20,
   "metadata": {},
   "outputs": [],
   "source": [
    "hadoop_path = '/user/dudyreve'"
   ]
  },
  {
   "cell_type": "code",
   "execution_count": 21,
   "metadata": {},
   "outputs": [],
   "source": [
    "def convert_file(path, ext_to='.wav', move_to_hdfs=True, hadoop_path='/user/dudyreve'):\n",
    "    if isinstance(path, Path):\n",
    "        path = path.as_posix()\n",
    "    ext_from = '.'+path.split('.')[-1]\n",
    "    newpath = path.replace(ext_from, ext_to)\n",
    "    if os.path.isfile(newpath):\n",
    "        return 2, newpath\n",
    "    \n",
    "    try:\n",
    "        subprocess.run(['ffmpeg', '-loglevel', 'panic', '-i', path, '-ar', str(M_PARAMS['SAMPLE_RATE']), newpath])\n",
    "        return 1, newpath\n",
    "    except Exception as e:\n",
    "        print(e)\n",
    "        return 0, newpath\n",
    "    \n",
    "    if move_to_hdfs:\n",
    "        hdfs_path = newpath.replace(dir_,hadoop_path)\n",
    "        hdfs_dir = '/'.join(hdfs_path.split('/')[:-1])\n",
    "        subprocess.run(['hdfs','dfs','-mkdir','-p',hdfs_dir])\n",
    "        subprocess.run(['hdfs','dfs','-copyFromLocal',newpath,hdfs_path])\n",
    "        subprocess.run(['rm',newpath])\n",
    "        return 1, hdfs_path\n",
    "    return 1, newpath"
   ]
  },
  {
   "cell_type": "code",
   "execution_count": 22,
   "metadata": {},
   "outputs": [],
   "source": [
    "def remove_file(fname):\n",
    "    if os.path.isfile(fname):\n",
    "        subprocess.run(['rm',fname])"
   ]
  },
  {
   "cell_type": "markdown",
   "metadata": {},
   "source": [
    "Remove old wav files"
   ]
  },
  {
   "cell_type": "code",
   "execution_count": 23,
   "metadata": {},
   "outputs": [
    {
     "data": {
      "text/plain": [
       "0"
      ]
     },
     "execution_count": 23,
     "metadata": {},
     "output_type": "execute_result"
    }
   ],
   "source": [
    "result = Path(dir_).rglob(\"*.wav\")\n",
    "res_len = len(list(result))\n",
    "result = Path(dir_).rglob(\"*.wav\")\n",
    "res_len"
   ]
  },
  {
   "cell_type": "raw",
   "metadata": {},
   "source": [
    "%%time\n",
    "res_data = Parallel(n_jobs=32, verbose=1)(delayed(remove_file)(path) for path in result);"
   ]
  },
  {
   "cell_type": "markdown",
   "metadata": {},
   "source": [
    "Convert to new wav files"
   ]
  },
  {
   "cell_type": "code",
   "execution_count": 25,
   "metadata": {},
   "outputs": [],
   "source": [
    "result = Path(dir_).rglob(\"*.mp3\")\n",
    "res_len = len(list(result))\n",
    "result = Path(dir_).rglob(\"*.mp3\")"
   ]
  },
  {
   "cell_type": "code",
   "execution_count": 26,
   "metadata": {},
   "outputs": [
    {
     "data": {
      "text/plain": [
       "1640262"
      ]
     },
     "execution_count": 26,
     "metadata": {},
     "output_type": "execute_result"
    }
   ],
   "source": [
    "res_len"
   ]
  },
  {
   "cell_type": "code",
   "execution_count": 27,
   "metadata": {},
   "outputs": [
    {
     "name": "stderr",
     "output_type": "stream",
     "text": [
      "[Parallel(n_jobs=128)]: Using backend LokyBackend with 128 concurrent workers.\n",
      "[Parallel(n_jobs=128)]: Done 194 tasks      | elapsed:    4.1s\n",
      "[Parallel(n_jobs=128)]: Done 544 tasks      | elapsed:    5.9s\n",
      "[Parallel(n_jobs=128)]: Done 994 tasks      | elapsed:    8.2s\n",
      "[Parallel(n_jobs=128)]: Done 1544 tasks      | elapsed:   11.2s\n",
      "[Parallel(n_jobs=128)]: Done 2194 tasks      | elapsed:   14.6s\n",
      "[Parallel(n_jobs=128)]: Done 2944 tasks      | elapsed:   18.7s\n",
      "[Parallel(n_jobs=128)]: Done 3794 tasks      | elapsed:   23.3s\n",
      "[Parallel(n_jobs=128)]: Done 4744 tasks      | elapsed:   28.4s\n",
      "[Parallel(n_jobs=128)]: Done 5794 tasks      | elapsed:   34.1s\n",
      "[Parallel(n_jobs=128)]: Done 6944 tasks      | elapsed:   40.3s\n",
      "[Parallel(n_jobs=128)]: Done 8194 tasks      | elapsed:   47.0s\n",
      "[Parallel(n_jobs=128)]: Done 9544 tasks      | elapsed:   54.1s\n",
      "[Parallel(n_jobs=128)]: Done 10994 tasks      | elapsed:  1.0min\n",
      "[Parallel(n_jobs=128)]: Done 12544 tasks      | elapsed:  1.2min\n",
      "[Parallel(n_jobs=128)]: Done 14194 tasks      | elapsed:  1.3min\n",
      "[Parallel(n_jobs=128)]: Done 15944 tasks      | elapsed:  1.5min\n",
      "[Parallel(n_jobs=128)]: Done 17794 tasks      | elapsed:  1.6min\n",
      "[Parallel(n_jobs=128)]: Done 19744 tasks      | elapsed:  1.8min\n",
      "[Parallel(n_jobs=128)]: Done 21794 tasks      | elapsed:  2.0min\n",
      "[Parallel(n_jobs=128)]: Done 23944 tasks      | elapsed:  2.2min\n",
      "[Parallel(n_jobs=128)]: Done 26194 tasks      | elapsed:  2.3min\n",
      "[Parallel(n_jobs=128)]: Done 28544 tasks      | elapsed:  2.5min\n",
      "[Parallel(n_jobs=128)]: Done 30994 tasks      | elapsed:  2.7min\n",
      "[Parallel(n_jobs=128)]: Done 33544 tasks      | elapsed:  3.0min\n",
      "[Parallel(n_jobs=128)]: Done 36194 tasks      | elapsed:  3.2min\n",
      "[Parallel(n_jobs=128)]: Done 38944 tasks      | elapsed:  3.4min\n",
      "[Parallel(n_jobs=128)]: Done 41794 tasks      | elapsed:  3.7min\n",
      "[Parallel(n_jobs=128)]: Done 44744 tasks      | elapsed:  3.9min\n",
      "[Parallel(n_jobs=128)]: Done 47794 tasks      | elapsed:  4.2min\n",
      "[Parallel(n_jobs=128)]: Done 50944 tasks      | elapsed:  4.4min\n",
      "[Parallel(n_jobs=128)]: Done 54194 tasks      | elapsed:  4.7min\n",
      "[Parallel(n_jobs=128)]: Done 57544 tasks      | elapsed:  5.0min\n",
      "[Parallel(n_jobs=128)]: Done 60994 tasks      | elapsed:  5.3min\n",
      "[Parallel(n_jobs=128)]: Done 64544 tasks      | elapsed:  5.6min\n",
      "[Parallel(n_jobs=128)]: Done 68194 tasks      | elapsed:  5.9min\n",
      "[Parallel(n_jobs=128)]: Done 71944 tasks      | elapsed:  6.2min\n",
      "[Parallel(n_jobs=128)]: Done 75794 tasks      | elapsed:  6.6min\n",
      "[Parallel(n_jobs=128)]: Done 79744 tasks      | elapsed:  6.9min\n",
      "[Parallel(n_jobs=128)]: Done 83794 tasks      | elapsed:  7.3min\n",
      "[Parallel(n_jobs=128)]: Done 87944 tasks      | elapsed:  7.6min\n",
      "[Parallel(n_jobs=128)]: Done 92194 tasks      | elapsed:  8.0min\n",
      "[Parallel(n_jobs=128)]: Done 96544 tasks      | elapsed:  8.3min\n",
      "[Parallel(n_jobs=128)]: Done 100994 tasks      | elapsed:  8.7min\n",
      "[Parallel(n_jobs=128)]: Done 105544 tasks      | elapsed:  9.1min\n",
      "[Parallel(n_jobs=128)]: Done 110194 tasks      | elapsed:  9.5min\n",
      "[Parallel(n_jobs=128)]: Done 114944 tasks      | elapsed:  9.9min\n",
      "[Parallel(n_jobs=128)]: Done 119794 tasks      | elapsed: 10.3min\n",
      "[Parallel(n_jobs=128)]: Done 124744 tasks      | elapsed: 10.7min\n",
      "[Parallel(n_jobs=128)]: Done 129794 tasks      | elapsed: 11.1min\n",
      "[Parallel(n_jobs=128)]: Done 134944 tasks      | elapsed: 11.6min\n",
      "[Parallel(n_jobs=128)]: Done 140194 tasks      | elapsed: 12.0min\n",
      "[Parallel(n_jobs=128)]: Done 145544 tasks      | elapsed: 12.5min\n",
      "[Parallel(n_jobs=128)]: Done 150994 tasks      | elapsed: 12.9min\n",
      "[Parallel(n_jobs=128)]: Done 156544 tasks      | elapsed: 13.4min\n",
      "[Parallel(n_jobs=128)]: Done 162194 tasks      | elapsed: 13.8min\n",
      "[Parallel(n_jobs=128)]: Done 167944 tasks      | elapsed: 14.3min\n",
      "[Parallel(n_jobs=128)]: Done 173794 tasks      | elapsed: 14.8min\n",
      "[Parallel(n_jobs=128)]: Done 179744 tasks      | elapsed: 15.3min\n",
      "[Parallel(n_jobs=128)]: Done 185794 tasks      | elapsed: 15.8min\n",
      "[Parallel(n_jobs=128)]: Done 191944 tasks      | elapsed: 16.3min\n",
      "[Parallel(n_jobs=128)]: Done 198194 tasks      | elapsed: 16.8min\n",
      "[Parallel(n_jobs=128)]: Done 204544 tasks      | elapsed: 17.3min\n",
      "[Parallel(n_jobs=128)]: Done 210994 tasks      | elapsed: 17.9min\n",
      "[Parallel(n_jobs=128)]: Done 217544 tasks      | elapsed: 18.4min\n",
      "[Parallel(n_jobs=128)]: Done 224194 tasks      | elapsed: 19.0min\n",
      "[Parallel(n_jobs=128)]: Done 230944 tasks      | elapsed: 19.5min\n",
      "[Parallel(n_jobs=128)]: Done 237794 tasks      | elapsed: 20.1min\n",
      "[Parallel(n_jobs=128)]: Done 244744 tasks      | elapsed: 20.6min\n",
      "[Parallel(n_jobs=128)]: Done 251794 tasks      | elapsed: 21.2min\n",
      "[Parallel(n_jobs=128)]: Done 258944 tasks      | elapsed: 21.8min\n",
      "[Parallel(n_jobs=128)]: Done 266194 tasks      | elapsed: 22.5min\n",
      "[Parallel(n_jobs=128)]: Done 273544 tasks      | elapsed: 23.1min\n",
      "[Parallel(n_jobs=128)]: Done 280994 tasks      | elapsed: 23.7min\n",
      "[Parallel(n_jobs=128)]: Done 288544 tasks      | elapsed: 24.3min\n",
      "[Parallel(n_jobs=128)]: Done 296194 tasks      | elapsed: 24.9min\n",
      "[Parallel(n_jobs=128)]: Done 303944 tasks      | elapsed: 25.6min\n",
      "[Parallel(n_jobs=128)]: Done 311794 tasks      | elapsed: 26.3min\n",
      "[Parallel(n_jobs=128)]: Done 319744 tasks      | elapsed: 26.9min\n",
      "[Parallel(n_jobs=128)]: Done 327794 tasks      | elapsed: 27.6min\n",
      "[Parallel(n_jobs=128)]: Done 335944 tasks      | elapsed: 28.3min\n",
      "[Parallel(n_jobs=128)]: Done 344194 tasks      | elapsed: 29.0min\n",
      "[Parallel(n_jobs=128)]: Done 352544 tasks      | elapsed: 29.7min\n",
      "[Parallel(n_jobs=128)]: Done 360994 tasks      | elapsed: 30.3min\n",
      "[Parallel(n_jobs=128)]: Done 369544 tasks      | elapsed: 31.1min\n",
      "[Parallel(n_jobs=128)]: Done 378194 tasks      | elapsed: 31.8min\n",
      "[Parallel(n_jobs=128)]: Done 386944 tasks      | elapsed: 32.5min\n",
      "[Parallel(n_jobs=128)]: Done 395794 tasks      | elapsed: 33.3min\n",
      "[Parallel(n_jobs=128)]: Done 404744 tasks      | elapsed: 34.0min\n",
      "[Parallel(n_jobs=128)]: Done 413794 tasks      | elapsed: 34.8min\n",
      "[Parallel(n_jobs=128)]: Done 422944 tasks      | elapsed: 35.5min\n",
      "[Parallel(n_jobs=128)]: Done 432194 tasks      | elapsed: 36.3min\n",
      "[Parallel(n_jobs=128)]: Done 441544 tasks      | elapsed: 37.1min\n",
      "[Parallel(n_jobs=128)]: Done 450994 tasks      | elapsed: 37.8min\n",
      "[Parallel(n_jobs=128)]: Done 460544 tasks      | elapsed: 38.7min\n",
      "[Parallel(n_jobs=128)]: Done 470194 tasks      | elapsed: 39.5min\n",
      "[Parallel(n_jobs=128)]: Done 479944 tasks      | elapsed: 40.3min\n",
      "[Parallel(n_jobs=128)]: Done 489794 tasks      | elapsed: 41.1min\n",
      "[Parallel(n_jobs=128)]: Done 499744 tasks      | elapsed: 41.9min\n",
      "[Parallel(n_jobs=128)]: Done 509794 tasks      | elapsed: 42.8min\n",
      "[Parallel(n_jobs=128)]: Done 519944 tasks      | elapsed: 43.6min\n",
      "[Parallel(n_jobs=128)]: Done 530194 tasks      | elapsed: 44.5min\n",
      "[Parallel(n_jobs=128)]: Done 540544 tasks      | elapsed: 45.3min\n",
      "[Parallel(n_jobs=128)]: Done 550994 tasks      | elapsed: 46.2min\n",
      "[Parallel(n_jobs=128)]: Done 561544 tasks      | elapsed: 47.1min\n",
      "[Parallel(n_jobs=128)]: Done 572194 tasks      | elapsed: 47.9min\n",
      "[Parallel(n_jobs=128)]: Done 582944 tasks      | elapsed: 48.8min\n",
      "[Parallel(n_jobs=128)]: Done 593794 tasks      | elapsed: 49.7min\n",
      "[Parallel(n_jobs=128)]: Done 604744 tasks      | elapsed: 50.6min\n",
      "[Parallel(n_jobs=128)]: Done 615794 tasks      | elapsed: 51.5min\n",
      "[Parallel(n_jobs=128)]: Done 626944 tasks      | elapsed: 52.5min\n",
      "[Parallel(n_jobs=128)]: Done 638194 tasks      | elapsed: 53.4min\n",
      "[Parallel(n_jobs=128)]: Done 649544 tasks      | elapsed: 54.4min\n",
      "[Parallel(n_jobs=128)]: Done 660994 tasks      | elapsed: 55.3min\n",
      "[Parallel(n_jobs=128)]: Done 672544 tasks      | elapsed: 56.2min\n",
      "[Parallel(n_jobs=128)]: Done 684194 tasks      | elapsed: 57.2min\n",
      "[Parallel(n_jobs=128)]: Done 695944 tasks      | elapsed: 58.2min\n",
      "[Parallel(n_jobs=128)]: Done 707794 tasks      | elapsed: 59.2min\n",
      "[Parallel(n_jobs=128)]: Done 719744 tasks      | elapsed: 60.2min\n",
      "[Parallel(n_jobs=128)]: Done 731794 tasks      | elapsed: 61.2min\n",
      "[Parallel(n_jobs=128)]: Done 743944 tasks      | elapsed: 62.2min\n",
      "[Parallel(n_jobs=128)]: Done 756194 tasks      | elapsed: 63.2min\n",
      "[Parallel(n_jobs=128)]: Done 768544 tasks      | elapsed: 64.3min\n",
      "[Parallel(n_jobs=128)]: Done 780994 tasks      | elapsed: 65.3min\n",
      "[Parallel(n_jobs=128)]: Done 793544 tasks      | elapsed: 66.4min\n"
     ]
    },
    {
     "name": "stderr",
     "output_type": "stream",
     "text": [
      "[Parallel(n_jobs=128)]: Done 806194 tasks      | elapsed: 67.4min\n",
      "[Parallel(n_jobs=128)]: Done 818944 tasks      | elapsed: 68.5min\n",
      "[Parallel(n_jobs=128)]: Done 831794 tasks      | elapsed: 69.6min\n",
      "[Parallel(n_jobs=128)]: Done 844744 tasks      | elapsed: 70.6min\n",
      "[Parallel(n_jobs=128)]: Done 857794 tasks      | elapsed: 71.7min\n",
      "[Parallel(n_jobs=128)]: Done 870944 tasks      | elapsed: 72.8min\n",
      "[Parallel(n_jobs=128)]: Done 884194 tasks      | elapsed: 73.9min\n",
      "[Parallel(n_jobs=128)]: Done 897544 tasks      | elapsed: 75.1min\n",
      "[Parallel(n_jobs=128)]: Done 910994 tasks      | elapsed: 76.2min\n",
      "[Parallel(n_jobs=128)]: Done 924544 tasks      | elapsed: 77.3min\n",
      "[Parallel(n_jobs=128)]: Done 938194 tasks      | elapsed: 78.5min\n",
      "[Parallel(n_jobs=128)]: Done 951944 tasks      | elapsed: 79.6min\n",
      "[Parallel(n_jobs=128)]: Done 965794 tasks      | elapsed: 80.7min\n",
      "[Parallel(n_jobs=128)]: Done 979744 tasks      | elapsed: 81.9min\n",
      "[Parallel(n_jobs=128)]: Done 993794 tasks      | elapsed: 83.1min\n",
      "[Parallel(n_jobs=128)]: Done 1007944 tasks      | elapsed: 84.3min\n",
      "[Parallel(n_jobs=128)]: Done 1022194 tasks      | elapsed: 85.5min\n",
      "[Parallel(n_jobs=128)]: Done 1036544 tasks      | elapsed: 86.8min\n",
      "[Parallel(n_jobs=128)]: Done 1050994 tasks      | elapsed: 88.0min\n",
      "[Parallel(n_jobs=128)]: Done 1065544 tasks      | elapsed: 89.3min\n",
      "[Parallel(n_jobs=128)]: Done 1080194 tasks      | elapsed: 90.5min\n",
      "[Parallel(n_jobs=128)]: Done 1094944 tasks      | elapsed: 91.8min\n",
      "[Parallel(n_jobs=128)]: Done 1109794 tasks      | elapsed: 93.0min\n",
      "[Parallel(n_jobs=128)]: Done 1124744 tasks      | elapsed: 94.3min\n",
      "[Parallel(n_jobs=128)]: Done 1139794 tasks      | elapsed: 95.6min\n",
      "[Parallel(n_jobs=128)]: Done 1154944 tasks      | elapsed: 96.9min\n",
      "[Parallel(n_jobs=128)]: Done 1170194 tasks      | elapsed: 98.2min\n",
      "[Parallel(n_jobs=128)]: Done 1185544 tasks      | elapsed: 99.5min\n",
      "[Parallel(n_jobs=128)]: Done 1200994 tasks      | elapsed: 100.8min\n",
      "[Parallel(n_jobs=128)]: Done 1216544 tasks      | elapsed: 102.1min\n",
      "[Parallel(n_jobs=128)]: Done 1232194 tasks      | elapsed: 103.5min\n",
      "[Parallel(n_jobs=128)]: Done 1247944 tasks      | elapsed: 104.8min\n",
      "[Parallel(n_jobs=128)]: Done 1263794 tasks      | elapsed: 106.2min\n",
      "[Parallel(n_jobs=128)]: Done 1279744 tasks      | elapsed: 107.5min\n",
      "[Parallel(n_jobs=128)]: Done 1295794 tasks      | elapsed: 109.0min\n",
      "[Parallel(n_jobs=128)]: Done 1311944 tasks      | elapsed: 110.4min\n",
      "[Parallel(n_jobs=128)]: Done 1328194 tasks      | elapsed: 111.8min\n",
      "[Parallel(n_jobs=128)]: Done 1344544 tasks      | elapsed: 113.2min\n",
      "[Parallel(n_jobs=128)]: Done 1360994 tasks      | elapsed: 114.6min\n",
      "[Parallel(n_jobs=128)]: Done 1377544 tasks      | elapsed: 116.0min\n",
      "[Parallel(n_jobs=128)]: Done 1394194 tasks      | elapsed: 117.5min\n",
      "[Parallel(n_jobs=128)]: Done 1410944 tasks      | elapsed: 118.9min\n",
      "[Parallel(n_jobs=128)]: Done 1427794 tasks      | elapsed: 120.4min\n",
      "[Parallel(n_jobs=128)]: Done 1444744 tasks      | elapsed: 121.9min\n",
      "[Parallel(n_jobs=128)]: Done 1461794 tasks      | elapsed: 123.4min\n",
      "[Parallel(n_jobs=128)]: Done 1478944 tasks      | elapsed: 124.9min\n",
      "[Parallel(n_jobs=128)]: Done 1496194 tasks      | elapsed: 126.4min\n",
      "[Parallel(n_jobs=128)]: Done 1513544 tasks      | elapsed: 127.9min\n",
      "[Parallel(n_jobs=128)]: Done 1530994 tasks      | elapsed: 129.4min\n",
      "[Parallel(n_jobs=128)]: Done 1548544 tasks      | elapsed: 131.0min\n",
      "[Parallel(n_jobs=128)]: Done 1566194 tasks      | elapsed: 132.5min\n",
      "[Parallel(n_jobs=128)]: Done 1583944 tasks      | elapsed: 134.0min\n",
      "[Parallel(n_jobs=128)]: Done 1601794 tasks      | elapsed: 135.6min\n",
      "[Parallel(n_jobs=128)]: Done 1619744 tasks      | elapsed: 137.2min\n",
      "[Parallel(n_jobs=128)]: Done 1637794 tasks      | elapsed: 138.8min\n"
     ]
    },
    {
     "name": "stdout",
     "output_type": "stream",
     "text": [
      "CPU times: user 2h 16min 47s, sys: 8min 18s, total: 2h 25min 6s\n",
      "Wall time: 2h 19min 12s\n"
     ]
    },
    {
     "name": "stderr",
     "output_type": "stream",
     "text": [
      "[Parallel(n_jobs=128)]: Done 1640262 out of 1640262 | elapsed: 139.2min finished\n"
     ]
    }
   ],
   "source": [
    "%%time\n",
    "res_data = Parallel(n_jobs=128, verbose=1)(delayed(convert_file)(path) for path in result);"
   ]
  }
 ],
 "metadata": {
  "kernelspec": {
   "display_name": "Python 3",
   "language": "python",
   "name": "python3"
  },
  "language_info": {
   "codemirror_mode": {
    "name": "ipython",
    "version": 3
   },
   "file_extension": ".py",
   "mimetype": "text/x-python",
   "name": "python",
   "nbconvert_exporter": "python",
   "pygments_lexer": "ipython3",
   "version": "3.6.4"
  }
 },
 "nbformat": 4,
 "nbformat_minor": 2
}
