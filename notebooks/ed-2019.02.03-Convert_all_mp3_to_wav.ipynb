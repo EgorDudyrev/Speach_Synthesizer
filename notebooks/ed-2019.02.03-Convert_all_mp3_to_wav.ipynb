{
 "cells": [
  {
   "cell_type": "code",
   "execution_count": 24,
   "metadata": {},
   "outputs": [],
   "source": [
    "import os\n",
    "import sys\n",
    "import importlib\n",
    "PARENT_DIR = os.path.realpath('..')+'/'\n",
    "sys.path.append(PARENT_DIR)\n",
    "  \n",
    "import numpy as np\n",
    "from tqdm import tqdm_notebook\n",
    "from joblib import Parallel, delayed\n",
    "import subprocess\n",
    "from pathlib import Path\n",
    "\n",
    "try: importlib.reload(sl)\n",
    "except: import synt_lib as sl"
   ]
  },
  {
   "cell_type": "code",
   "execution_count": 25,
   "metadata": {},
   "outputs": [],
   "source": [
    "DIRS = sl.get_dirs(parent_dir=PARENT_DIR)\n",
    "M_PARAMS = sl.get_model_params()"
   ]
  },
  {
   "cell_type": "markdown",
   "metadata": {},
   "source": [
    "# Get all mp3 files"
   ]
  },
  {
   "cell_type": "code",
   "execution_count": 26,
   "metadata": {},
   "outputs": [],
   "source": [
    "def convert_file(path, ext_to='.wav'):\n",
    "    if isinstance(path, Path):\n",
    "        path = path.as_posix()\n",
    "    ext_from = '.'+path.split('.')[-1]\n",
    "    newpath = path.replace(ext_from, ext_to)\n",
    "    if os.path.isfile(newpath):\n",
    "        return 2, newpath\n",
    "    \n",
    "    try:\n",
    "        subprocess.run(['ffmpeg', '-loglevel', 'panic', '-i', path, '-ar', str(M_PARAMS['SAMPLE_RATE']), newpath])\n",
    "        return 1, newpath\n",
    "    except Exception as e:\n",
    "        print(e)\n",
    "        return 0, newpath"
   ]
  },
  {
   "cell_type": "markdown",
   "metadata": {},
   "source": [
    "Remove old wav files"
   ]
  },
  {
   "cell_type": "code",
   "execution_count": 32,
   "metadata": {},
   "outputs": [],
   "source": [
    "dir_ = DIRS['RAW_DATA']+'rus/zipping'"
   ]
  },
  {
   "cell_type": "code",
   "execution_count": 33,
   "metadata": {},
   "outputs": [
    {
     "data": {
      "text/plain": [
       "3357"
      ]
     },
     "execution_count": 33,
     "metadata": {},
     "output_type": "execute_result"
    }
   ],
   "source": [
    "result = Path(dir_).rglob(\"*.mp3\")\n",
    "res_len = len(list(result))\n",
    "result = Path(dir_).rglob(\"*.mp3\")\n",
    "res_len"
   ]
  },
  {
   "cell_type": "code",
   "execution_count": 34,
   "metadata": {},
   "outputs": [
    {
     "data": {
      "application/vnd.jupyter.widget-view+json": {
       "model_id": "297574c6cce449b99aa3890a2a024751",
       "version_major": 2,
       "version_minor": 0
      },
      "text/html": [
       "<p>Failed to display Jupyter Widget of type <code>HBox</code>.</p>\n",
       "<p>\n",
       "  If you're reading this message in the Jupyter Notebook or JupyterLab Notebook, it may mean\n",
       "  that the widgets JavaScript is still loading. If this message persists, it\n",
       "  likely means that the widgets JavaScript library is either not installed or\n",
       "  not enabled. See the <a href=\"https://ipywidgets.readthedocs.io/en/stable/user_install.html\">Jupyter\n",
       "  Widgets Documentation</a> for setup instructions.\n",
       "</p>\n",
       "<p>\n",
       "  If you're reading this message in another frontend (for example, a static\n",
       "  rendering on GitHub or <a href=\"https://nbviewer.jupyter.org/\">NBViewer</a>),\n",
       "  it may mean that your frontend doesn't currently support widgets.\n",
       "</p>\n"
      ],
      "text/plain": [
       "HBox(children=(IntProgress(value=0, max=3357), HTML(value='')))"
      ]
     },
     "metadata": {},
     "output_type": "display_data"
    },
    {
     "name": "stdout",
     "output_type": "stream",
     "text": [
      "\n"
     ]
    }
   ],
   "source": [
    "for fname in tqdm_notebook(result, total=res_len):\n",
    "    newfname = fname.as_posix().replace('.mp3','.wav')\n",
    "    if os.path.isfile(newfname):\n",
    "        subprocess.run(['rm', newfname])"
   ]
  },
  {
   "cell_type": "markdown",
   "metadata": {},
   "source": [
    "Convert to new wav files"
   ]
  },
  {
   "cell_type": "code",
   "execution_count": 35,
   "metadata": {},
   "outputs": [],
   "source": [
    "result = Path(dir_).rglob(\"*.mp3\")\n",
    "res_len = len(list(result))\n",
    "result = Path(dir_).rglob(\"*.mp3\")"
   ]
  },
  {
   "cell_type": "code",
   "execution_count": 36,
   "metadata": {},
   "outputs": [
    {
     "data": {
      "text/plain": [
       "3357"
      ]
     },
     "execution_count": 36,
     "metadata": {},
     "output_type": "execute_result"
    }
   ],
   "source": [
    "res_len"
   ]
  },
  {
   "cell_type": "code",
   "execution_count": 37,
   "metadata": {},
   "outputs": [
    {
     "name": "stderr",
     "output_type": "stream",
     "text": [
      "[Parallel(n_jobs=32)]: Using backend LokyBackend with 32 concurrent workers.\n",
      "[Parallel(n_jobs=32)]: Done  34 tasks      | elapsed:    1.2s\n",
      "[Parallel(n_jobs=32)]: Done 157 tasks      | elapsed:    1.7s\n",
      "[Parallel(n_jobs=32)]: Done 485 tasks      | elapsed:    2.4s\n",
      "[Parallel(n_jobs=32)]: Done 927 tasks      | elapsed:    3.6s\n",
      "[Parallel(n_jobs=32)]: Done 1465 tasks      | elapsed:    5.1s\n",
      "[Parallel(n_jobs=32)]: Done 2103 tasks      | elapsed:    6.7s\n",
      "[Parallel(n_jobs=32)]: Done 2837 tasks      | elapsed:    8.7s\n"
     ]
    },
    {
     "name": "stdout",
     "output_type": "stream",
     "text": [
      "CPU times: user 7.51 s, sys: 1.07 s, total: 8.58 s\n",
      "Wall time: 10.1 s\n"
     ]
    },
    {
     "name": "stderr",
     "output_type": "stream",
     "text": [
      "[Parallel(n_jobs=32)]: Done 3357 out of 3357 | elapsed:   10.1s finished\n"
     ]
    }
   ],
   "source": [
    "%%time\n",
    "res_data = Parallel(n_jobs=32, verbose=4)(delayed(convert_file)(path) for path in result);"
   ]
  },
  {
   "cell_type": "code",
   "execution_count": 38,
   "metadata": {},
   "outputs": [],
   "source": [
    "result = Path(dir_).rglob(\"*.mp3\")\n",
    "res_len = len(list(result))\n",
    "result = Path(dir_).rglob(\"*.mp3\")"
   ]
  },
  {
   "cell_type": "code",
   "execution_count": 39,
   "metadata": {},
   "outputs": [],
   "source": [
    "result_wav = Path(dir_).rglob(\"*.wav\")\n",
    "res_len_wav = len(list(result_wav))\n",
    "result_wav = Path(dir_).rglob(\"*.wav\")"
   ]
  },
  {
   "cell_type": "code",
   "execution_count": 40,
   "metadata": {},
   "outputs": [
    {
     "data": {
      "text/plain": [
       "(3357, 3357)"
      ]
     },
     "execution_count": 40,
     "metadata": {},
     "output_type": "execute_result"
    }
   ],
   "source": [
    "res_len, res_len_wav"
   ]
  },
  {
   "cell_type": "code",
   "execution_count": 41,
   "metadata": {},
   "outputs": [
    {
     "data": {
      "text/plain": [
       "0"
      ]
     },
     "execution_count": 41,
     "metadata": {},
     "output_type": "execute_result"
    }
   ],
   "source": [
    "res_len-res_len_wav"
   ]
  }
 ],
 "metadata": {
  "kernelspec": {
   "display_name": "Python 3",
   "language": "python",
   "name": "python3"
  },
  "language_info": {
   "codemirror_mode": {
    "name": "ipython",
    "version": 3
   },
   "file_extension": ".py",
   "mimetype": "text/x-python",
   "name": "python",
   "nbconvert_exporter": "python",
   "pygments_lexer": "ipython3",
   "version": "3.6.4"
  }
 },
 "nbformat": 4,
 "nbformat_minor": 2
}
