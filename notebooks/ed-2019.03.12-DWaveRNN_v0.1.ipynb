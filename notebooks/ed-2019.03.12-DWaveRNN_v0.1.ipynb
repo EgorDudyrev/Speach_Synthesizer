{
 "cells": [
  {
   "cell_type": "code",
   "execution_count": 1,
   "metadata": {},
   "outputs": [],
   "source": [
    "import sys\n",
    "import os\n",
    "\n",
    "import numpy as np\n",
    "from numpy import random\n",
    "import pandas as pd\n",
    "import tensorflow as tf\n",
    "from pathlib import Path\n",
    "import matplotlib.pyplot as plt\n",
    "from IPython import display\n",
    "%matplotlib inline\n",
    "from tqdm import tqdm_notebook\n",
    "\n",
    "import importlib\n",
    "if '/opt/notebooks/' not in sys.path:\n",
    "    sys.path.append('/opt/notebooks/')\n",
    "\n",
    "try: importlib.reload(sl)\n",
    "except: import synt_lib as sl"
   ]
  },
  {
   "cell_type": "code",
   "execution_count": 2,
   "metadata": {},
   "outputs": [],
   "source": [
    "sess = tf.Session()"
   ]
  },
  {
   "cell_type": "code",
   "execution_count": 3,
   "metadata": {},
   "outputs": [],
   "source": [
    "DIRS = sl.get_dirs()\n",
    "M_PARAMS = sl.get_model_params()"
   ]
  },
  {
   "cell_type": "code",
   "execution_count": 4,
   "metadata": {},
   "outputs": [],
   "source": [
    "quant = 256*256#16#M_PARAMS['QUANTIZATION_CHANNELS']\n",
    "nbits = int(np.log2(quant))"
   ]
  },
  {
   "cell_type": "markdown",
   "metadata": {},
   "source": [
    "# Get Data"
   ]
  },
  {
   "cell_type": "markdown",
   "metadata": {},
   "source": [
    "Всего файлов:\n",
    "* Обучение (cv-valid-train): 391552\n",
    "* cv-valid-dev: 8152\n",
    "* cv-valid-test: 7990"
   ]
  },
  {
   "cell_type": "code",
   "execution_count": 5,
   "metadata": {},
   "outputs": [],
   "source": [
    "n_files = 3"
   ]
  },
  {
   "cell_type": "code",
   "execution_count": 6,
   "metadata": {},
   "outputs": [
    {
     "name": "stdout",
     "output_type": "stream",
     "text": [
      "(1, 161661, 2)\n"
     ]
    },
    {
     "data": {
      "text/plain": [
       "array([[-0.203125 ,  0.28125  ],\n",
       "       [-0.1484375, -0.15625  ],\n",
       "       [-0.1015625, -0.359375 ],\n",
       "       [-0.1015625, -0.359375 ],\n",
       "       [-0.1796875,  0.078125 ]])"
      ]
     },
     "execution_count": 6,
     "metadata": {},
     "output_type": "execute_result"
    }
   ],
   "source": [
    "wav_fnames = Path(DIRS['RAW_DATA']).rglob(\"*.wav\")\n",
    "Xs = []\n",
    "for idx, fname in enumerate(wav_fnames):\n",
    "    if idx==n_files: break\n",
    "    audio = sl.load_audio_not_one_hot(fname.as_posix(), quantization_channels=quant)\n",
    "    Xs.append(audio[:-1])\n",
    "    \n",
    "X = tf.concat(Xs,axis=0)\n",
    "X = tf.reshape(X, (1,-1,1))\n",
    "n = 2**(nbits//2)\n",
    "X = tf.concat([X//n, X%n], 2)\n",
    "X = (X-128)/128\n",
    "print(X.shape)\n",
    "X[0,1000:1005].eval(session=sess)"
   ]
  },
  {
   "cell_type": "code",
   "execution_count": 7,
   "metadata": {},
   "outputs": [],
   "source": [
    "def generate_batch(X, batch_size, truncated_len):\n",
    "    idxs = random.randint(0,X.shape[1]-truncated_len-1, size=batch_size)\n",
    "    x = tf.concat([X[:,idxs[i]:idxs[i]+truncated_len] for i in range(batch_size)],axis=0)\n",
    "    y = tf.concat([X[:,idxs[i]+1:idxs[i]+truncated_len+1] for i in range(batch_size)],axis=0)\n",
    "    return x,y"
   ]
  },
  {
   "cell_type": "markdown",
   "metadata": {},
   "source": [
    "# Build model"
   ]
  },
  {
   "cell_type": "code",
   "execution_count": 8,
   "metadata": {},
   "outputs": [],
   "source": [
    "class GRU:\n",
    "    \"\"\"Implementation of a Gated Recurrent Unit (GRU) as described in [1].\n",
    "    \n",
    "    [1] Chung, J., Gulcehre, C., Cho, K., & Bengio, Y. (2014). Empirical evaluation of gated recurrent neural networks on sequence modeling. arXiv preprint arXiv:1412.3555.\n",
    "    \n",
    "    Arguments\n",
    "    ---------\n",
    "    input_dimensions: int\n",
    "        The size of the input vectors (x_t).\n",
    "    hidden_size: int\n",
    "        The size of the hidden layer vectors (h_t).\n",
    "    dtype: obj\n",
    "        The datatype used for the variables and constants (optional).\n",
    "    \"\"\"\n",
    "    \n",
    "    def __init__(self, input_dimensions, hidden_size, dtype=tf.float64):\n",
    "        self.input_dimensions = input_dimensions\n",
    "        self.hidden_size = hidden_size\n",
    "        \n",
    "        # Weights for input vectors of shape (input_dimensions, hidden_size)\n",
    "        self.Wr = tf.Variable(tf.truncated_normal(dtype=dtype, shape=(self.input_dimensions, self.hidden_size), mean=0, stddev=0.01), name='Wr')\n",
    "        self.Wz = tf.Variable(tf.truncated_normal(dtype=dtype, shape=(self.input_dimensions, self.hidden_size), mean=0, stddev=0.01), name='Wz')\n",
    "        self.Wh = tf.Variable(tf.truncated_normal(dtype=dtype, shape=(self.input_dimensions, self.hidden_size), mean=0, stddev=0.01), name='Wh')\n",
    "        \n",
    "        # Weights for hidden vectors of shape (hidden_size, hidden_size)\n",
    "        self.Ur = tf.Variable(tf.truncated_normal(dtype=dtype, shape=(self.hidden_size, self.hidden_size), mean=0, stddev=0.01), name='Ur')\n",
    "        self.Uz = tf.Variable(tf.truncated_normal(dtype=dtype, shape=(self.hidden_size, self.hidden_size), mean=0, stddev=0.01), name='Uz')\n",
    "        self.Uh = tf.Variable(tf.truncated_normal(dtype=dtype, shape=(self.hidden_size, self.hidden_size), mean=0, stddev=0.01), name='Uh')\n",
    "        \n",
    "        # Biases for hidden vectors of shape (hidden_size,)\n",
    "        self.br = tf.Variable(tf.truncated_normal(dtype=dtype, shape=(self.hidden_size,), mean=0, stddev=0.01), name='br')\n",
    "        self.bz = tf.Variable(tf.truncated_normal(dtype=dtype, shape=(self.hidden_size,), mean=0, stddev=0.01), name='bz')\n",
    "        self.bh = tf.Variable(tf.truncated_normal(dtype=dtype, shape=(self.hidden_size,), mean=0, stddev=0.01), name='bh')\n",
    "        \n",
    "        # Define the input layer placeholder\n",
    "        self.input_layer = tf.placeholder(dtype=tf.float64, shape=(None, None, input_dimensions), name='input')\n",
    "        \n",
    "        # Put the time-dimension upfront for the scan operator\n",
    "        self.x_t = tf.transpose(self.input_layer, [1, 0, 2], name='x_t')\n",
    "        \n",
    "        # A little hack (to obtain the same shape as the input matrix) to define the initial hidden state h_0\n",
    "        self.h_0 = tf.matmul(self.x_t[0, :, :], tf.zeros(dtype=tf.float64, shape=(input_dimensions, hidden_size)), name='h_0')\n",
    "        \n",
    "        # Perform the scan operator\n",
    "        self.h_t_transposed = tf.scan(self.forward_pass, self.x_t, initializer=self.h_0, name='h_t_transposed')\n",
    "        \n",
    "        # Transpose the result back\n",
    "        self.h_t = tf.transpose(self.h_t_transposed, [1, 0, 2], name='h_t')\n",
    "\n",
    "    def forward_pass(self, h_tm1, x_t):\n",
    "        \"\"\"Perform a forward pass.\n",
    "        \n",
    "        Arguments\n",
    "        ---------\n",
    "        h_tm1: np.matrix\n",
    "            The hidden state at the previous timestep (h_{t-1}).\n",
    "        x_t: np.matrix\n",
    "            The input vector.\n",
    "        \"\"\"\n",
    "        # Definitions of z_t and r_t\n",
    "        z_t = tf.sigmoid(tf.matmul(x_t, self.Wz) + tf.matmul(h_tm1, self.Uz) + self.bz)\n",
    "        r_t = tf.sigmoid(tf.matmul(x_t, self.Wr) + tf.matmul(h_tm1, self.Ur) + self.br)\n",
    "        \n",
    "        # Definition of h~_t\n",
    "        h_proposal = tf.tanh(tf.matmul(x_t, self.Wh) + tf.matmul(tf.multiply(r_t, h_tm1), self.Uh) + self.bh)\n",
    "        \n",
    "        # Compute the next hidden state\n",
    "        h_t = tf.multiply(1 - z_t, h_tm1) + tf.multiply(z_t, h_proposal)\n",
    "        \n",
    "        return h_t"
   ]
  },
  {
   "cell_type": "code",
   "execution_count": 9,
   "metadata": {},
   "outputs": [],
   "source": [
    "# The input has 2 dimensions: dimension 0 is reserved for the first term and dimension 1 is reverved for the second term\n",
    "input_dimensions = 2\n",
    "\n",
    "# Arbitrary number for the size of the hidden state\n",
    "hidden_size = 2"
   ]
  },
  {
   "cell_type": "markdown",
   "metadata": {},
   "source": [
    "## V1"
   ]
  },
  {
   "cell_type": "code",
   "execution_count": 13,
   "metadata": {},
   "outputs": [
    {
     "name": "stdout",
     "output_type": "stream",
     "text": [
      "10 16000 161661 10\n"
     ]
    }
   ],
   "source": [
    "batch_size = 10\n",
    "truncated_len = M_PARAMS['SAMPLE_RATE']\n",
    "total_series_length = int(X.shape[1])\n",
    "num_epochs = 10#400#total_series_length//batch_size//truncated_len\n",
    "print(batch_size, truncated_len, total_series_length, num_epochs)"
   ]
  },
  {
   "cell_type": "markdown",
   "metadata": {},
   "source": [
    "10 secs per iteration => 1 min per 6 iters => 1 hour per 360 iters"
   ]
  },
  {
   "cell_type": "code",
   "execution_count": 14,
   "metadata": {},
   "outputs": [],
   "source": [
    "# Create a new instance of the GRU model\n",
    "gru = GRU(input_dimensions, hidden_size)"
   ]
  },
  {
   "cell_type": "code",
   "execution_count": 15,
   "metadata": {},
   "outputs": [],
   "source": [
    "output = gru.h_t\n",
    "# Create a placeholder for the expected output\n",
    "expected_output = tf.placeholder(dtype=tf.float64, shape=(batch_size, truncated_len, 2), name='expected_output')\n",
    "# Just use quadratic loss\n",
    "loss = tf.reduce_sum(0.5 * tf.pow(output - expected_output, 2)) / float(batch_size)\n",
    "# Use the Adam optimizer for training\n",
    "train_step = tf.train.AdamOptimizer().minimize(loss)"
   ]
  },
  {
   "cell_type": "code",
   "execution_count": 16,
   "metadata": {},
   "outputs": [],
   "source": [
    "# Initialize all the variables\n",
    "init_variables = tf.global_variables_initializer()\n",
    "sess.run(init_variables)"
   ]
  },
  {
   "cell_type": "code",
   "execution_count": 17,
   "metadata": {},
   "outputs": [
    {
     "data": {
      "application/vnd.jupyter.widget-view+json": {
       "model_id": "c553c4e4af04438c959312945aaf7e26",
       "version_major": 2,
       "version_minor": 0
      },
      "text/plain": [
       "HBox(children=(IntProgress(value=0, max=10), HTML(value='')))"
      ]
     },
     "metadata": {},
     "output_type": "display_data"
    },
    {
     "data": {
      "image/png": "[encoded data removed]",
      "text/plain": [
       "<Figure size 432x288 with 1 Axes>"
      ]
     },
     "metadata": {
      "needs_background": "light"
     },
     "output_type": "display_data"
    },
    {
     "name": "stdout",
     "output_type": "stream",
     "text": [
      "Iteration: 0, train loss: 5261.8815, test loss: 5302.8900\n",
      "\n"
     ]
    }
   ],
   "source": [
    "# Initialize the losses\n",
    "train_losses = []\n",
    "validation_losses = []\n",
    "\n",
    "# Perform all the iterations\n",
    "for epoch in tqdm_notebook(range(num_epochs)):\n",
    "    X_train, Y_train = generate_batch(X, batch_size, truncated_len)\n",
    "    X_test, Y_test = generate_batch(X, batch_size, truncated_len)\n",
    "    X_train, Y_train, X_test, Y_test = sess.run([X_train, Y_train, X_test, Y_test])\n",
    "    \n",
    "    # Compute the losses\n",
    "    _, train_loss = sess.run([train_step, loss], feed_dict={gru.input_layer: X_train, expected_output: Y_train})\n",
    "    validation_loss = sess.run(loss, feed_dict={gru.input_layer: X_test, expected_output: Y_test})\n",
    "    \n",
    "    # Log the losses\n",
    "    train_losses += [train_loss]\n",
    "    validation_losses += [validation_loss]\n",
    "    \n",
    "    # Display an update every 50 iterations\n",
    "    if epoch % 50 == 0:\n",
    "        plt.plot(train_losses, '-b', label='Train loss')\n",
    "        plt.plot(validation_losses, '-r', label='Validation loss')\n",
    "        plt.legend(loc=0)\n",
    "        plt.title('Loss')\n",
    "        plt.xlabel('Iteration')\n",
    "        plt.ylabel('Loss')\n",
    "        plt.show()\n",
    "        print('Iteration: %d, train loss: %.4f, test loss: %.4f' % (epoch, train_loss, validation_loss))"
   ]
  },
  {
   "cell_type": "markdown",
   "metadata": {},
   "source": [
    "# Sound generation"
   ]
  },
  {
   "cell_type": "code",
   "execution_count": 21,
   "metadata": {},
   "outputs": [
    {
     "data": {
      "text/plain": [
       "16000"
      ]
     },
     "execution_count": 21,
     "metadata": {},
     "output_type": "execute_result"
    }
   ],
   "source": [
    "M_PARAMS['SAMPLE_RATE']"
   ]
  },
  {
   "cell_type": "code",
   "execution_count": 22,
   "metadata": {},
   "outputs": [
    {
     "data": {
      "image/png": "[encoded data removed]",
      "text/plain": [
       "<Figure size 432x288 with 1 Axes>"
      ]
     },
     "metadata": {
      "needs_background": "light"
     },
     "output_type": "display_data"
    }
   ],
   "source": [
    "for i in range(len(Xs)):\n",
    "    t = Xs[i]\n",
    "    scale = M_PARAMS['SAMPLE_RATE']//50 # 1seconds divide by 50 parts\n",
    "    plt.plot(sess.run([tf.reduce_mean(t[idx*scale:(idx+1)*scale]) \n",
    "                       for idx in range(int(t.shape[0])//scale)]), label=i)\n",
    "plt.ylim(0, 256*256)\n",
    "plt.show()"
   ]
  },
  {
   "cell_type": "code",
   "execution_count": 23,
   "metadata": {},
   "outputs": [
    {
     "data": {
      "text/plain": [
       "array([[[ 0, -1]]])"
      ]
     },
     "execution_count": 23,
     "metadata": {},
     "output_type": "execute_result"
    }
   ],
   "source": [
    "num_pieces = 1\n",
    "generated = np.array([0,-1]*num_pieces).reshape(num_pieces,1,2)\n",
    "generated"
   ]
  },
  {
   "cell_type": "code",
   "execution_count": 24,
   "metadata": {},
   "outputs": [
    {
     "data": {
      "application/vnd.jupyter.widget-view+json": {
       "model_id": "f17232be560b4186adb75dff61178fe7",
       "version_major": 2,
       "version_minor": 0
      },
      "text/plain": [
       "HBox(children=(IntProgress(value=0, max=64000), HTML(value='')))"
      ]
     },
     "metadata": {},
     "output_type": "display_data"
    },
    {
     "name": "stdout",
     "output_type": "stream",
     "text": [
      "\n"
     ]
    }
   ],
   "source": [
    "for i in tqdm_notebook(range(M_PARAMS['SAMPLE_RATE']*4)): # 1 seconds of 'speach'\n",
    "    curX = generated[:,-1,:].reshape(num_pieces,-1,2)\n",
    "    curY = sess.run(output, feed_dict={gru.input_layer: curX})\n",
    "    generated = np.concatenate([generated, curY],axis=1)"
   ]
  },
  {
   "cell_type": "code",
   "execution_count": 25,
   "metadata": {},
   "outputs": [],
   "source": [
    "gen_to_wav = generated*128+128\n",
    "gen_to_wav = np.int32((gen_to_wav[:,:,0]*256+gen_to_wav[:,:,1]).round())\n",
    "gen_to_wav = tf.convert_to_tensor(gen_to_wav)"
   ]
  },
  {
   "cell_type": "code",
   "execution_count": 26,
   "metadata": {},
   "outputs": [
    {
     "data": {
      "text/plain": [
       "[<matplotlib.lines.Line2D at 0x7fc2761240b8>]"
      ]
     },
     "execution_count": 26,
     "metadata": {},
     "output_type": "execute_result"
    },
    {
     "data": {
      "image/png": "[encoded data removed]",
      "text/plain": [
       "<Figure size 432x288 with 1 Axes>"
      ]
     },
     "metadata": {
      "needs_background": "light"
     },
     "output_type": "display_data"
    }
   ],
   "source": [
    "plt.plot(audio.eval(session=sess), label='real')\n",
    "plt.plot(gen_to_wav[0].eval(session=sess), label='generated')\n",
    "plt.plot(np.int32([np.sin(x/1000)*16000+32256 for x in range(audio.shape[0])]))"
   ]
  },
  {
   "cell_type": "code",
   "execution_count": 27,
   "metadata": {},
   "outputs": [],
   "source": [
    "sl.write_audio_not_one_hot(audio=gen_to_wav[0], filename='output_0.wav', session=sess, quantization_channels=quant)"
   ]
  },
  {
   "cell_type": "markdown",
   "metadata": {},
   "source": [
    "## V2"
   ]
  },
  {
   "cell_type": "code",
   "execution_count": 23,
   "metadata": {},
   "outputs": [
    {
     "name": "stdout",
     "output_type": "stream",
     "text": [
      "50 16000 161661 200\n"
     ]
    }
   ],
   "source": [
    "batch_size = 50\n",
    "truncated_len = M_PARAMS['SAMPLE_RATE']\n",
    "total_series_length = int(X.shape[1])\n",
    "num_epochs = 200#total_series_length//batch_size//truncated_len\n",
    "print(batch_size, truncated_len, total_series_length, num_epochs)"
   ]
  },
  {
   "cell_type": "markdown",
   "metadata": {},
   "source": [
    "10 secs per iteration => 1 min per 6 iters => 1 hour per 360 iters"
   ]
  },
  {
   "cell_type": "code",
   "execution_count": 24,
   "metadata": {},
   "outputs": [],
   "source": [
    "# Create a new instance of the GRU model\n",
    "gru = GRU(input_dimensions, hidden_size)"
   ]
  },
  {
   "cell_type": "code",
   "execution_count": 25,
   "metadata": {},
   "outputs": [],
   "source": [
    "output = gru.h_t\n",
    "# Create a placeholder for the expected output\n",
    "expected_output = tf.placeholder(dtype=tf.float64, shape=(batch_size, truncated_len, 2), name='expected_output')\n",
    "# Just use quadratic loss\n",
    "loss = tf.reduce_sum(0.5 * tf.pow(output - expected_output, 2)) / float(batch_size)\n",
    "# Use the Adam optimizer for training\n",
    "train_step = tf.train.AdamOptimizer().minimize(loss)"
   ]
  },
  {
   "cell_type": "code",
   "execution_count": 26,
   "metadata": {},
   "outputs": [],
   "source": [
    "# Initialize all the variables\n",
    "init_variables = tf.global_variables_initializer()\n",
    "sess.run(init_variables)"
   ]
  },
  {
   "cell_type": "code",
   "execution_count": null,
   "metadata": {},
   "outputs": [
    {
     "data": {
      "application/vnd.jupyter.widget-view+json": {
       "model_id": "9d99c262c4674fd18edf965631c2fd34",
       "version_major": 2,
       "version_minor": 0
      },
      "text/plain": [
       "HBox(children=(IntProgress(value=0, max=200), HTML(value='')))"
      ]
     },
     "metadata": {},
     "output_type": "display_data"
    },
    {
     "data": {
      "image/png": "[encoded data removed]",
      "text/plain": [
       "<Figure size 432x288 with 1 Axes>"
      ]
     },
     "metadata": {
      "needs_background": "light"
     },
     "output_type": "display_data"
    },
    {
     "name": "stdout",
     "output_type": "stream",
     "text": [
      "Iteration: 0, train loss: 5583.5897, test loss: 5617.7384\n"
     ]
    }
   ],
   "source": [
    "# Initialize the losses\n",
    "train_losses = []\n",
    "validation_losses = []\n",
    "\n",
    "# Perform all the iterations\n",
    "for epoch in tqdm_notebook(range(num_epochs)):\n",
    "    X_train, Y_train = generate_batch(X, batch_size, truncated_len)\n",
    "    X_test, Y_test = generate_batch(X, batch_size, truncated_len)\n",
    "    X_train, Y_train, X_test, Y_test = sess.run([X_train, Y_train, X_test, Y_test])\n",
    "    \n",
    "    # Compute the losses\n",
    "    _, train_loss = sess.run([train_step, loss], feed_dict={gru.input_layer: X_train, expected_output: Y_train})\n",
    "    validation_loss = sess.run(loss, feed_dict={gru.input_layer: X_test, expected_output: Y_test})\n",
    "    \n",
    "    # Log the losses\n",
    "    train_losses += [train_loss]\n",
    "    validation_losses += [validation_loss]\n",
    "    \n",
    "    # Display an update every 50 iterations\n",
    "    if epoch % 50 == 0:\n",
    "        plt.plot(train_losses, '-b', label='Train loss')\n",
    "        plt.plot(validation_losses, '-r', label='Validation loss')\n",
    "        plt.legend(loc=0)\n",
    "        plt.title('Loss')\n",
    "        plt.xlabel('Iteration')\n",
    "        plt.ylabel('Loss')\n",
    "        plt.show()\n",
    "        print('Iteration: %d, train loss: %.4f, test loss: %.4f' % (epoch, train_loss, validation_loss))"
   ]
  },
  {
   "cell_type": "markdown",
   "metadata": {},
   "source": [
    "# Sound generation"
   ]
  },
  {
   "cell_type": "code",
   "execution_count": null,
   "metadata": {},
   "outputs": [],
   "source": [
    "M_PARAMS['SAMPLE_RATE']"
   ]
  },
  {
   "cell_type": "code",
   "execution_count": null,
   "metadata": {},
   "outputs": [],
   "source": [
    "for i in range(len(Xs)):\n",
    "    t = Xs[i]\n",
    "    scale = M_PARAMS['SAMPLE_RATE']//50 # 1seconds divide by 50 parts\n",
    "    plt.plot(sess.run([tf.reduce_mean(t[idx*scale:(idx+1)*scale]) \n",
    "                       for idx in range(int(t.shape[0])//scale)]), label=i)\n",
    "plt.ylim(0, 256*256)\n",
    "plt.show()"
   ]
  },
  {
   "cell_type": "code",
   "execution_count": null,
   "metadata": {},
   "outputs": [],
   "source": [
    "num_pieces = 1\n",
    "generated = np.array([0,-1]*num_pieces).reshape(num_pieces,1,2)\n",
    "generated"
   ]
  },
  {
   "cell_type": "code",
   "execution_count": null,
   "metadata": {},
   "outputs": [],
   "source": [
    "for i in tqdm_notebook(range(M_PARAMS['SAMPLE_RATE']*4)): # 1 seconds of 'speach'\n",
    "    curX = generated[:,-1,:].reshape(num_pieces,-1,2)\n",
    "    curY = sess.run(output, feed_dict={gru.input_layer: curX})\n",
    "    generated = np.concatenate([generated, curY],axis=1)"
   ]
  },
  {
   "cell_type": "code",
   "execution_count": null,
   "metadata": {},
   "outputs": [],
   "source": [
    "gen_to_wav = generated*128+128\n",
    "gen_to_wav = np.int32((gen_to_wav[:,:,0]*256+gen_to_wav[:,:,1]).round())\n",
    "gen_to_wav = tf.convert_to_tensor(gen_to_wav)"
   ]
  },
  {
   "cell_type": "code",
   "execution_count": null,
   "metadata": {},
   "outputs": [],
   "source": [
    "plt.plot(audio.eval(session=sess), label='real')\n",
    "plt.plot(gen_to_wav[0].eval(session=sess), label='generated')\n",
    "plt.plot(np.int32([np.sin(x/1000)*16000+32256 for x in range(audio.shape[0])]))"
   ]
  },
  {
   "cell_type": "code",
   "execution_count": null,
   "metadata": {},
   "outputs": [],
   "source": [
    "sl.write_audio_not_one_hot(audio=gen_to_wav[0], filename='output_1.wav', session=sess, quantization_channels=quant)"
   ]
  }
 ],
 "metadata": {
  "kernelspec": {
   "display_name": "Python 3",
   "language": "python",
   "name": "python3"
  },
  "language_info": {
   "codemirror_mode": {
    "name": "ipython",
    "version": 3
   },
   "file_extension": ".py",
   "mimetype": "text/x-python",
   "name": "python",
   "nbconvert_exporter": "python",
   "pygments_lexer": "ipython3",
   "version": "3.6.8"
  }
 },
 "nbformat": 4,
 "nbformat_minor": 2
}
