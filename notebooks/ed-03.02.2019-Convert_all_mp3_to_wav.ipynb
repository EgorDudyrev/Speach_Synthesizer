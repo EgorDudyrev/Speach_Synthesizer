{
 "cells": [
  {
   "cell_type": "code",
   "execution_count": 1,
   "metadata": {},
   "outputs": [],
   "source": [
    "import os\n",
    "import sys\n",
    "import importlib\n",
    "sys.path.append('/opt/notebooks/')\n",
    "  \n",
    "import numpy as np\n",
    "from tqdm import tqdm_notebook\n",
    "from joblib import Parallel, delayed\n",
    "import subprocess\n",
    "from pathlib import Path\n",
    "\n",
    "try: importlib.reload(sl)\n",
    "except: import synt_lib as sl"
   ]
  },
  {
   "cell_type": "code",
   "execution_count": 2,
   "metadata": {},
   "outputs": [],
   "source": [
    "DIRS = sl.get_dirs()\n",
    "M_PARAMS = sl.get_model_params()"
   ]
  },
  {
   "cell_type": "markdown",
   "metadata": {},
   "source": [
    "# Get all mp3 files"
   ]
  },
  {
   "cell_type": "code",
   "execution_count": 3,
   "metadata": {},
   "outputs": [],
   "source": [
    "def convert_file(path, ext_to='.wav'):\n",
    "    if isinstance(path, Path):\n",
    "        path = path.as_posix()\n",
    "    ext_from = '.'+path.split('.')[-1]\n",
    "    newpath = path.replace(ext_from, ext_to)\n",
    "    if os.path.isfile(newpath):\n",
    "        return 2, newpath\n",
    "    \n",
    "    try:\n",
    "        subprocess.run(['ffmpeg', '-loglevel', 'panic', '-i', path, '-ar', str(M_PARAMS['SAMPLE_RATE']), newpath])\n",
    "        return 1, newpath\n",
    "    except Exception as e:\n",
    "        print(e)\n",
    "        return 0, newpath"
   ]
  },
  {
   "cell_type": "markdown",
   "metadata": {},
   "source": [
    "Remove old wav files"
   ]
  },
  {
   "cell_type": "code",
   "execution_count": 4,
   "metadata": {},
   "outputs": [],
   "source": [
    "result = Path(DIRS['RAW_DATA']).rglob(\"*.mp3\")\n",
    "res_len = len(list(result))\n",
    "result = Path(DIRS['RAW_DATA']).rglob(\"*.mp3\")"
   ]
  },
  {
   "cell_type": "code",
   "execution_count": 5,
   "metadata": {},
   "outputs": [
    {
     "data": {
      "application/vnd.jupyter.widget-view+json": {
       "model_id": "d9370fca09994c85be8b5b989045e457",
       "version_major": 2,
       "version_minor": 0
      },
      "text/plain": [
       "HBox(children=(IntProgress(value=0, max=380368), HTML(value='')))"
      ]
     },
     "metadata": {},
     "output_type": "display_data"
    },
    {
     "name": "stdout",
     "output_type": "stream",
     "text": [
      "\n"
     ]
    }
   ],
   "source": [
    "for fname in tqdm_notebook(result, total=res_len):\n",
    "    newfname = fname.as_posix().replace('.mp3','.wav')\n",
    "    if os.path.isfile(newfname):\n",
    "        subprocess.run(['rm', newfname])"
   ]
  },
  {
   "cell_type": "markdown",
   "metadata": {},
   "source": [
    "Convert to new wav files"
   ]
  },
  {
   "cell_type": "code",
   "execution_count": 6,
   "metadata": {},
   "outputs": [],
   "source": [
    "result = Path(DIRS['RAW_DATA']).rglob(\"*.mp3\")\n",
    "res_len = len(list(result))\n",
    "result = Path(DIRS['RAW_DATA']).rglob(\"*.mp3\")"
   ]
  },
  {
   "cell_type": "code",
   "execution_count": 7,
   "metadata": {},
   "outputs": [
    {
     "data": {
      "text/plain": [
       "380368"
      ]
     },
     "execution_count": 7,
     "metadata": {},
     "output_type": "execute_result"
    }
   ],
   "source": [
    "res_len"
   ]
  },
  {
   "cell_type": "code",
   "execution_count": 8,
   "metadata": {},
   "outputs": [
    {
     "name": "stderr",
     "output_type": "stream",
     "text": [
      "[Parallel(n_jobs=4)]: Using backend LokyBackend with 4 concurrent workers.\n",
      "[Parallel(n_jobs=4)]: Done  17 tasks      | elapsed:    1.4s\n",
      "[Parallel(n_jobs=4)]: Done  90 tasks      | elapsed:    3.7s\n",
      "[Parallel(n_jobs=4)]: Done 213 tasks      | elapsed:    7.6s\n",
      "[Parallel(n_jobs=4)]: Done 384 tasks      | elapsed:   13.2s\n",
      "[Parallel(n_jobs=4)]: Done 605 tasks      | elapsed:   20.5s\n",
      "[Parallel(n_jobs=4)]: Done 874 tasks      | elapsed:   29.8s\n",
      "[Parallel(n_jobs=4)]: Done 1193 tasks      | elapsed:   40.7s\n",
      "[Parallel(n_jobs=4)]: Done 1560 tasks      | elapsed:   53.2s\n",
      "[Parallel(n_jobs=4)]: Done 1977 tasks      | elapsed:  1.1min\n",
      "[Parallel(n_jobs=4)]: Done 2442 tasks      | elapsed:  1.5min\n",
      "[Parallel(n_jobs=4)]: Done 2957 tasks      | elapsed:  1.8min\n",
      "[Parallel(n_jobs=4)]: Done 3520 tasks      | elapsed:  2.1min\n",
      "[Parallel(n_jobs=4)]: Done 4133 tasks      | elapsed:  2.5min\n",
      "[Parallel(n_jobs=4)]: Done 4794 tasks      | elapsed:  2.8min\n",
      "[Parallel(n_jobs=4)]: Done 5505 tasks      | elapsed:  3.3min\n",
      "[Parallel(n_jobs=4)]: Done 6264 tasks      | elapsed:  3.8min\n",
      "[Parallel(n_jobs=4)]: Done 7073 tasks      | elapsed:  4.3min\n",
      "[Parallel(n_jobs=4)]: Done 7930 tasks      | elapsed:  4.8min\n",
      "[Parallel(n_jobs=4)]: Done 8837 tasks      | elapsed:  5.3min\n",
      "[Parallel(n_jobs=4)]: Done 9792 tasks      | elapsed:  5.9min\n",
      "[Parallel(n_jobs=4)]: Done 10797 tasks      | elapsed:  6.5min\n",
      "[Parallel(n_jobs=4)]: Done 11850 tasks      | elapsed:  7.2min\n",
      "[Parallel(n_jobs=4)]: Done 12953 tasks      | elapsed:  8.0min\n",
      "[Parallel(n_jobs=4)]: Done 14104 tasks      | elapsed:  8.8min\n",
      "[Parallel(n_jobs=4)]: Done 15305 tasks      | elapsed:  9.8min\n",
      "[Parallel(n_jobs=4)]: Done 16554 tasks      | elapsed: 10.9min\n",
      "[Parallel(n_jobs=4)]: Done 17853 tasks      | elapsed: 12.3min\n",
      "[Parallel(n_jobs=4)]: Done 19200 tasks      | elapsed: 13.9min\n",
      "[Parallel(n_jobs=4)]: Done 20597 tasks      | elapsed: 15.4min\n",
      "[Parallel(n_jobs=4)]: Done 22042 tasks      | elapsed: 17.1min\n",
      "[Parallel(n_jobs=4)]: Done 23537 tasks      | elapsed: 18.4min\n",
      "[Parallel(n_jobs=4)]: Done 25080 tasks      | elapsed: 19.7min\n",
      "[Parallel(n_jobs=4)]: Done 26673 tasks      | elapsed: 21.1min\n",
      "[Parallel(n_jobs=4)]: Done 28314 tasks      | elapsed: 22.5min\n",
      "[Parallel(n_jobs=4)]: Done 30005 tasks      | elapsed: 23.9min\n",
      "[Parallel(n_jobs=4)]: Done 31744 tasks      | elapsed: 25.4min\n",
      "[Parallel(n_jobs=4)]: Done 34284 tasks      | elapsed: 27.2min\n",
      "[Parallel(n_jobs=4)]: Done 37958 tasks      | elapsed: 29.3min\n",
      "[Parallel(n_jobs=4)]: Done 41732 tasks      | elapsed: 31.7min\n",
      "[Parallel(n_jobs=4)]: Done 45602 tasks      | elapsed: 34.2min\n",
      "[Parallel(n_jobs=4)]: Done 49572 tasks      | elapsed: 36.6min\n",
      "[Parallel(n_jobs=4)]: Done 53638 tasks      | elapsed: 39.1min\n",
      "[Parallel(n_jobs=4)]: Done 57804 tasks      | elapsed: 41.6min\n",
      "[Parallel(n_jobs=4)]: Done 62066 tasks      | elapsed: 44.3min\n",
      "[Parallel(n_jobs=4)]: Done 66428 tasks      | elapsed: 46.9min\n",
      "[Parallel(n_jobs=4)]: Done 70886 tasks      | elapsed: 49.6min\n",
      "[Parallel(n_jobs=4)]: Done 75444 tasks      | elapsed: 52.4min\n",
      "[Parallel(n_jobs=4)]: Done 80098 tasks      | elapsed: 55.2min\n",
      "[Parallel(n_jobs=4)]: Done 84852 tasks      | elapsed: 58.1min\n",
      "[Parallel(n_jobs=4)]: Done 89702 tasks      | elapsed: 61.1min\n",
      "[Parallel(n_jobs=4)]: Done 94652 tasks      | elapsed: 64.2min\n",
      "[Parallel(n_jobs=4)]: Done 99698 tasks      | elapsed: 67.3min\n",
      "[Parallel(n_jobs=4)]: Done 104844 tasks      | elapsed: 70.3min\n",
      "[Parallel(n_jobs=4)]: Done 110086 tasks      | elapsed: 73.3min\n",
      "[Parallel(n_jobs=4)]: Done 115428 tasks      | elapsed: 76.3min\n",
      "[Parallel(n_jobs=4)]: Done 120866 tasks      | elapsed: 79.4min\n",
      "[Parallel(n_jobs=4)]: Done 126404 tasks      | elapsed: 82.6min\n",
      "[Parallel(n_jobs=4)]: Done 132038 tasks      | elapsed: 85.8min\n",
      "[Parallel(n_jobs=4)]: Done 137772 tasks      | elapsed: 89.1min\n",
      "[Parallel(n_jobs=4)]: Done 143602 tasks      | elapsed: 92.4min\n",
      "[Parallel(n_jobs=4)]: Done 149532 tasks      | elapsed: 95.8min\n",
      "[Parallel(n_jobs=4)]: Done 155558 tasks      | elapsed: 99.4min\n",
      "[Parallel(n_jobs=4)]: Done 161684 tasks      | elapsed: 103.0min\n",
      "[Parallel(n_jobs=4)]: Done 167906 tasks      | elapsed: 106.6min\n",
      "[Parallel(n_jobs=4)]: Done 173915 tasks      | elapsed: 110.4min\n",
      "[Parallel(n_jobs=4)]: Done 177124 tasks      | elapsed: 112.3min\n",
      "[Parallel(n_jobs=4)]: Done 180383 tasks      | elapsed: 114.1min\n",
      "[Parallel(n_jobs=4)]: Done 183690 tasks      | elapsed: 116.1min\n",
      "[Parallel(n_jobs=4)]: Done 187047 tasks      | elapsed: 118.0min\n",
      "[Parallel(n_jobs=4)]: Done 190452 tasks      | elapsed: 120.0min\n",
      "[Parallel(n_jobs=4)]: Done 193907 tasks      | elapsed: 122.1min\n",
      "[Parallel(n_jobs=4)]: Done 197410 tasks      | elapsed: 124.1min\n",
      "[Parallel(n_jobs=4)]: Done 200963 tasks      | elapsed: 126.2min\n",
      "[Parallel(n_jobs=4)]: Done 204564 tasks      | elapsed: 128.3min\n",
      "[Parallel(n_jobs=4)]: Done 208215 tasks      | elapsed: 130.4min\n",
      "[Parallel(n_jobs=4)]: Done 211914 tasks      | elapsed: 132.6min\n",
      "[Parallel(n_jobs=4)]: Done 215663 tasks      | elapsed: 134.8min\n",
      "[Parallel(n_jobs=4)]: Done 219460 tasks      | elapsed: 137.0min\n",
      "[Parallel(n_jobs=4)]: Done 223307 tasks      | elapsed: 139.3min\n",
      "[Parallel(n_jobs=4)]: Done 227202 tasks      | elapsed: 141.5min\n",
      "[Parallel(n_jobs=4)]: Done 231147 tasks      | elapsed: 143.8min\n",
      "[Parallel(n_jobs=4)]: Done 235140 tasks      | elapsed: 146.2min\n",
      "[Parallel(n_jobs=4)]: Done 239183 tasks      | elapsed: 148.5min\n",
      "[Parallel(n_jobs=4)]: Done 243274 tasks      | elapsed: 151.0min\n",
      "[Parallel(n_jobs=4)]: Done 247415 tasks      | elapsed: 153.4min\n",
      "[Parallel(n_jobs=4)]: Done 251604 tasks      | elapsed: 155.8min\n",
      "[Parallel(n_jobs=4)]: Done 255843 tasks      | elapsed: 158.3min\n",
      "[Parallel(n_jobs=4)]: Done 260130 tasks      | elapsed: 160.8min\n",
      "[Parallel(n_jobs=4)]: Done 264467 tasks      | elapsed: 163.3min\n",
      "[Parallel(n_jobs=4)]: Done 268852 tasks      | elapsed: 165.9min\n",
      "[Parallel(n_jobs=4)]: Done 273287 tasks      | elapsed: 168.5min\n",
      "[Parallel(n_jobs=4)]: Done 277770 tasks      | elapsed: 171.1min\n",
      "[Parallel(n_jobs=4)]: Done 282303 tasks      | elapsed: 173.8min\n",
      "[Parallel(n_jobs=4)]: Done 286884 tasks      | elapsed: 176.4min\n",
      "[Parallel(n_jobs=4)]: Done 291515 tasks      | elapsed: 179.2min\n",
      "[Parallel(n_jobs=4)]: Done 296194 tasks      | elapsed: 181.9min\n",
      "[Parallel(n_jobs=4)]: Done 300923 tasks      | elapsed: 184.7min\n",
      "[Parallel(n_jobs=4)]: Done 305700 tasks      | elapsed: 187.4min\n",
      "[Parallel(n_jobs=4)]: Done 310527 tasks      | elapsed: 190.3min\n",
      "[Parallel(n_jobs=4)]: Done 315402 tasks      | elapsed: 193.1min\n",
      "[Parallel(n_jobs=4)]: Done 320327 tasks      | elapsed: 196.0min\n",
      "[Parallel(n_jobs=4)]: Done 325300 tasks      | elapsed: 198.9min\n",
      "[Parallel(n_jobs=4)]: Done 330323 tasks      | elapsed: 201.8min\n",
      "[Parallel(n_jobs=4)]: Done 335394 tasks      | elapsed: 204.8min\n",
      "[Parallel(n_jobs=4)]: Done 340515 tasks      | elapsed: 207.8min\n",
      "[Parallel(n_jobs=4)]: Done 345684 tasks      | elapsed: 210.8min\n",
      "[Parallel(n_jobs=4)]: Done 350903 tasks      | elapsed: 213.9min\n",
      "[Parallel(n_jobs=4)]: Done 356170 tasks      | elapsed: 217.0min\n",
      "[Parallel(n_jobs=4)]: Done 361487 tasks      | elapsed: 220.1min\n",
      "[Parallel(n_jobs=4)]: Done 366852 tasks      | elapsed: 223.2min\n",
      "[Parallel(n_jobs=4)]: Done 372267 tasks      | elapsed: 226.4min\n",
      "[Parallel(n_jobs=4)]: Done 377730 tasks      | elapsed: 229.5min\n"
     ]
    },
    {
     "ename": "KeyboardInterrupt",
     "evalue": "",
     "output_type": "error",
     "traceback": [
      "\u001b[0;31m---------------------------------------------------------------------------\u001b[0m",
      "\u001b[0;31mKeyboardInterrupt\u001b[0m                         Traceback (most recent call last)",
      "\u001b[0;32m<timed exec>\u001b[0m in \u001b[0;36m<module>\u001b[0;34m\u001b[0m\n",
      "\u001b[0;32m~/anaconda3/lib/python3.6/site-packages/joblib/parallel.py\u001b[0m in \u001b[0;36m__call__\u001b[0;34m(self, iterable)\u001b[0m\n\u001b[1;32m    932\u001b[0m \u001b[0;34m\u001b[0m\u001b[0m\n\u001b[1;32m    933\u001b[0m             \u001b[0;32mwith\u001b[0m \u001b[0mself\u001b[0m\u001b[0;34m.\u001b[0m\u001b[0m_backend\u001b[0m\u001b[0;34m.\u001b[0m\u001b[0mretrieval_context\u001b[0m\u001b[0;34m(\u001b[0m\u001b[0;34m)\u001b[0m\u001b[0;34m:\u001b[0m\u001b[0;34m\u001b[0m\u001b[0;34m\u001b[0m\u001b[0m\n\u001b[0;32m--> 934\u001b[0;31m                 \u001b[0mself\u001b[0m\u001b[0;34m.\u001b[0m\u001b[0mretrieve\u001b[0m\u001b[0;34m(\u001b[0m\u001b[0;34m)\u001b[0m\u001b[0;34m\u001b[0m\u001b[0;34m\u001b[0m\u001b[0m\n\u001b[0m\u001b[1;32m    935\u001b[0m             \u001b[0;31m# Make sure that we get a last message telling us we are done\u001b[0m\u001b[0;34m\u001b[0m\u001b[0;34m\u001b[0m\u001b[0;34m\u001b[0m\u001b[0m\n\u001b[1;32m    936\u001b[0m             \u001b[0melapsed_time\u001b[0m \u001b[0;34m=\u001b[0m \u001b[0mtime\u001b[0m\u001b[0;34m.\u001b[0m\u001b[0mtime\u001b[0m\u001b[0;34m(\u001b[0m\u001b[0;34m)\u001b[0m \u001b[0;34m-\u001b[0m \u001b[0mself\u001b[0m\u001b[0;34m.\u001b[0m\u001b[0m_start_time\u001b[0m\u001b[0;34m\u001b[0m\u001b[0;34m\u001b[0m\u001b[0m\n",
      "\u001b[0;32m~/anaconda3/lib/python3.6/site-packages/joblib/parallel.py\u001b[0m in \u001b[0;36mretrieve\u001b[0;34m(self)\u001b[0m\n\u001b[1;32m    831\u001b[0m             \u001b[0;32mtry\u001b[0m\u001b[0;34m:\u001b[0m\u001b[0;34m\u001b[0m\u001b[0;34m\u001b[0m\u001b[0m\n\u001b[1;32m    832\u001b[0m                 \u001b[0;32mif\u001b[0m \u001b[0mgetattr\u001b[0m\u001b[0;34m(\u001b[0m\u001b[0mself\u001b[0m\u001b[0;34m.\u001b[0m\u001b[0m_backend\u001b[0m\u001b[0;34m,\u001b[0m \u001b[0;34m'supports_timeout'\u001b[0m\u001b[0;34m,\u001b[0m \u001b[0;32mFalse\u001b[0m\u001b[0;34m)\u001b[0m\u001b[0;34m:\u001b[0m\u001b[0;34m\u001b[0m\u001b[0;34m\u001b[0m\u001b[0m\n\u001b[0;32m--> 833\u001b[0;31m                     \u001b[0mself\u001b[0m\u001b[0;34m.\u001b[0m\u001b[0m_output\u001b[0m\u001b[0;34m.\u001b[0m\u001b[0mextend\u001b[0m\u001b[0;34m(\u001b[0m\u001b[0mjob\u001b[0m\u001b[0;34m.\u001b[0m\u001b[0mget\u001b[0m\u001b[0;34m(\u001b[0m\u001b[0mtimeout\u001b[0m\u001b[0;34m=\u001b[0m\u001b[0mself\u001b[0m\u001b[0;34m.\u001b[0m\u001b[0mtimeout\u001b[0m\u001b[0;34m)\u001b[0m\u001b[0;34m)\u001b[0m\u001b[0;34m\u001b[0m\u001b[0;34m\u001b[0m\u001b[0m\n\u001b[0m\u001b[1;32m    834\u001b[0m                 \u001b[0;32melse\u001b[0m\u001b[0;34m:\u001b[0m\u001b[0;34m\u001b[0m\u001b[0;34m\u001b[0m\u001b[0m\n\u001b[1;32m    835\u001b[0m                     \u001b[0mself\u001b[0m\u001b[0;34m.\u001b[0m\u001b[0m_output\u001b[0m\u001b[0;34m.\u001b[0m\u001b[0mextend\u001b[0m\u001b[0;34m(\u001b[0m\u001b[0mjob\u001b[0m\u001b[0;34m.\u001b[0m\u001b[0mget\u001b[0m\u001b[0;34m(\u001b[0m\u001b[0;34m)\u001b[0m\u001b[0;34m)\u001b[0m\u001b[0;34m\u001b[0m\u001b[0;34m\u001b[0m\u001b[0m\n",
      "\u001b[0;32m~/anaconda3/lib/python3.6/site-packages/joblib/_parallel_backends.py\u001b[0m in \u001b[0;36mwrap_future_result\u001b[0;34m(future, timeout)\u001b[0m\n\u001b[1;32m    519\u001b[0m         AsyncResults.get from multiprocessing.\"\"\"\n\u001b[1;32m    520\u001b[0m         \u001b[0;32mtry\u001b[0m\u001b[0;34m:\u001b[0m\u001b[0;34m\u001b[0m\u001b[0;34m\u001b[0m\u001b[0m\n\u001b[0;32m--> 521\u001b[0;31m             \u001b[0;32mreturn\u001b[0m \u001b[0mfuture\u001b[0m\u001b[0;34m.\u001b[0m\u001b[0mresult\u001b[0m\u001b[0;34m(\u001b[0m\u001b[0mtimeout\u001b[0m\u001b[0;34m=\u001b[0m\u001b[0mtimeout\u001b[0m\u001b[0;34m)\u001b[0m\u001b[0;34m\u001b[0m\u001b[0;34m\u001b[0m\u001b[0m\n\u001b[0m\u001b[1;32m    522\u001b[0m         \u001b[0;32mexcept\u001b[0m \u001b[0mLokyTimeoutError\u001b[0m\u001b[0;34m:\u001b[0m\u001b[0;34m\u001b[0m\u001b[0;34m\u001b[0m\u001b[0m\n\u001b[1;32m    523\u001b[0m             \u001b[0;32mraise\u001b[0m \u001b[0mTimeoutError\u001b[0m\u001b[0;34m(\u001b[0m\u001b[0;34m)\u001b[0m\u001b[0;34m\u001b[0m\u001b[0;34m\u001b[0m\u001b[0m\n",
      "\u001b[0;32m~/anaconda3/lib/python3.6/concurrent/futures/_base.py\u001b[0m in \u001b[0;36mresult\u001b[0;34m(self, timeout)\u001b[0m\n\u001b[1;32m    425\u001b[0m                 \u001b[0;32mreturn\u001b[0m \u001b[0mself\u001b[0m\u001b[0;34m.\u001b[0m\u001b[0m__get_result\u001b[0m\u001b[0;34m(\u001b[0m\u001b[0;34m)\u001b[0m\u001b[0;34m\u001b[0m\u001b[0;34m\u001b[0m\u001b[0m\n\u001b[1;32m    426\u001b[0m \u001b[0;34m\u001b[0m\u001b[0m\n\u001b[0;32m--> 427\u001b[0;31m             \u001b[0mself\u001b[0m\u001b[0;34m.\u001b[0m\u001b[0m_condition\u001b[0m\u001b[0;34m.\u001b[0m\u001b[0mwait\u001b[0m\u001b[0;34m(\u001b[0m\u001b[0mtimeout\u001b[0m\u001b[0;34m)\u001b[0m\u001b[0;34m\u001b[0m\u001b[0;34m\u001b[0m\u001b[0m\n\u001b[0m\u001b[1;32m    428\u001b[0m \u001b[0;34m\u001b[0m\u001b[0m\n\u001b[1;32m    429\u001b[0m             \u001b[0;32mif\u001b[0m \u001b[0mself\u001b[0m\u001b[0;34m.\u001b[0m\u001b[0m_state\u001b[0m \u001b[0;32min\u001b[0m \u001b[0;34m[\u001b[0m\u001b[0mCANCELLED\u001b[0m\u001b[0;34m,\u001b[0m \u001b[0mCANCELLED_AND_NOTIFIED\u001b[0m\u001b[0;34m]\u001b[0m\u001b[0;34m:\u001b[0m\u001b[0;34m\u001b[0m\u001b[0;34m\u001b[0m\u001b[0m\n",
      "\u001b[0;32m~/anaconda3/lib/python3.6/threading.py\u001b[0m in \u001b[0;36mwait\u001b[0;34m(self, timeout)\u001b[0m\n\u001b[1;32m    293\u001b[0m         \u001b[0;32mtry\u001b[0m\u001b[0;34m:\u001b[0m    \u001b[0;31m# restore state no matter what (e.g., KeyboardInterrupt)\u001b[0m\u001b[0;34m\u001b[0m\u001b[0;34m\u001b[0m\u001b[0m\n\u001b[1;32m    294\u001b[0m             \u001b[0;32mif\u001b[0m \u001b[0mtimeout\u001b[0m \u001b[0;32mis\u001b[0m \u001b[0;32mNone\u001b[0m\u001b[0;34m:\u001b[0m\u001b[0;34m\u001b[0m\u001b[0;34m\u001b[0m\u001b[0m\n\u001b[0;32m--> 295\u001b[0;31m                 \u001b[0mwaiter\u001b[0m\u001b[0;34m.\u001b[0m\u001b[0macquire\u001b[0m\u001b[0;34m(\u001b[0m\u001b[0;34m)\u001b[0m\u001b[0;34m\u001b[0m\u001b[0;34m\u001b[0m\u001b[0m\n\u001b[0m\u001b[1;32m    296\u001b[0m                 \u001b[0mgotit\u001b[0m \u001b[0;34m=\u001b[0m \u001b[0;32mTrue\u001b[0m\u001b[0;34m\u001b[0m\u001b[0;34m\u001b[0m\u001b[0m\n\u001b[1;32m    297\u001b[0m             \u001b[0;32melse\u001b[0m\u001b[0;34m:\u001b[0m\u001b[0;34m\u001b[0m\u001b[0;34m\u001b[0m\u001b[0m\n",
      "\u001b[0;31mKeyboardInterrupt\u001b[0m: "
     ]
    }
   ],
   "source": [
    "%%time\n",
    "res_data = Parallel(n_jobs=4, verbose=4)(delayed(convert_file)(path) for path in result);"
   ]
  },
  {
   "cell_type": "markdown",
   "metadata": {},
   "source": [
    "Кажется зависло. Запустим ещё раз"
   ]
  },
  {
   "cell_type": "code",
   "execution_count": 9,
   "metadata": {},
   "outputs": [],
   "source": [
    "result = Path(DIRS['RAW_DATA']).rglob(\"*.mp3\")\n",
    "res_len = len(list(result))\n",
    "result = Path(DIRS['RAW_DATA']).rglob(\"*.mp3\")"
   ]
  },
  {
   "cell_type": "code",
   "execution_count": 11,
   "metadata": {},
   "outputs": [],
   "source": [
    "result_wav = Path(DIRS['RAW_DATA']).rglob(\"*.wav\")\n",
    "res_len_wav = len(list(result_wav))\n",
    "result_wav = Path(DIRS['RAW_DATA']).rglob(\"*.wav\")"
   ]
  },
  {
   "cell_type": "code",
   "execution_count": 19,
   "metadata": {},
   "outputs": [
    {
     "data": {
      "text/plain": [
       "(380368, 380368)"
      ]
     },
     "execution_count": 19,
     "metadata": {},
     "output_type": "execute_result"
    }
   ],
   "source": [
    "res_len, res_len_wav"
   ]
  },
  {
   "cell_type": "markdown",
   "metadata": {},
   "source": [
    "А, нет. Всё отработало."
   ]
  }
 ],
 "metadata": {
  "kernelspec": {
   "display_name": "Python 3",
   "language": "python",
   "name": "python3"
  },
  "language_info": {
   "codemirror_mode": {
    "name": "ipython",
    "version": 3
   },
   "file_extension": ".py",
   "mimetype": "text/x-python",
   "name": "python",
   "nbconvert_exporter": "python",
   "pygments_lexer": "ipython3",
   "version": "3.6.8"
  }
 },
 "nbformat": 4,
 "nbformat_minor": 2
}
