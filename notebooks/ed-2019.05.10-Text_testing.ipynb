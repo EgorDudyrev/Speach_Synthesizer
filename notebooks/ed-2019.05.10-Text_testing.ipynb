{
 "cells": [
  {
   "cell_type": "code",
   "execution_count": 2,
   "metadata": {},
   "outputs": [],
   "source": [
    "import sys\n",
    "import os\n",
    "\n",
    "import numpy as np\n",
    "from numpy import random\n",
    "import pandas as pd\n",
    "import tensorflow as tf\n",
    "from pathlib import Path\n",
    "from joblib import Parallel, delayed\n",
    "import matplotlib.pyplot as plt\n",
    "import seaborn as sns\n",
    "import re\n",
    "import scipy.signal as sgn\n",
    "\n",
    "from IPython import display\n",
    "%matplotlib inline\n",
    "from tqdm import tqdm_notebook\n",
    "\n",
    "PARENT_DIR = os.path.realpath('..')\n",
    "import importlib\n",
    "if PARENT_DIR not in sys.path:\n",
    "    sys.path.append(PARENT_DIR)\n",
    "\n",
    "try: importlib.reload(sl)\n",
    "except: import synt_lib as sl"
   ]
  },
  {
   "cell_type": "code",
   "execution_count": 3,
   "metadata": {},
   "outputs": [],
   "source": [
    "from pathlib import Path\n",
    "import json"
   ]
  },
  {
   "cell_type": "code",
   "execution_count": 16,
   "metadata": {},
   "outputs": [],
   "source": [
    "DIRS = sl.get_dirs(parent_dir=PARENT_DIR)\n",
    "M_PARAMS = sl.get_model_params()"
   ]
  },
  {
   "cell_type": "code",
   "execution_count": 17,
   "metadata": {},
   "outputs": [],
   "source": [
    "DIRS['RAW_DATA'] = '/data/dudyrev/Speach_Synthesizer/raw_data/'"
   ]
  },
  {
   "cell_type": "code",
   "execution_count": 6,
   "metadata": {},
   "outputs": [],
   "source": [
    "quant = M_PARAMS['QUANTIZATION_CHANNELS']\n",
    "nbits = int(np.log2(quant))"
   ]
  },
  {
   "cell_type": "markdown",
   "metadata": {},
   "source": [
    "# Functions"
   ]
  },
  {
   "cell_type": "code",
   "execution_count": 98,
   "metadata": {},
   "outputs": [],
   "source": [
    "def align_file(path_txt):\n",
    "    if isinstance(path_txt, Path):\n",
    "        path_txt = path_txt.as_posix()\n",
    "    path_align = path_txt.replace('.txt','.align')\n",
    "    if os.path.isfile(path_align):\n",
    "        return 2, path_align\n",
    "    \n",
    "    path_wav = path_txt.replace('.txt', '.wav')\n",
    "    if not os.path.isfile(path_wav):\n",
    "        return 3, path_wav\n",
    "    \n",
    "    try:\n",
    "        with open(path_txt, 'rb') as f:\n",
    "            txt = f.read().strip().decode()\n",
    "        \n",
    "        tf.reset_default_graph()\n",
    "        audio = sl.load_audio_not_one_hot(path_wav)\n",
    "        with tf.Session() as sess:\n",
    "            init_variables = tf.global_variables_initializer()\n",
    "            sess.run(init_variables)\n",
    "            audio_ev = audio.eval(session=sess)\n",
    "\n",
    "        audio_ev_norm, audio_roll, lim, m = sl.align_audio(audio_ev, txt, window_size=1000)\n",
    "        if m is None:\n",
    "            path_align = None\n",
    "        else:\n",
    "            with open(path_align, 'wb') as f:\n",
    "                np.save(f,m)\n",
    "        return 1, path_align\n",
    "    except Exception as e:\n",
    "        print(e)\n",
    "        return 0, None\n",
    "    \n",
    "    return 1, path_align"
   ]
  },
  {
   "cell_type": "markdown",
   "metadata": {},
   "source": [
    "# Voxforge text"
   ]
  },
  {
   "cell_type": "raw",
   "metadata": {},
   "source": [
    "text_ds = pd.read_csv(DIRS['RAW_DATA']+'rus/voxforge_ru.csv', names=['wav','txt','dur'])\n",
    "print(text_ds.shape)\n",
    "text_ds.head()"
   ]
  },
  {
   "cell_type": "raw",
   "metadata": {},
   "source": [
    "text_ds['wav'] =  text_ds['wav'].apply(lambda x: x.replace('../data/ru_open_stt', DIRS['RAW_DATA']+'rus'))\n",
    "text_ds['txt'] =  text_ds['txt'].apply(lambda x: x.replace('../data/ru_open_stt', DIRS['RAW_DATA']+'rus'))"
   ]
  },
  {
   "cell_type": "raw",
   "metadata": {},
   "source": [
    "fname_txt, fname_wav = text_ds.loc[0,['txt','wav']]\n",
    "\n",
    "with open(fname_txt, 'rb') as f:\n",
    "    txtb = f.read().strip()#.decode()\n",
    "txt = txtb.decode()\n",
    "\n",
    "tf.reset_default_graph()\n",
    "audio = sl.load_audio_not_one_hot(fname_wav)\n",
    "with tf.Session() as sess:\n",
    "    init_variables = tf.global_variables_initializer()\n",
    "    sess.run(init_variables)\n",
    "    audio_ev = audio.eval(session=sess)\n",
    "\n",
    "audio_ev_norm, audio_roll, lim, m = sl.align_audio(audio_ev, txt, window_size=1000)"
   ]
  },
  {
   "cell_type": "code",
   "execution_count": 8,
   "metadata": {},
   "outputs": [
    {
     "data": {
      "text/plain": [
       "'/data/dudyrev/Speach_Synthesizer/raw_data/rus'"
      ]
     },
     "execution_count": 8,
     "metadata": {},
     "output_type": "execute_result"
    }
   ],
   "source": [
    "dir_ = (DIRS['RAW_DATA']+'rus').replace('//','/')\n",
    "dir_"
   ]
  },
  {
   "cell_type": "code",
   "execution_count": 24,
   "metadata": {},
   "outputs": [],
   "source": [
    "files_ds = pd.concat([pd.read_csv(DIRS['MANIFESTS']+f, names=['wav','txt','dur']) for f in os.listdir(DIRS['MANIFESTS'])])"
   ]
  },
  {
   "cell_type": "code",
   "execution_count": 25,
   "metadata": {},
   "outputs": [
    {
     "data": {
      "text/plain": [
       "(3387428, 3)"
      ]
     },
     "execution_count": 25,
     "metadata": {},
     "output_type": "execute_result"
    }
   ],
   "source": [
    "files_ds.shape"
   ]
  },
  {
   "cell_type": "code",
   "execution_count": 26,
   "metadata": {},
   "outputs": [
    {
     "data": {
      "text/html": [
       "<div>\n",
       "<style scoped>\n",
       "    .dataframe tbody tr th:only-of-type {\n",
       "        vertical-align: middle;\n",
       "    }\n",
       "\n",
       "    .dataframe tbody tr th {\n",
       "        vertical-align: top;\n",
       "    }\n",
       "\n",
       "    .dataframe thead th {\n",
       "        text-align: right;\n",
       "    }\n",
       "</style>\n",
       "<table border=\"1\" class=\"dataframe\">\n",
       "  <thead>\n",
       "    <tr style=\"text-align: right;\">\n",
       "      <th></th>\n",
       "      <th>wav</th>\n",
       "      <th>txt</th>\n",
       "      <th>dur</th>\n",
       "    </tr>\n",
       "  </thead>\n",
       "  <tbody>\n",
       "    <tr>\n",
       "      <th>0</th>\n",
       "      <td>../data/ru_open_stt/public_youtube700/f/47/0b1...</td>\n",
       "      <td>../data/ru_open_stt/public_youtube700/f/47/0b1...</td>\n",
       "      <td>0.5</td>\n",
       "    </tr>\n",
       "    <tr>\n",
       "      <th>1</th>\n",
       "      <td>../data/ru_open_stt/public_youtube700/8/c8/736...</td>\n",
       "      <td>../data/ru_open_stt/public_youtube700/8/c8/736...</td>\n",
       "      <td>0.5</td>\n",
       "    </tr>\n",
       "    <tr>\n",
       "      <th>2</th>\n",
       "      <td>../data/ru_open_stt/public_youtube700/1/1d/446...</td>\n",
       "      <td>../data/ru_open_stt/public_youtube700/1/1d/446...</td>\n",
       "      <td>0.5</td>\n",
       "    </tr>\n",
       "    <tr>\n",
       "      <th>3</th>\n",
       "      <td>../data/ru_open_stt/public_youtube700/8/5d/a7e...</td>\n",
       "      <td>../data/ru_open_stt/public_youtube700/8/5d/a7e...</td>\n",
       "      <td>0.5</td>\n",
       "    </tr>\n",
       "    <tr>\n",
       "      <th>4</th>\n",
       "      <td>../data/ru_open_stt/public_youtube700/7/5b/b97...</td>\n",
       "      <td>../data/ru_open_stt/public_youtube700/7/5b/b97...</td>\n",
       "      <td>0.5</td>\n",
       "    </tr>\n",
       "  </tbody>\n",
       "</table>\n",
       "</div>"
      ],
      "text/plain": [
       "                                                 wav  \\\n",
       "0  ../data/ru_open_stt/public_youtube700/f/47/0b1...   \n",
       "1  ../data/ru_open_stt/public_youtube700/8/c8/736...   \n",
       "2  ../data/ru_open_stt/public_youtube700/1/1d/446...   \n",
       "3  ../data/ru_open_stt/public_youtube700/8/5d/a7e...   \n",
       "4  ../data/ru_open_stt/public_youtube700/7/5b/b97...   \n",
       "\n",
       "                                                 txt  dur  \n",
       "0  ../data/ru_open_stt/public_youtube700/f/47/0b1...  0.5  \n",
       "1  ../data/ru_open_stt/public_youtube700/8/c8/736...  0.5  \n",
       "2  ../data/ru_open_stt/public_youtube700/1/1d/446...  0.5  \n",
       "3  ../data/ru_open_stt/public_youtube700/8/5d/a7e...  0.5  \n",
       "4  ../data/ru_open_stt/public_youtube700/7/5b/b97...  0.5  "
      ]
     },
     "execution_count": 26,
     "metadata": {},
     "output_type": "execute_result"
    }
   ],
   "source": [
    "files_ds.head()"
   ]
  },
  {
   "cell_type": "code",
   "execution_count": 51,
   "metadata": {},
   "outputs": [],
   "source": [
    "files_ds['wav'] = files_ds['wav'].apply(lambda f: f.replace('../data/ru_open_stt',DIRS['RAW_DATA']+'rus') if f is not None else None)\n",
    "files_ds['txt'] = files_ds['txt'].apply(lambda f: f.replace('../data/ru_open_stt',DIRS['RAW_DATA']+'rus') if f is not np.nan else None)"
   ]
  },
  {
   "cell_type": "code",
   "execution_count": 55,
   "metadata": {},
   "outputs": [],
   "source": [
    "files_ds['wav_exist'] = files_ds['wav'].apply(lambda f: os.path.isfile(f) if f is not None else False)\n",
    "files_ds['txt_exist'] = files_ds['txt'].apply(lambda f: os.path.isfile(f) if f is not None else False)"
   ]
  },
  {
   "cell_type": "code",
   "execution_count": 81,
   "metadata": {},
   "outputs": [],
   "source": [
    "files_ds.index = range(len(files_ds))\n",
    "files_ds['id'] = files_ds.index"
   ]
  },
  {
   "cell_type": "code",
   "execution_count": 85,
   "metadata": {},
   "outputs": [],
   "source": [
    "files_ds.to_csv(DIRS['MANIFESTS']+'/total.csv')"
   ]
  },
  {
   "cell_type": "code",
   "execution_count": 125,
   "metadata": {},
   "outputs": [],
   "source": [
    "result = list(Path(dir_).rglob(\"*.align\"))\n",
    "res_len = len(list(result))"
   ]
  },
  {
   "cell_type": "code",
   "execution_count": 126,
   "metadata": {},
   "outputs": [
    {
     "data": {
      "text/plain": [
       "3818"
      ]
     },
     "execution_count": 126,
     "metadata": {},
     "output_type": "execute_result"
    }
   ],
   "source": [
    "res_len"
   ]
  },
  {
   "cell_type": "code",
   "execution_count": 124,
   "metadata": {},
   "outputs": [],
   "source": [
    "files_ds.index = files_ds['wav']"
   ]
  },
  {
   "cell_type": "code",
   "execution_count": 115,
   "metadata": {},
   "outputs": [],
   "source": [
    "to_align_ds.index = to_align_ds['wav']"
   ]
  },
  {
   "cell_type": "code",
   "execution_count": 129,
   "metadata": {},
   "outputs": [
    {
     "data": {
      "application/vnd.jupyter.widget-view+json": {
       "model_id": "f08dd7d13629491d9fc2414b13f286c2",
       "version_major": 2,
       "version_minor": 0
      },
      "text/html": [
       "<p>Failed to display Jupyter Widget of type <code>HBox</code>.</p>\n",
       "<p>\n",
       "  If you're reading this message in the Jupyter Notebook or JupyterLab Notebook, it may mean\n",
       "  that the widgets JavaScript is still loading. If this message persists, it\n",
       "  likely means that the widgets JavaScript library is either not installed or\n",
       "  not enabled. See the <a href=\"https://ipywidgets.readthedocs.io/en/stable/user_install.html\">Jupyter\n",
       "  Widgets Documentation</a> for setup instructions.\n",
       "</p>\n",
       "<p>\n",
       "  If you're reading this message in another frontend (for example, a static\n",
       "  rendering on GitHub or <a href=\"https://nbviewer.jupyter.org/\">NBViewer</a>),\n",
       "  it may mean that your frontend doesn't currently support widgets.\n",
       "</p>\n"
      ],
      "text/plain": [
       "HBox(children=(IntProgress(value=0, max=3818), HTML(value='')))"
      ]
     },
     "metadata": {},
     "output_type": "display_data"
    }
   ],
   "source": [
    "for fname in tqdm_notebook(result,total=res_len):\n",
    "    fname = fname.as_posix()\n",
    "    files_ds.at[fname.replace('.align','.wav'),'align'] = fname"
   ]
  },
  {
   "cell_type": "code",
   "execution_count": 130,
   "metadata": {},
   "outputs": [],
   "source": [
    "files_ds.index = files_ds['id']"
   ]
  },
  {
   "cell_type": "code",
   "execution_count": 132,
   "metadata": {},
   "outputs": [],
   "source": [
    "files_ds['align_exist'] = -files_ds['align'].isna()"
   ]
  },
  {
   "cell_type": "code",
   "execution_count": 133,
   "metadata": {},
   "outputs": [],
   "source": [
    "files_ds.to_csv(DIRS['MANIFESTS']+'/total.csv')"
   ]
  },
  {
   "cell_type": "code",
   "execution_count": 134,
   "metadata": {},
   "outputs": [
    {
     "data": {
      "text/html": [
       "<div>\n",
       "<style scoped>\n",
       "    .dataframe tbody tr th:only-of-type {\n",
       "        vertical-align: middle;\n",
       "    }\n",
       "\n",
       "    .dataframe tbody tr th {\n",
       "        vertical-align: top;\n",
       "    }\n",
       "\n",
       "    .dataframe thead th {\n",
       "        text-align: right;\n",
       "    }\n",
       "</style>\n",
       "<table border=\"1\" class=\"dataframe\">\n",
       "  <thead>\n",
       "    <tr style=\"text-align: right;\">\n",
       "      <th></th>\n",
       "      <th>wav</th>\n",
       "      <th>txt</th>\n",
       "      <th>dur</th>\n",
       "      <th>wav_exist</th>\n",
       "      <th>txt_exist</th>\n",
       "      <th>id</th>\n",
       "      <th>align</th>\n",
       "      <th>align_exist</th>\n",
       "    </tr>\n",
       "    <tr>\n",
       "      <th>id</th>\n",
       "      <th></th>\n",
       "      <th></th>\n",
       "      <th></th>\n",
       "      <th></th>\n",
       "      <th></th>\n",
       "      <th></th>\n",
       "      <th></th>\n",
       "      <th></th>\n",
       "    </tr>\n",
       "  </thead>\n",
       "  <tbody>\n",
       "    <tr>\n",
       "      <th>0</th>\n",
       "      <td>/data/dudyrev/Speach_Synthesizer/raw_data/rus/...</td>\n",
       "      <td>/data/dudyrev/Speach_Synthesizer/raw_data/rus/...</td>\n",
       "      <td>0.5</td>\n",
       "      <td>False</td>\n",
       "      <td>False</td>\n",
       "      <td>0</td>\n",
       "      <td>NaN</td>\n",
       "      <td>False</td>\n",
       "    </tr>\n",
       "    <tr>\n",
       "      <th>1</th>\n",
       "      <td>/data/dudyrev/Speach_Synthesizer/raw_data/rus/...</td>\n",
       "      <td>/data/dudyrev/Speach_Synthesizer/raw_data/rus/...</td>\n",
       "      <td>0.5</td>\n",
       "      <td>False</td>\n",
       "      <td>False</td>\n",
       "      <td>1</td>\n",
       "      <td>NaN</td>\n",
       "      <td>False</td>\n",
       "    </tr>\n",
       "    <tr>\n",
       "      <th>2</th>\n",
       "      <td>/data/dudyrev/Speach_Synthesizer/raw_data/rus/...</td>\n",
       "      <td>/data/dudyrev/Speach_Synthesizer/raw_data/rus/...</td>\n",
       "      <td>0.5</td>\n",
       "      <td>False</td>\n",
       "      <td>False</td>\n",
       "      <td>2</td>\n",
       "      <td>NaN</td>\n",
       "      <td>False</td>\n",
       "    </tr>\n",
       "    <tr>\n",
       "      <th>3</th>\n",
       "      <td>/data/dudyrev/Speach_Synthesizer/raw_data/rus/...</td>\n",
       "      <td>/data/dudyrev/Speach_Synthesizer/raw_data/rus/...</td>\n",
       "      <td>0.5</td>\n",
       "      <td>False</td>\n",
       "      <td>False</td>\n",
       "      <td>3</td>\n",
       "      <td>NaN</td>\n",
       "      <td>False</td>\n",
       "    </tr>\n",
       "    <tr>\n",
       "      <th>4</th>\n",
       "      <td>/data/dudyrev/Speach_Synthesizer/raw_data/rus/...</td>\n",
       "      <td>/data/dudyrev/Speach_Synthesizer/raw_data/rus/...</td>\n",
       "      <td>0.5</td>\n",
       "      <td>False</td>\n",
       "      <td>False</td>\n",
       "      <td>4</td>\n",
       "      <td>NaN</td>\n",
       "      <td>False</td>\n",
       "    </tr>\n",
       "  </tbody>\n",
       "</table>\n",
       "</div>"
      ],
      "text/plain": [
       "                                                  wav  \\\n",
       "id                                                      \n",
       "0   /data/dudyrev/Speach_Synthesizer/raw_data/rus/...   \n",
       "1   /data/dudyrev/Speach_Synthesizer/raw_data/rus/...   \n",
       "2   /data/dudyrev/Speach_Synthesizer/raw_data/rus/...   \n",
       "3   /data/dudyrev/Speach_Synthesizer/raw_data/rus/...   \n",
       "4   /data/dudyrev/Speach_Synthesizer/raw_data/rus/...   \n",
       "\n",
       "                                                  txt  dur  wav_exist  \\\n",
       "id                                                                      \n",
       "0   /data/dudyrev/Speach_Synthesizer/raw_data/rus/...  0.5      False   \n",
       "1   /data/dudyrev/Speach_Synthesizer/raw_data/rus/...  0.5      False   \n",
       "2   /data/dudyrev/Speach_Synthesizer/raw_data/rus/...  0.5      False   \n",
       "3   /data/dudyrev/Speach_Synthesizer/raw_data/rus/...  0.5      False   \n",
       "4   /data/dudyrev/Speach_Synthesizer/raw_data/rus/...  0.5      False   \n",
       "\n",
       "    txt_exist  id align  align_exist  \n",
       "id                                    \n",
       "0       False   0   NaN        False  \n",
       "1       False   1   NaN        False  \n",
       "2       False   2   NaN        False  \n",
       "3       False   3   NaN        False  \n",
       "4       False   4   NaN        False  "
      ]
     },
     "execution_count": 134,
     "metadata": {},
     "output_type": "execute_result"
    }
   ],
   "source": [
    "files_ds.head()"
   ]
  },
  {
   "cell_type": "code",
   "execution_count": 135,
   "metadata": {},
   "outputs": [],
   "source": [
    "to_align_ds = files_ds[(files_ds['wav_exist'])&(files_ds['txt_exist'])&(-files_ds['align_exist'])]"
   ]
  },
  {
   "cell_type": "code",
   "execution_count": 136,
   "metadata": {},
   "outputs": [
    {
     "data": {
      "text/plain": [
       "((928434, 8), (3387428, 8), 0.2740822830773082)"
      ]
     },
     "execution_count": 136,
     "metadata": {},
     "output_type": "execute_result"
    }
   ],
   "source": [
    "to_align_ds.shape, files_ds.shape, to_align_ds.shape[0]/files_ds.shape[0]"
   ]
  },
  {
   "cell_type": "code",
   "execution_count": null,
   "metadata": {},
   "outputs": [],
   "source": [
    "n = 100\n",
    "i = 0\n",
    "for idx, path in tqdm_notebook(to_align_ds['txt'].iteritems(), total=len(to_align_ds)):\n",
    "    res, fname = align_file(path)\n",
    "    files_ds.loc[idx,'align'] = fname\n",
    "    files_ds.loc[idx,'align_exist'] = True if fname is not None else None\n",
    "    i += 1\n",
    "    if i%n==0:\n",
    "        files_ds.to_csv(DIRS['MANIFESTS']+'/total.csv')"
   ]
  },
  {
   "cell_type": "code",
   "execution_count": null,
   "metadata": {},
   "outputs": [],
   "source": []
  },
  {
   "cell_type": "code",
   "execution_count": null,
   "metadata": {},
   "outputs": [],
   "source": []
  },
  {
   "cell_type": "code",
   "execution_count": 26,
   "metadata": {},
   "outputs": [],
   "source": [
    "with open('/data/dudyrev/Speach_Synthesizer/raw_data/rus/private_buriy_audiobooks_2/6/ee/2e1edfbb1f87.align','rb') as f:\n",
    "    t = np.load(f)"
   ]
  },
  {
   "cell_type": "code",
   "execution_count": null,
   "metadata": {},
   "outputs": [],
   "source": []
  },
  {
   "cell_type": "code",
   "execution_count": null,
   "metadata": {},
   "outputs": [],
   "source": []
  },
  {
   "cell_type": "code",
   "execution_count": 20,
   "metadata": {},
   "outputs": [
    {
     "data": {
      "image/png": "[encoded data removed]",
      "text/plain": [
       "<Figure size 1440x720 with 1 Axes>"
      ]
     },
     "metadata": {
      "needs_background": "light"
     },
     "output_type": "display_data"
    }
   ],
   "source": [
    "plt.figure(figsize=(20,10))\n",
    "sl.plot_audio(audio_ev_norm, audio_roll, lim, m, ' '.join([c.replace(' ','_') for c in m[:,0]]))"
   ]
  },
  {
   "cell_type": "markdown",
   "metadata": {},
   "source": [
    "# Maximum text characteristics"
   ]
  },
  {
   "cell_type": "code",
   "execution_count": 1586,
   "metadata": {},
   "outputs": [
    {
     "data": {
      "application/vnd.jupyter.widget-view+json": {
       "model_id": "c5f9ef6f10714ee3a77805fd5814b41a",
       "version_major": 2,
       "version_minor": 0
      },
      "text/plain": [
       "HBox(children=(IntProgress(value=0, max=8344), HTML(value='')))"
      ]
     },
     "metadata": {},
     "output_type": "display_data"
    },
    {
     "name": "stdout",
     "output_type": "stream",
     "text": [
      "\n"
     ]
    }
   ],
   "source": [
    "chars = set()\n",
    "max_text_len = 0\n",
    "max_word_len = 0\n",
    "max_words_in_text = 0\n",
    "for fname in tqdm_notebook(txt_fnames):\n",
    "    with open(fname, 'rb') as f:\n",
    "        t = f.read().decode().strip()\n",
    "    [chars.add(x) for x in t];\n",
    "    max_text_len = max(max_text_len, len(t))\n",
    "    max_word_len = max(max_word_len,max([len(x) for x in t.split(' ')]))\n",
    "    max_words_in_text = max(max_words_in_text,len(t.split(' ')))"
   ]
  },
  {
   "cell_type": "code",
   "execution_count": 1587,
   "metadata": {},
   "outputs": [
    {
     "data": {
      "text/plain": [
       "(210, 20, 33, 34)"
      ]
     },
     "execution_count": 1587,
     "metadata": {},
     "output_type": "execute_result"
    }
   ],
   "source": [
    "max_text_len, max_word_len, max_words_in_text, len(chars)"
   ]
  },
  {
   "cell_type": "code",
   "execution_count": 86,
   "metadata": {},
   "outputs": [],
   "source": [
    "max_text_len = 210\n",
    "max_word_len = 35 #20\n",
    "max_words_in_text = 33"
   ]
  },
  {
   "cell_type": "code",
   "execution_count": 1588,
   "metadata": {},
   "outputs": [
    {
     "data": {
      "text/plain": [
       "7385"
      ]
     },
     "execution_count": 1588,
     "metadata": {},
     "output_type": "execute_result"
    }
   ],
   "source": [
    "211*35"
   ]
  },
  {
   "cell_type": "markdown",
   "metadata": {},
   "source": [
    "# Add text to Input features"
   ]
  },
  {
   "cell_type": "code",
   "execution_count": 21,
   "metadata": {},
   "outputs": [],
   "source": [
    "char_to_int = {k: idx for idx,k in enumerate('\\0 абвгдежзийклмнопрстуфхцчшщъыьэюяё')}"
   ]
  },
  {
   "cell_type": "code",
   "execution_count": 70,
   "metadata": {},
   "outputs": [
    {
     "data": {
      "text/plain": [
       "'/opt/notebooks/raw_data/rus/voxforge_ru/a/40/d5bd4d55f3d8.wav'"
      ]
     },
     "execution_count": 70,
     "metadata": {},
     "output_type": "execute_result"
    }
   ],
   "source": [
    "fname_wav, fname_txt, fname_align = text_ds.loc[0,['wav','txt','align']]\n",
    "fname_wav"
   ]
  },
  {
   "cell_type": "code",
   "execution_count": 71,
   "metadata": {},
   "outputs": [],
   "source": [
    "data = sl.load_data([fname_wav])"
   ]
  },
  {
   "cell_type": "code",
   "execution_count": 72,
   "metadata": {},
   "outputs": [],
   "source": [
    "oh = sl.load_text_oh([fname_align])"
   ]
  },
  {
   "cell_type": "code",
   "execution_count": 73,
   "metadata": {},
   "outputs": [
    {
     "data": {
      "text/plain": [
       "(<tf.Tensor 'concat_59:0' shape=(10, 100, 1228) dtype=float64>,\n",
       " <tf.Tensor 'concat_60:0' shape=(10, 100, 2) dtype=float64>,\n",
       " <tf.Tensor 'concat_64:0' shape=(10, 100, 1228) dtype=float64>,\n",
       " <tf.Tensor 'concat_65:0' shape=(10, 100, 2) dtype=float64>)"
      ]
     },
     "execution_count": 73,
     "metadata": {},
     "output_type": "execute_result"
    }
   ],
   "source": [
    "sl.get_train_test(data, batch_size=10, truncated_len=100, text_oh=oh)"
   ]
  },
  {
   "cell_type": "code",
   "execution_count": null,
   "metadata": {},
   "outputs": [],
   "source": []
  },
  {
   "cell_type": "code",
   "execution_count": 65,
   "metadata": {},
   "outputs": [
    {
     "data": {
      "text/plain": [
       "<tf.Tensor 'X_data_1:0' shape=(1, 25988, 2) dtype=float64>"
      ]
     },
     "execution_count": 65,
     "metadata": {},
     "output_type": "execute_result"
    }
   ],
   "source": [
    "data"
   ]
  },
  {
   "cell_type": "code",
   "execution_count": 66,
   "metadata": {},
   "outputs": [
    {
     "data": {
      "text/plain": [
       "<tf.Tensor 'Reshape_7:0' shape=(1, 25989, 1225) dtype=float64>"
      ]
     },
     "execution_count": 66,
     "metadata": {},
     "output_type": "execute_result"
    }
   ],
   "source": [
    "oh"
   ]
  },
  {
   "cell_type": "code",
   "execution_count": 57,
   "metadata": {},
   "outputs": [
    {
     "ename": "TypeError",
     "evalue": "generate_batch() missing 2 required positional arguments: 'batch_size' and 'truncated_len'",
     "output_type": "error",
     "traceback": [
      "\u001b[0;31m---------------------------------------------------------------------------\u001b[0m",
      "\u001b[0;31mTypeError\u001b[0m                                 Traceback (most recent call last)",
      "\u001b[0;32m<ipython-input-57-e1e9f09878ae>\u001b[0m in \u001b[0;36m<module>\u001b[0;34m\u001b[0m\n\u001b[0;32m----> 1\u001b[0;31m \u001b[0msl\u001b[0m\u001b[0;34m.\u001b[0m\u001b[0mgenerate_batch\u001b[0m\u001b[0;34m(\u001b[0m\u001b[0mdata\u001b[0m\u001b[0;34m)\u001b[0m\u001b[0;34m\u001b[0m\u001b[0;34m\u001b[0m\u001b[0m\n\u001b[0m",
      "\u001b[0;31mTypeError\u001b[0m: generate_batch() missing 2 required positional arguments: 'batch_size' and 'truncated_len'"
     ]
    }
   ],
   "source": [
    "sl.generate_batch(data, 10, 100, text_oh=)"
   ]
  }
 ],
 "metadata": {
  "kernelspec": {
   "display_name": "Python 3",
   "language": "python",
   "name": "python3"
  },
  "language_info": {
   "codemirror_mode": {
    "name": "ipython",
    "version": 3
   },
   "file_extension": ".py",
   "mimetype": "text/x-python",
   "name": "python",
   "nbconvert_exporter": "python",
   "pygments_lexer": "ipython3",
   "version": "3.6.4"
  }
 },
 "nbformat": 4,
 "nbformat_minor": 2
}
