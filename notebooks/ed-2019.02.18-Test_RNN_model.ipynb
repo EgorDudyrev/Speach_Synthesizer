{
 "cells": [
  {
   "cell_type": "code",
   "execution_count": 1,
   "metadata": {},
   "outputs": [],
   "source": [
    "import sys\n",
    "import os\n",
    "\n",
    "import numpy as np\n",
    "import pandas as pd\n",
    "import tensorflow as tf\n",
    "from pathlib import Path\n",
    "import matplotlib.pyplot as plt\n",
    "from tqdm import tqdm_notebook\n",
    "\n",
    "import importlib\n",
    "if '/opt/notebooks/' not in sys.path:\n",
    "    sys.path.append('/opt/notebooks/')\n",
    "\n",
    "try: importlib.reload(sl)\n",
    "except: import synt_lib as sl"
   ]
  },
  {
   "cell_type": "code",
   "execution_count": 2,
   "metadata": {},
   "outputs": [],
   "source": [
    "sess = tf.Session()"
   ]
  },
  {
   "cell_type": "code",
   "execution_count": 3,
   "metadata": {},
   "outputs": [],
   "source": [
    "DIRS = sl.get_dirs()\n",
    "M_PARAMS = sl.get_model_params()"
   ]
  },
  {
   "cell_type": "markdown",
   "metadata": {},
   "source": [
    "# Get Data"
   ]
  },
  {
   "cell_type": "code",
   "execution_count": 4,
   "metadata": {},
   "outputs": [],
   "source": [
    "n_files = 3"
   ]
  },
  {
   "cell_type": "code",
   "execution_count": 5,
   "metadata": {},
   "outputs": [
    {
     "name": "stdout",
     "output_type": "stream",
     "text": [
      "(1, 161663, 8)\n"
     ]
    },
    {
     "data": {
      "text/plain": [
       "array([[[0., 0., 0., ..., 0., 0., 0.],\n",
       "        [0., 0., 0., ..., 0., 0., 0.],\n",
       "        [0., 0., 0., ..., 0., 0., 0.],\n",
       "        ...,\n",
       "        [0., 0., 0., ..., 0., 0., 0.],\n",
       "        [0., 0., 0., ..., 0., 0., 0.],\n",
       "        [0., 0., 0., ..., 0., 0., 0.]]], dtype=float32)"
      ]
     },
     "execution_count": 5,
     "metadata": {},
     "output_type": "execute_result"
    }
   ],
   "source": [
    "wav_fnames = Path(DIRS['RAW_DATA']).rglob(\"*.wav\")\n",
    "Xs = []\n",
    "for idx, fname in enumerate(wav_fnames):\n",
    "    if idx==n_files: break\n",
    "    Xs.append(sl.load_audio_one_hot(fname.as_posix()))\n",
    "    \n",
    "X = tf.concat(Xs,axis=1)\n",
    "Y, X = X[:,1:,:], X[:,:-1,:]\n",
    "print(X.shape)\n",
    "X.eval(session=sess)"
   ]
  },
  {
   "cell_type": "markdown",
   "metadata": {},
   "source": [
    "# Build model"
   ]
  },
  {
   "cell_type": "code",
   "execution_count": 6,
   "metadata": {},
   "outputs": [],
   "source": [
    "num_epochs = 10\n",
    "total_series_length = 50000\n",
    "truncated_backprop_length = 10#M_PARAMS['SAMPLE_RATE']\n",
    "quant = M_PARAMS['QUANTIZATION_CHANNELS']\n",
    "batch_size = 5\n",
    "num_batches = 5#total_series_length//batch_size//truncated_backprop_length"
   ]
  },
  {
   "cell_type": "code",
   "execution_count": 7,
   "metadata": {},
   "outputs": [],
   "source": [
    "with tf.name_scope('Model_0.1'):\n",
    "    batchX_placeholder = tf.placeholder(tf.float32, [None, truncated_backprop_length, quant])\n",
    "    batchY_placeholder = tf.placeholder(tf.int32, [None, truncated_backprop_length, quant])\n",
    "    init_state = tf.placeholder(tf.float32, [None, quant])\n",
    "    \n",
    "    W = tf.Variable(np.random.rand(quant*2, quant), dtype=tf.float32)\n",
    "    b = tf.Variable(np.zeros((1,quant)), dtype=tf.float32)\n",
    "    \n",
    "    inputs_series = tf.unstack(batchX_placeholder, axis=1)\n",
    "    labels_series = tf.unstack(batchY_placeholder, axis=1)\n",
    "    \n",
    "    # Forward pass\n",
    "    current_state = init_state\n",
    "    states_series = []\n",
    "    for current_input in inputs_series:\n",
    "        current_input = tf.reshape(current_input, [-1, quant])\n",
    "        input_and_state_concatenated = tf.concat([current_input, current_state], axis=1)  # Increasing number of columns\n",
    "\n",
    "        next_state = tf.tanh(tf.matmul(input_and_state_concatenated, W) + b)  # Broadcasted addition\n",
    "        states_series.append(next_state)\n",
    "        current_state = next_state\n",
    "    \n",
    "    losses = [tf.nn.softmax_cross_entropy_with_logits_v2(logits=logits, labels=labels) for logits, labels in zip(states_series,labels_series)]\n",
    "    total_loss = tf.reduce_mean(losses)\n",
    "\n",
    "    train_step = tf.train.AdagradOptimizer(0.3).minimize(total_loss)"
   ]
  },
  {
   "cell_type": "code",
   "execution_count": 8,
   "metadata": {},
   "outputs": [
    {
     "name": "stdout",
     "output_type": "stream",
     "text": [
      "WARNING:tensorflow:From /root/anaconda3/lib/python3.6/site-packages/tensorflow/python/util/tf_should_use.py:189: initialize_all_variables (from tensorflow.python.ops.variables) is deprecated and will be removed after 2017-03-02.\n",
      "Instructions for updating:\n",
      "Use `tf.global_variables_initializer` instead.\n"
     ]
    },
    {
     "data": {
      "application/vnd.jupyter.widget-view+json": {
       "model_id": "dcd52712aad7475881ebe617a900ca18",
       "version_major": 2,
       "version_minor": 0
      },
      "text/plain": [
       "HBox(children=(IntProgress(value=0, description='epochs', max=10, style=ProgressStyle(description_width='initi…"
      ]
     },
     "metadata": {},
     "output_type": "display_data"
    },
    {
     "data": {
      "application/vnd.jupyter.widget-view+json": {
       "model_id": "",
       "version_major": 2,
       "version_minor": 0
      },
      "text/plain": [
       "HBox(children=(IntProgress(value=0, description='batches', max=5, style=ProgressStyle(description_width='initi…"
      ]
     },
     "metadata": {},
     "output_type": "display_data"
    },
    {
     "name": "stdout",
     "output_type": "stream",
     "text": [
      "Step 0 Loss 2.0805519\n"
     ]
    },
    {
     "data": {
      "application/vnd.jupyter.widget-view+json": {
       "model_id": "",
       "version_major": 2,
       "version_minor": 0
      },
      "text/plain": [
       "HBox(children=(IntProgress(value=0, description='batches', max=5, style=ProgressStyle(description_width='initi…"
      ]
     },
     "metadata": {},
     "output_type": "display_data"
    },
    {
     "name": "stdout",
     "output_type": "stream",
     "text": [
      "Step 0 Loss 2.0546153\n"
     ]
    },
    {
     "data": {
      "application/vnd.jupyter.widget-view+json": {
       "model_id": "",
       "version_major": 2,
       "version_minor": 0
      },
      "text/plain": [
       "HBox(children=(IntProgress(value=0, description='batches', max=5, style=ProgressStyle(description_width='initi…"
      ]
     },
     "metadata": {},
     "output_type": "display_data"
    },
    {
     "name": "stdout",
     "output_type": "stream",
     "text": [
      "Step 0 Loss 2.0398853\n"
     ]
    },
    {
     "data": {
      "application/vnd.jupyter.widget-view+json": {
       "model_id": "",
       "version_major": 2,
       "version_minor": 0
      },
      "text/plain": [
       "HBox(children=(IntProgress(value=0, description='batches', max=5, style=ProgressStyle(description_width='initi…"
      ]
     },
     "metadata": {},
     "output_type": "display_data"
    },
    {
     "name": "stdout",
     "output_type": "stream",
     "text": [
      "Step 0 Loss 2.0270007\n"
     ]
    },
    {
     "data": {
      "application/vnd.jupyter.widget-view+json": {
       "model_id": "",
       "version_major": 2,
       "version_minor": 0
      },
      "text/plain": [
       "HBox(children=(IntProgress(value=0, description='batches', max=5, style=ProgressStyle(description_width='initi…"
      ]
     },
     "metadata": {},
     "output_type": "display_data"
    },
    {
     "name": "stdout",
     "output_type": "stream",
     "text": [
      "Step 0 Loss 2.0127583\n"
     ]
    },
    {
     "data": {
      "application/vnd.jupyter.widget-view+json": {
       "model_id": "",
       "version_major": 2,
       "version_minor": 0
      },
      "text/plain": [
       "HBox(children=(IntProgress(value=0, description='batches', max=5, style=ProgressStyle(description_width='initi…"
      ]
     },
     "metadata": {},
     "output_type": "display_data"
    },
    {
     "name": "stdout",
     "output_type": "stream",
     "text": [
      "Step 0 Loss 1.9925693\n"
     ]
    },
    {
     "data": {
      "application/vnd.jupyter.widget-view+json": {
       "model_id": "",
       "version_major": 2,
       "version_minor": 0
      },
      "text/plain": [
       "HBox(children=(IntProgress(value=0, description='batches', max=5, style=ProgressStyle(description_width='initi…"
      ]
     },
     "metadata": {},
     "output_type": "display_data"
    },
    {
     "name": "stdout",
     "output_type": "stream",
     "text": [
      "Step 0 Loss 1.9446006\n"
     ]
    },
    {
     "data": {
      "application/vnd.jupyter.widget-view+json": {
       "model_id": "",
       "version_major": 2,
       "version_minor": 0
      },
      "text/plain": [
       "HBox(children=(IntProgress(value=0, description='batches', max=5, style=ProgressStyle(description_width='initi…"
      ]
     },
     "metadata": {},
     "output_type": "display_data"
    },
    {
     "name": "stdout",
     "output_type": "stream",
     "text": [
      "Step 0 Loss 1.4053218\n"
     ]
    },
    {
     "data": {
      "application/vnd.jupyter.widget-view+json": {
       "model_id": "",
       "version_major": 2,
       "version_minor": 0
      },
      "text/plain": [
       "HBox(children=(IntProgress(value=0, description='batches', max=5, style=ProgressStyle(description_width='initi…"
      ]
     },
     "metadata": {},
     "output_type": "display_data"
    },
    {
     "name": "stdout",
     "output_type": "stream",
     "text": [
      "Step 0 Loss 1.9872631\n"
     ]
    },
    {
     "data": {
      "application/vnd.jupyter.widget-view+json": {
       "model_id": "",
       "version_major": 2,
       "version_minor": 0
      },
      "text/plain": [
       "HBox(children=(IntProgress(value=0, description='batches', max=5, style=ProgressStyle(description_width='initi…"
      ]
     },
     "metadata": {},
     "output_type": "display_data"
    },
    {
     "name": "stdout",
     "output_type": "stream",
     "text": [
      "Step 0 Loss 1.8037987\n",
      "\n"
     ]
    }
   ],
   "source": [
    "with tf.Session() as sess:\n",
    "    sess.run(tf.initialize_all_variables())\n",
    "    loss_list = []\n",
    "\n",
    "    for epoch_idx in tqdm_notebook(range(num_epochs),desc='epochs'):\n",
    "        #splits = np.random.randint(X.shape[1]-truncated_backprop_length, size=batch_size)\n",
    "        #x = [X[0][i:i+truncated_backprop_length] for i in splits]\n",
    "        #y = [Y[0][i:i+truncated_backprop_length] for i in splits]\n",
    "        #x,y = X,Y\n",
    "        x,y = tf.concat([X for i in range(batch_size)],axis=0), tf.concat([Y for i in range(batch_size)],axis=0)\n",
    "        \n",
    "        _current_state = np.zeros((batch_size, quant))\n",
    "\n",
    "\n",
    "        for batch_idx in tqdm_notebook(range(num_batches),desc='batches',leave=False):\n",
    "            start_idx = batch_idx * truncated_backprop_length\n",
    "            end_idx = start_idx + truncated_backprop_length\n",
    "\n",
    "            batchX = x[:,start_idx:end_idx]\n",
    "            batchY = y[:,start_idx:end_idx]\n",
    "\n",
    "            _total_loss, _train_step, _current_state, _predictions_series = sess.run(\n",
    "                [total_loss, train_step, current_state, states_series],\n",
    "                feed_dict={\n",
    "                    batchX_placeholder:batchX.eval(session=sess),\n",
    "                    batchY_placeholder:batchY.eval(session=sess),\n",
    "                    init_state:_current_state\n",
    "                })\n",
    "\n",
    "            loss_list.append(_total_loss)\n",
    "\n",
    "            if batch_idx%100 == 0:\n",
    "                print(\"Step\",batch_idx, \"Loss\", _total_loss)"
   ]
  },
  {
   "cell_type": "code",
   "execution_count": 9,
   "metadata": {},
   "outputs": [
    {
     "data": {
      "text/plain": [
       "array([[-0.9244657 ,  0.98841417, -0.15107745, -0.9210405 ,  0.9982101 ,\n",
       "         0.99956936,  0.99976385,  0.99974996],\n",
       "       [-0.9244657 ,  0.98841417, -0.15107745, -0.9210405 ,  0.9982101 ,\n",
       "         0.99956936,  0.99976385,  0.99974996],\n",
       "       [-0.9244657 ,  0.98841417, -0.15107745, -0.9210405 ,  0.9982101 ,\n",
       "         0.99956936,  0.99976385,  0.99974996],\n",
       "       [-0.9244657 ,  0.98841417, -0.15107745, -0.9210405 ,  0.9982101 ,\n",
       "         0.99956936,  0.99976385,  0.99974996],\n",
       "       [-0.9244657 ,  0.98841417, -0.15107745, -0.9210405 ,  0.9982101 ,\n",
       "         0.99956936,  0.99976385,  0.99974996]], dtype=float32)"
      ]
     },
     "execution_count": 9,
     "metadata": {},
     "output_type": "execute_result"
    }
   ],
   "source": [
    "_predictions_series[0]"
   ]
  },
  {
   "cell_type": "code",
   "execution_count": 10,
   "metadata": {},
   "outputs": [
    {
     "data": {
      "text/plain": [
       "array([[-0.8843582 ,  0.98823774, -0.20143431, -0.9226279 ,  0.9986449 ,\n",
       "         0.99943626,  0.99971575,  0.9996946 ],\n",
       "       [-0.8843582 ,  0.98823774, -0.20143431, -0.9226279 ,  0.9986449 ,\n",
       "         0.99943626,  0.99971575,  0.9996946 ],\n",
       "       [-0.8843582 ,  0.98823774, -0.20143431, -0.9226279 ,  0.9986449 ,\n",
       "         0.99943626,  0.99971575,  0.9996946 ],\n",
       "       [-0.8843582 ,  0.98823774, -0.20143431, -0.9226279 ,  0.9986449 ,\n",
       "         0.99943626,  0.99971575,  0.9996946 ],\n",
       "       [-0.8843582 ,  0.98823774, -0.20143431, -0.9226279 ,  0.9986449 ,\n",
       "         0.99943626,  0.99971575,  0.9996946 ]], dtype=float32)"
      ]
     },
     "execution_count": 10,
     "metadata": {},
     "output_type": "execute_result"
    }
   ],
   "source": [
    "_predictions_series[-1]"
   ]
  }
 ],
 "metadata": {
  "kernelspec": {
   "display_name": "Python 3",
   "language": "python",
   "name": "python3"
  },
  "language_info": {
   "codemirror_mode": {
    "name": "ipython",
    "version": 3
   },
   "file_extension": ".py",
   "mimetype": "text/x-python",
   "name": "python",
   "nbconvert_exporter": "python",
   "pygments_lexer": "ipython3",
   "version": "3.6.8"
  }
 },
 "nbformat": 4,
 "nbformat_minor": 2
}
