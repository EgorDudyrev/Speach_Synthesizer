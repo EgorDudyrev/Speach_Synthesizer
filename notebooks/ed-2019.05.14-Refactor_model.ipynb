{
 "cells": [
  {
   "cell_type": "code",
   "execution_count": 1,
   "metadata": {},
   "outputs": [],
   "source": [
    "import sys\n",
    "import os\n",
    "\n",
    "import numpy as np\n",
    "from numpy import random\n",
    "import pandas as pd\n",
    "import tensorflow as tf\n",
    "from pathlib import Path\n",
    "import matplotlib.pyplot as plt\n",
    "import seaborn as sns\n",
    "\n",
    "from IPython import display\n",
    "%matplotlib inline\n",
    "from tqdm import tqdm_notebook\n",
    "\n",
    "PARENT_DIR = os.path.realpath('..')\n",
    "import importlib\n",
    "if PARENT_DIR not in sys.path:\n",
    "    sys.path.append(PARENT_DIR)\n",
    "\n",
    "try: importlib.reload(sl)\n",
    "except: import synt_lib as sl"
   ]
  },
  {
   "cell_type": "code",
   "execution_count": 2,
   "metadata": {},
   "outputs": [],
   "source": [
    "DIRS = sl.get_dirs(parent_dir=PARENT_DIR)\n",
    "M_PARAMS = sl.get_model_params()"
   ]
  },
  {
   "cell_type": "code",
   "execution_count": 3,
   "metadata": {},
   "outputs": [],
   "source": [
    "quant = M_PARAMS['QUANTIZATION_CHANNELS']\n",
    "nbits = int(np.log2(quant))"
   ]
  },
  {
   "cell_type": "markdown",
   "metadata": {},
   "source": [
    "# Build model"
   ]
  },
  {
   "cell_type": "raw",
   "metadata": {},
   "source": [
    "def train_model(\n",
    "    model_class,input_dimensions, hidden_size, batch_size, truncated_len, num_epochs, model_name,\n",
    "    sparsify_epochs,wav_fnames, txt_fnames,\n",
    "    print_period=50, save_period=50, log_period=50, n_files_per_epoch=1,\n",
    "    sparsity_level=0.90, to_truncate=True,\n",
    "    char_to_int=None\n",
    "):\n",
    "    if model_name not in os.listdir(DIRS['MODELS']):\n",
    "        os.mkdir(DIRS['MODELS']+model_name)\n",
    "    \n",
    "    tf.reset_default_graph()\n",
    "    model = model_class(input_dimensions, hidden_size)\n",
    "    init_variables = tf.global_variables_initializer()\n",
    "    saver = tf.train.Saver()\n",
    "    \n",
    "    epochs_per_files_last = 0\n",
    "    \n",
    "    # Initialize the losses\n",
    "    train_losses = []\n",
    "    validation_losses = []\n",
    "\n",
    "    with tf.Session() as sess:\n",
    "        sess.run(init_variables)\n",
    "        # Perform all the iterations\n",
    "        for epoch in tqdm_notebook(range(num_epochs)):\n",
    "            if epochs_per_files_last==0:\n",
    "                X = sl.load_data(wav_fnames, n_files_per_epoch)\n",
    "                \n",
    "                txts = []\n",
    "                for i in range(n_files_per_epoch):\n",
    "                    txts.append(txt_fnames.__next__())\n",
    "                txts = [[char_to_int[c] for c in t] for t in txts]\n",
    "                \n",
    "                total_series_length = int(X.shape[1])\n",
    "                if not to_truncate:\n",
    "                    epochs_per_files_last = 1\n",
    "                else:\n",
    "                    epochs_per_files_last = total_series_length//batch_size//truncated_len\n",
    "            epochs_per_files_last-=1\n",
    "            \n",
    "            if epoch in sparsify_epochs:\n",
    "                k = model.calc_sparsity_level(epoch, sparsify_epochs, sparsity_level)\n",
    "                model.sparsify(k, sess)\n",
    "            \n",
    "            X_train, Y_train, X_test, Y_test = sl.get_train_test(X, batch_size, truncated_len, sess)\n",
    "            train_loss, validation_loss = model.train(X_train, Y_train, X_test, Y_test, sess, texts)\n",
    "\n",
    "            # Log the losses\n",
    "            train_losses.append(train_loss)\n",
    "            validation_losses.append(validation_loss)\n",
    "            \n",
    "            msg = f'Iteration: {epoch}, train loss: {train_loss:.4f}, val loss: {validation_loss:.4f}'\n",
    "            # Display an update every 50 iterations\n",
    "            if epoch % print_period == 0 and epoch!=0:\n",
    "                print(msg)\n",
    "            if epoch % print_period == 0 and epoch!=0:\n",
    "                sl.plot_losses(train_losses, validation_losses, title=msg)\n",
    "                plt.show()\n",
    "            if epoch % save_period == 0:\n",
    "                saver.save(sess, DIRS['MODELS']+model_name+'/checkpoint',global_step=epoch,write_meta_graph=True)\n",
    "        \n",
    "        sl.plot_losses(train_losses, validation_losses, title=msg)\n",
    "        plt.show()\n",
    "\n",
    "        saver.save(sess, DIRS['MODELS']+model_name+'/final')\n",
    "        \n",
    "    return train_losses, validation_losses, model"
   ]
  },
  {
   "cell_type": "code",
   "execution_count": null,
   "metadata": {},
   "outputs": [],
   "source": [
    "def train_model(\n",
    "    model_class,input_dimensions, hidden_size, batch_size, truncated_len, num_epochs, model_name,\n",
    "    sparsify_epochs,wav_fnames, txt_fnames,\n",
    "    print_period=50, save_period=50, log_period=50, n_files_per_epoch=1,\n",
    "    sparsity_level=0.90, to_truncate=True,\n",
    "    char_to_int=None\n",
    "):\n",
    "    if model_name not in os.listdir(DIRS['MODELS']):\n",
    "        os.mkdir(DIRS['MODELS']+model_name)\n",
    "    \n",
    "    tf.reset_default_graph()\n",
    "    model = model_class(input_dimensions, hidden_size)\n",
    "    init_variables = tf.global_variables_initializer()\n",
    "    saver = tf.train.Saver()\n",
    "    \n",
    "    epochs_per_files_last = 0\n",
    "    \n",
    "    # Initialize the losses\n",
    "    train_losses = []\n",
    "    validation_losses = []\n",
    "\n",
    "    with tf.Session() as sess:\n",
    "        sess.run(init_variables)\n",
    "        # Perform all the iterations\n",
    "        for epoch in tqdm_notebook(range(num_epochs)):\n",
    "            if epochs_per_files_last==0:\n",
    "                X = sl.load_data(wav_fnames, n_files_per_epoch)\n",
    "                txts = sl.load_texts(txt_fnames, n_files_per_epoch)\n",
    "                \n",
    "                total_series_length = int(X.shape[1])\n",
    "                if not to_truncate:\n",
    "                    epochs_per_files_last = 1\n",
    "                    truncated_len = X.shape[1]-3\n",
    "                else:\n",
    "                    epochs_per_files_last = total_series_length//batch_size//truncated_len\n",
    "            epochs_per_files_last-=1\n",
    "            \n",
    "            if epoch in sparsify_epochs:\n",
    "                k = model.calc_sparsity_level(epoch, sparsify_epochs, sparsity_level)\n",
    "                model.sparsify(k, sess)\n",
    "            \n",
    "            X_train, Y_train, X_test, Y_test = sl.get_train_test(X, batch_size, truncated_len, sess)\n",
    "            train_loss, validation_loss = model.train(X_train, Y_train, X_test, Y_test, sess, texts)\n",
    "\n",
    "            # Log the losses\n",
    "            train_losses.append(train_loss)\n",
    "            validation_losses.append(validation_loss)\n",
    "            \n",
    "            msg = f'Iteration: {epoch}, train loss: {train_loss:.4f}, val loss: {validation_loss:.4f}'\n",
    "            # Display an update every 50 iterations\n",
    "            if epoch % print_period == 0 and epoch!=0:\n",
    "                print(msg)\n",
    "            if epoch % print_period == 0 and epoch!=0:\n",
    "                sl.plot_losses(train_losses, validation_losses, title=msg)\n",
    "                plt.show()\n",
    "            if epoch % save_period == 0:\n",
    "                saver.save(sess, DIRS['MODELS']+model_name+'/checkpoint',global_step=epoch,write_meta_graph=True)\n",
    "        \n",
    "        sl.plot_losses(train_losses, validation_losses, title=msg)\n",
    "        plt.show()\n",
    "\n",
    "        saver.save(sess, DIRS['MODELS']+model_name+'/final')\n",
    "        \n",
    "    return train_losses, validation_losses, model"
   ]
  },
  {
   "cell_type": "markdown",
   "metadata": {},
   "source": [
    "# Get Data"
   ]
  },
  {
   "cell_type": "markdown",
   "metadata": {},
   "source": [
    "Всего файлов:\n",
    "* Обучение (cv-valid-train): 391552\n",
    "* cv-valid-dev: 8152\n",
    "* cv-valid-test: 7990"
   ]
  },
  {
   "cell_type": "markdown",
   "metadata": {},
   "source": [
    "# Develop models"
   ]
  },
  {
   "cell_type": "markdown",
   "metadata": {},
   "source": [
    "## Structured Sparse"
   ]
  },
  {
   "cell_type": "code",
   "execution_count": 1006,
   "metadata": {},
   "outputs": [
    {
     "data": {
      "text/plain": [
       "<tf.Tensor 'Relu:0' shape=(1, 29) dtype=float32>"
      ]
     },
     "execution_count": 1006,
     "metadata": {},
     "output_type": "execute_result"
    }
   ],
   "source": [
    "gru.txt_embed"
   ]
  },
  {
   "cell_type": "code",
   "execution_count": 1219,
   "metadata": {},
   "outputs": [
    {
     "data": {
      "text/plain": [
       "<tf.Tensor 'c_t:0' shape=(5, ?, 1) dtype=float32>"
      ]
     },
     "execution_count": 1219,
     "metadata": {},
     "output_type": "execute_result"
    }
   ],
   "source": [
    "gru.c_t"
   ]
  },
  {
   "cell_type": "code",
   "execution_count": 1220,
   "metadata": {},
   "outputs": [
    {
     "data": {
      "text/plain": [
       "<tf.Tensor 'f_t:0' shape=(5, ?, 1) dtype=float32>"
      ]
     },
     "execution_count": 1220,
     "metadata": {},
     "output_type": "execute_result"
    }
   ],
   "source": [
    "gru.f_t"
   ]
  },
  {
   "cell_type": "code",
   "execution_count": 1907,
   "metadata": {},
   "outputs": [
    {
     "data": {
      "text/plain": [
       "[(5, 5), (5, 5), (5, 5), (5, 5), (5, 5)]"
      ]
     },
     "execution_count": 1907,
     "metadata": {},
     "output_type": "execute_result"
    }
   ],
   "source": [
    "[(5,5)]*5"
   ]
  },
  {
   "cell_type": "code",
   "execution_count": 2070,
   "metadata": {},
   "outputs": [
    {
     "data": {
      "text/plain": [
       "<tf.Tensor 'conv2d/Relu:0' shape=(1, 99, 31, 35) dtype=float32>"
      ]
     },
     "execution_count": 2070,
     "metadata": {},
     "output_type": "execute_result"
    }
   ],
   "source": [
    "txtConv.convs[0] #, np.zeros((1,99,31,35)))"
   ]
  },
  {
   "cell_type": "code",
   "execution_count": 2202,
   "metadata": {},
   "outputs": [],
   "source": [
    "class TxtConv():\n",
    "    def __init__(self, embed_size=29, max_text_len=100, vocab=None):\n",
    "        self.vocab = ' \\0абвгдеёжзийклмнопрстуфхцчшщъыьэюя' if vocab is None else vocab\n",
    "        self.char_to_int = {c:idx for idx, c in enumerate(self.vocab)}\n",
    "        self.vocab_size = len(self.vocab)\n",
    "        self.embed_size = embed_size\n",
    "        self.max_text_len = max_text_len\n",
    "        \n",
    "        self.text_X = tf.placeholder(dtype=tf.int32, shape=(self.max_text_len,), name='textInput')\n",
    "        self.define_layers()\n",
    "        self.define_loss()\n",
    "        \n",
    "    def define_loss(self):\n",
    "        self.orig = tf.reshape(self.oh, (self.max_text_len, self.vocab_size))\n",
    "        self.pred = tf.reshape(self.deoh, (self.max_text_len, self.vocab_size))\n",
    "        #self.pred = tf.softmax(tf.reshape(self.deoh, (self.max_text_len, self.vocab_size)))\n",
    "        #self.loss = tf.losses.mean_squared_error(self.orig, self.pred)\n",
    "        self.loss = tf.reduce_mean(tf.nn.softmax_cross_entropy_with_logits_v2(labels=self.orig, logits=self.pred))\n",
    "        self.train_step = tf.train.AdamOptimizer().minimize(self.loss)\n",
    "            \n",
    "    def define_layers(self):\n",
    "        self.filters_lst = [35,20,20,10,2]\n",
    "        self.nconvs = 5\n",
    "        self.kernels_lst = [(2,5)]*self.nconvs\n",
    "        fl, kl = self.filters_lst, self.kernels_lst\n",
    "        \n",
    "        self.oh = tf.one_hot(self.text_X, depth=self.vocab_size,dtype=tf.float32)\n",
    "        self.oh = tf.reshape(self.oh, (1,-1,self.vocab_size,1))\n",
    "        \n",
    "        self.convs = []\n",
    "        for i in range(self.nconvs):\n",
    "            cnv = tf.layers.conv2d(\n",
    "                self.oh if i==0 else self.convs[-1],\n",
    "                filters=fl[i], kernel_size=kl[i],\n",
    "                padding='valid', activation=tf.nn.relu,\n",
    "                name=f'conv_{i}'\n",
    "            )\n",
    "            self.convs.append(cnv)\n",
    "        \n",
    "        flat_size = (self.max_text_len-(kl[0][0]-1)*len(kl))*(self.vocab_size-(kl[0][1]-1)*len(kl))*fl[-1]\n",
    "        self.conv_flat = tf.reshape(self.convs[-1], (-1,flat_size))\n",
    "\n",
    "        self.text_w1 = tf.Variable(tf.truncated_normal([flat_size, self.embed_size], mean=0, stddev=0.01), dtype=tf.float32)\n",
    "        self.text_b1 = tf.Variable(tf.truncated_normal([self.embed_size,], mean=0, stddev=0.01), dtype=tf.float32)\n",
    "\n",
    "        self.txt_embed = tf.nn.relu(tf.matmul(self.conv_flat,self.text_w1)+self.text_b1)\n",
    "        \n",
    "        self.text_w2 = tf.Variable(tf.truncated_normal([self.embed_size, flat_size], mean=0, stddev=0.01), dtype=tf.float32)\n",
    "        self.text_b2 = tf.Variable(tf.truncated_normal([flat_size,]), dtype=tf.float32)\n",
    "        \n",
    "        self.txt_unembed = tf.nn.relu(tf.matmul(self.txt_embed,self.text_w2)+self.text_b2)\n",
    "        \n",
    "        self.conv_m1 = tf.reshape(\n",
    "            self.txt_unembed, (1,\n",
    "                (self.max_text_len-(kl[0][0]-1)*len(kl)),\n",
    "                (self.vocab_size-(kl[0][1]-1)*len(kl)),fl[-1])\n",
    "        )\n",
    "        self.deconvs = [self.conv_m1]\n",
    "        for i in range(self.nconvs-1,0,-1):\n",
    "            decnv = tf.layers.conv2d_transpose(\n",
    "                self.deconvs[-1],\n",
    "                filters=fl[i-1], kernel_size=kl[i],\n",
    "                padding='valid',activation=tf.nn.relu, name=f'deconv_{i}')\n",
    "            self.deconvs.append(decnv)\n",
    "            \n",
    "        self.deoh = tf.layers.conv2d_transpose(self.deconvs[-1], filters=1, kernel_size=kl[0],padding='valid',activation=tf.nn.relu)\n",
    "        \n",
    "    def train(self, txt, session):\n",
    "        txt = txt+'\\0'*(self.max_text_len-len(txt))\n",
    "        txt_int = [self.char_to_int[c] for c in txt]\n",
    "        _, loss = session.run([self.train_step, self.loss], feed_dict={self.text_X:txt_int})\n",
    "        return loss\n",
    "    \n",
    "    def embed(self, txt, session):\n",
    "        txt = txt+'\\0'*(self.max_text_len-len(txt))\n",
    "        txt_int = [self.char_to_int[c] for c in txt]\n",
    "        emb = session.run(self.txt_embed, feed_dict={self.text_X:txt_int})\n",
    "        return emb\n",
    "\n",
    "    def autoencode(self, txt, session):\n",
    "        txt = txt+'\\0'*(self.max_text_len-len(txt))\n",
    "        txt_int = [self.char_to_int[c] for c in txt]\n",
    "        pred = session.run(self.pred, feed_dict={self.text_X:txt_int})\n",
    "        res_int = np.argmax(pred,axis=1)\n",
    "        int_to_char = {v:k for k,v in txtConv.char_to_int.items()}\n",
    "        res_txt = ''.join([int_to_char[i] for i in res_int])\n",
    "        return res_txt"
   ]
  },
  {
   "cell_type": "code",
   "execution_count": 2244,
   "metadata": {},
   "outputs": [],
   "source": [
    "class WaveGRU():\n",
    "    def __init__(self, input_dim=3, hidden_input=128, hidden_size=224, out_layer_size=16,\n",
    "                 block_shape=(16,1), vocab_size=35, max_text_len=100, sample_rate=16000,\n",
    "                n_batches=5):\n",
    "        self.input_dim = input_dim\n",
    "        self.hidden_input = hidden_input\n",
    "        self.text_embed_size = hidden_input-input_dim\n",
    "        self.hidden_size = hidden_size\n",
    "        self.out_layer_size=out_layer_size\n",
    "        self.block_shape = block_shape\n",
    "        self.vocab_size = vocab_size\n",
    "        self.max_text_len = max_text_len\n",
    "        self.sample_rate = sample_rate\n",
    "        self.n_batches = n_batches\n",
    "        \n",
    "        self.define_constants()\n",
    "        self.define_variables()\n",
    "        self.define_placeholders()\n",
    "        self.train_pass()\n",
    "        self.define_loss()\n",
    "        \n",
    "    def define_constants(self):\n",
    "        # Mask for masking W matrixes to c_t from input not connect to c_t output\n",
    "        M = np.ones(shape=(self.hidden_input, self.hidden_size), dtype='float32')\n",
    "        M[2,:self.hidden_size//2]=0\n",
    "        self.M = tf.constant(shape=(self.hidden_input, self.hidden_size), value=M)\n",
    "        \n",
    "    def define_variables(self, dtype='float32'):     \n",
    "        # Weights for input vectors of shape (input_dimensions, hidden_size)\n",
    "        I_init = tf.truncated_normal(dtype=dtype, shape=(self.hidden_input, self.hidden_size), mean=0, stddev=0.01)\n",
    "        self.Ir, self.Iu, self.Ie = [tf.Variable(I_init, name=name) for name in ['Ir','Iu','Ie']]\n",
    "        # Weights for hidden vectors of shape (hidden_size, hidden_size)\n",
    "        R_init = tf.truncated_normal(dtype=dtype, shape=(self.hidden_size, self.hidden_size), mean=0, stddev=0.01)\n",
    "        self.Rr, self.Ru, self.Re = [tf.Variable(R_init, name=name) for name in ['Rr','Ru','Re']]\n",
    "        # Biases for hidden vectors of shape (hidden_size,)\n",
    "        b_init = tf.truncated_normal(dtype=dtype, shape=(self.hidden_size,), mean=0, stddev=0.01)\n",
    "        self.br, self.bu, self.be = [tf.Variable(b_init, name=name) for name in ['br','bu','be']]\n",
    "        # O's matrices\n",
    "        O13_init = tf.truncated_normal(dtype=dtype, shape=(self.hidden_size//2, self.hidden_size//2), mean=0, stddev=0.01)\n",
    "        self.O1, self.O3 = [tf.Variable(O13_init, name=name) for name in ['O1','O3',]]\n",
    "        O24_init = tf.truncated_normal(dtype=dtype, shape=(self.hidden_size//2, self.out_layer_size//2), mean=0, stddev=0.01)\n",
    "        self.O2, self.O4 = [tf.Variable(O24_init, name=name) for name in ['O2', 'O4']]\n",
    "        # biases for O's\n",
    "        bO13_init = tf.truncated_normal(dtype=dtype, shape=(self.hidden_size//2,), mean=0, stddev=0.01)\n",
    "        self.bO1, self.bO3 = [tf.Variable(bO13_init, name=name) for name in ['bO1','bO3']]\n",
    "        bO24_init = tf.truncated_normal(dtype=dtype, shape=(self.out_layer_size//2,), mean=0, stddev=0.01)\n",
    "        self.bO2, self.bO4 = [tf.Variable(bO24_init, name=name) for name in ['bO2','bO4']]\n",
    "        \n",
    "        #sparse matrices\n",
    "        m1,m2 = self.block_shape\n",
    "        self.M_Ir, self.M_Iu, self.M_Ie = [np.ones(shape=(self.hidden_input//m1, self.hidden_size//m2),dtype=dtype) for i in range(3)]\n",
    "        self.M_Rr, self.M_Ru, self.M_Re = [np.ones(shape=(self.hidden_size//m1, self.hidden_size//m2),dtype=dtype) for i in range(3)]\n",
    "        self.M_O1, self.M_O3 = [np.ones(shape=(self.hidden_size//2//m1, self.hidden_size//2//m2),dtype=dtype) for i in range(2)]\n",
    "        self.M_O2, self.M_O4 = [np.ones(shape=(self.hidden_size//2//m1, self.out_layer_size//2//m2),dtype=dtype) for i in range(2)]\n",
    "        \n",
    "        self.M_IrV, self.M_IuV, self.M_IeV, self.M_RrV, self.M_RuV, self.M_ReV, \\\n",
    "        self.M_O1V, self.M_O2V, self.M_O3V, self.M_O4V = [\n",
    "            tf.Variable(v, name=n, trainable=False) for v, n in zip([\n",
    "                self.M_Ir, self.M_Iu, self.M_Ie, self.M_Rr, self.M_Ru, self.M_Re,\n",
    "                self.M_O1, self.M_O2, self.M_O3, self.M_O4,],[\n",
    "                'M_IrV','M_IuV','M_IeV', 'M_RrV','M_RuV','M_ReV',\n",
    "                'M_O1V','M_O2V','M_O3V', 'M_O4V',])\n",
    "        ]\n",
    "    \n",
    "    def restore_variables(self, variables): \n",
    "        self.Ir, self.Iu, self.Ie = [tf.assign(t,variables[name+':0']) for t,name in zip([self.Ir, self.Iu, self.Ie],['Ir','Iu','Ie'])]\n",
    "        self.Rr, self.Ru, self.Re = [tf.assign(t,variables[name+':0']) for t,name in zip([self.Rr, self.Ru, self.Re],['Rr','Ru','Re'])]\n",
    "        self.br, self.bu, self.be = [tf.assign(t,variables[name+':0']) for t,name in zip([self.br, self.bu, self.be],['br','bu','be'])]\n",
    "        \n",
    "        self.O1, self.O2, self.O3, self.O4 = [tf.assign(t,variables[name+':0']) for t,name in zip([self.O1, self.O2, self.O3, self.O4],['O1','O2','O3','O4'])]\n",
    "        self.bO1, self.bO2, self.bO3, self.bO4 = [tf.assign(t,variables[name+':0']) for t,name in zip([self.bO1, self.bO2, self.bO3, self.bO4],['bO1','bO2','bO3','bO4'])]\n",
    "        \n",
    "        self.M_Ir, self.M_Iu, self.M_Ie = [variables[name+':0'] for name in ['M_IrV','M_IuV','M_IeV']]\n",
    "        self.M_Rr, self.M_Ru, self.M_Re = [variables[name+':0'] for name in ['M_IrV','M_IuV','M_IeV']]\n",
    "        self.M_O1, self.M_O2, self.M_O3, self.M_O4 = [variables[name+':0'] for name in ['M_O1V','M_O2V','M_O3V','M_O4V']]\n",
    "                                        \n",
    "        self.M_IrV, self.M_IuV, self.M_IeV, self.M_RrV, self.M_RuV, self.M_ReV, \\\n",
    "        self.M_O1V, self.M_O2V, self.M_O3V, self.M_O4V = [\n",
    "            tf.assign(t, variables[name+':0']) for t, name in zip([\n",
    "                self.M_Ir, self.M_Iu, self.M_Ie, self.M_Rr, self.M_Ru, self.M_Re,\n",
    "                self.M_O1, self.M_O2, self.M_O3, self.M_O4,],[\n",
    "                'M_IrV','M_IuV','M_IeV', 'M_RrV','M_RuV','M_ReV',\n",
    "                'M_O1V','M_O2V','M_O3V', 'M_O4V',])\n",
    "        ]\n",
    "        \n",
    "    def define_placeholders(self):\n",
    "        self.sound_X = tf.placeholder(dtype=tf.float32, shape=(self.n_batches, None, self.input_dim), name='soundInput')\n",
    "        self.sound_trans = tf.transpose(self.sound_X, [1,0,2], name='sound_trans')\n",
    "        self.Y_true = tf.placeholder(dtype=tf.float32, shape=(self.n_batches,None, 2), name='Y_true')\n",
    "        \n",
    "        self.sound_tm1 = tf.placeholder(dtype=tf.float32, shape=(self.n_batches, 1,self.input_dim), name='sound_tm1')\n",
    "        h_0 = tf.matmul(\n",
    "            a=self.sound_trans[0, :, :], name='h_0',\n",
    "            b=tf.zeros(dtype=tf.float32, shape=(self.input_dim, self.hidden_size)),\n",
    "        )\n",
    "        self.h_0 = tf.placeholder_with_default(h_0, shape=(self.n_batches,self.hidden_size),name='h_0_placeholder')\n",
    "        self.txt_embed_plh = tf.placeholder(dtype=tf.float32, shape=(1,self.text_embed_size))\n",
    "        self.txt_embed_tile = tf.tile(self.txt_embed_plh, [self.n_batches, 1])\n",
    "    \n",
    "    def define_loss(self):\n",
    "        P_ct,P_ft = tf.transpose(self.P_ct, [1,0,2]), tf.transpose(self.P_ft, [1,0,2])\n",
    "        self.output_probs = tf.concat([P_ct, P_ft],2, name='output_probs')\n",
    "        self.output_probs_fl = tf.reshape(self.output_probs, (-1,self.out_layer_size))\n",
    "        scale = (2**(self.out_layer_size//2))//2\n",
    "        self.output_true = tf.to_int32(self.Y_true*scale+scale)\n",
    "        self.output_true_fl = tf.reshape(self.output_true, (-1,1))\n",
    "        self.output_true_bin = tf.map_fn(\n",
    "            lambda x: tf.mod(tf.bitwise.right_shift(tf.expand_dims(x,1), tf.range(self.out_layer_size//2)), 2),\n",
    "            self.output_true_fl,\n",
    "        )\n",
    "        self.output_true_bin_fl = tf.reshape(self.output_true_bin, (-1, self.out_layer_size))\n",
    "        \n",
    "        self.loss = tf.losses.log_loss(self.output_true_bin_fl, self.output_probs_fl)\n",
    "        self.train_step = tf.train.AdamOptimizer().minimize(self.loss)\n",
    "        \n",
    "    \n",
    "    def train_pass(self):\n",
    "        self.Iu_masked = tf.multiply(self.Iu, self.M, name='Iu_mask')\n",
    "        self.Ir_masked = tf.multiply(self.Ir, self.M, name='Ir_mask')\n",
    "        self.Ie_masked = tf.multiply(self.Ie, self.M, name='Ie_mask')\n",
    "        \n",
    "        self.h_t_trans = tf.scan(self.calc_hid, self.sound_trans, initializer=self.h_0, name='h_t_transposed')\n",
    "        self.h_t = tf.transpose(self.h_t_trans, [1,0,2], name='h_t')\n",
    "        self.h_c, self.h_f = tf.split(self.h_t_trans, num_or_size_splits=2, axis=2, name='split_h')\n",
    "        \n",
    "        #M_O1, M_O2 = [self.extend_matrix(M) for M in [self.M_O1, self.M_O2]]\n",
    "        #self.O1_sparse, self.O2_sparse = tf.multiply(self.O1, M_O1, name='O1_sparse'), tf.multiply(self.O2, M_O2, name='O2_sparse')\n",
    "        #del M_O1, M_O2\n",
    "        #M_O3, M_O4 = [self.extend_matrix(M) for M in [self.M_O3, self.M_O4]]\n",
    "        #self.O3_sparse, self.O4_sparse = tf.multiply(self.O3, M_O3, name='O3_sparse'), tf.multiply(self.O4, M_O4, name='O4_sparse')\n",
    "        #del M_O3, M_O4\n",
    "        \n",
    "        \n",
    "        self.P_ct, self.P_ft = tf.map_fn(self.get_P_cs, self.h_c, name='calc_Pc'), tf.map_fn(self.get_P_fs, self.h_f, name='calc_Pf')\n",
    "        self.P_ct_fl, self.P_ft_fl = tf.reshape(self.P_ct, (-1, self.out_layer_size//2)), tf.reshape(self.P_ft, (-1, self.out_layer_size//2))\n",
    "        #self.c_t_trans, self.f_t_trans = tf.map_fn(self.calc_y_elem, self.P_ct), tf.map_fn(self.calc_y_elem, self.P_ft)\n",
    "        self.c_t_trans, self.f_t_trans = tf.map_fn(self.calc_y_elem, self.P_ct_fl), tf.map_fn(self.calc_y_elem, self.P_ft_fl)\n",
    "        self.c_t_trans, self.f_t_trans = tf.reshape(self.c_t_trans, (-1,self.n_batches, 1)), tf.reshape(self.f_t_trans, (-1,self.n_batches, 1))\n",
    "        self.c_t, self.f_t = tf.transpose(self.c_t_trans, [1,0,2], name='c_t'), tf.transpose(self.f_t_trans,[1,0,2], name='f_t')\n",
    "\n",
    "        self.y = tf.concat([self.c_t, self.f_t], axis=2, name='y')\n",
    "        \n",
    "    def get_P_cs(self, h_c):\n",
    "        #a1 = tf.nn.relu(tf.matmul(h_c, self.O1_sparse) + self.bO1)\n",
    "        #a2 = tf.matmul(a1, self.O2_sparse) + self.bO2\n",
    "        #a3 = tf.nn.softmax(a2,  axis=1, name='P_c')\n",
    "        a1 = tf.nn.relu(tf.matmul(h_c, self.O1) + self.bO1)\n",
    "        a2 = tf.matmul(a1, self.O2) + self.bO2\n",
    "        a3 = tf.nn.softmax(a2,  axis=1, name='P_c')\n",
    "        return a3\n",
    "    \n",
    "    def get_P_fs(self, h_f):\n",
    "        #b1 = tf.nn.relu(tf.matmul(h_f, self.O3_sparse) + self.bO3)\n",
    "        #b2 = tf.matmul(b1, self.O4_sparse) + self.bO4\n",
    "        #b3 = tf.nn.softmax(b2,  axis=1, name='P_c')\n",
    "        b1 = tf.nn.relu(tf.matmul(h_f, self.O3) + self.bO3)\n",
    "        b2 = tf.matmul(b1, self.O4) + self.bO4\n",
    "        b3 = tf.nn.softmax(b2,  axis=1, name='P_c')\n",
    "        return b3# tf.nn.softmax( tf.matmul(tf.nn.relu(tf.matmul(y_f, O3_sparse)+self.bO3), O4_sparse)+self.bO4, axis=1, name='P_f')\n",
    "        \n",
    "    def calc_y_elem(self, Ps):\n",
    "        self.Bs = tf.round(Ps)\n",
    "        self.ScB = tf.reduce_sum(tf.multiply(self.Bs, [2**i for i in range(self.out_layer_size//2)]))\n",
    "        scale = (2**(self.out_layer_size//2))//2\n",
    "        self.ScB = (self.ScB-scale)/scale\n",
    "        return self.ScB\n",
    "        \n",
    "    def calc_hid(self, h_tm1, sound_tm1):\n",
    "        \"\"\"Calculate hidden state\n",
    "        Arguments\n",
    "        ---------\n",
    "        h_tm1: np.matrix\n",
    "            The hidden state at the previous timestep (h_{t-1}).\n",
    "        x_t: np.matrix\n",
    "            The input vector.\n",
    "        \"\"\"\n",
    "        #self.hid_input = tf.concat([sound_tm1, self.txt_embed],axis=1)\n",
    "        self.hid_input = tf.concat([sound_tm1, self.txt_embed_tile],axis=1)\n",
    "                 \n",
    "        \n",
    "            \n",
    "        #M_Iu, M_Ir, M_Ie = [self.extend_matrix(M) for M in [self.M_Iu, self.M_Ir, self.M_Ie]]\n",
    "        #M_Ru, M_Rr, M_Re = [self.extend_matrix(M) for M in [self.M_Ru, self.M_Rr, self.M_Re]]\n",
    "                \n",
    "        #self.Iu_sparse = tf.multiply(self.Iu_masked, M_Iu, name='Iu_sparse')\n",
    "        #self.Ir_sparse = tf.multiply(self.Ir_masked, M_Ir, name='Ir_sparse')\n",
    "        #self.Ie_sparse = tf.multiply(self.Ie_masked, M_Ie, name='Ie_sparse')\n",
    "        #self.Iu_sparse, self.Ir_sparse, self.Ie_sparse = self.Iu_masked, self.Ir_masked, self.Ie_masked\n",
    "        #self.Ru_sparse = tf.multiply(self.Ru, M_Ru, name='Ru_sparse')\n",
    "        #self.Rr_sparse = tf.multiply(self.Rr, M_Rr, name='Rr_sparse')\n",
    "        #self.Re_sparse = tf.multiply(self.Re, M_Re, name='Re_sparse')\n",
    "        \n",
    "        \n",
    "        # Definitions of z_t and r_t\n",
    "        #u_t = tf.sigmoid(tf.matmul(h_tm1, self.Ru_sparse) + tf.matmul(self.hid_input, self.Iu_sparse) + self.bu, name='u_t')\n",
    "        #r_t = tf.sigmoid(tf.matmul(h_tm1, self.Rr_sparse) + tf.matmul(self.hid_input, self.Ir_sparse) + self.br, name='r_t')\n",
    "        # Definition of h~_t\n",
    "        #e_t = tf.tanh(tf.multiply(r_t, tf.matmul(h_tm1, self.Re_sparse))+tf.matmul(self.hid_input, self.Ir_sparse)+ self.be, name='e_t')\n",
    "        \n",
    "        u_t = tf.sigmoid(tf.matmul(h_tm1, self.Ru) + tf.matmul(self.hid_input, self.Iu_masked) + self.bu, name='u_t')\n",
    "        r_t = tf.sigmoid(tf.matmul(h_tm1, self.Rr) + tf.matmul(self.hid_input, self.Ir_masked) + self.br, name='r_t')\n",
    "        # Definition of h~_t\n",
    "        e_t = tf.tanh(tf.multiply(r_t, tf.matmul(h_tm1, self.Re))+tf.matmul(self.hid_input, self.Ir_masked)+ self.be, name='e_t')\n",
    "        # Compute the next hidden state\n",
    "        h_t = tf.multiply(u_t, h_tm1) + tf.multiply(1 - u_t, e_t)\n",
    "        \n",
    "        return h_t\n",
    "    \n",
    "    def extend_matrix(self, M):\n",
    "        coefs = self.block_shape\n",
    "        return np.concatenate([[np.concatenate([[j]*coefs[1] for j in i])]*coefs[0] for i in M])                \n",
    "    \n",
    "    def sparsify(self, k, session):\n",
    "        self.M_Iu, self.M_Ir, self.M_Ie = [\n",
    "            self.get_sparse_matrix(t, k, session) for t in [self.Iu, self.Ir, self.Ie]]\n",
    "        self.M_Ru, self.M_Rr, self.M_Re = [\n",
    "            self.get_sparse_matrix(t, k, session) for t in [self.Ru, self.Rr, self.Re]]\n",
    "        self.M_O1, self.M_O2, self.M_O3, self.M_O4 = [\n",
    "            self.get_sparse_matrix(t, k, session) for t in [self.O1, self.O2, self.O3, self.O4]]\n",
    "        \n",
    "        self.M_IrV, self.M_IuV, self.M_IeV, self.M_RrV, self.M_RuV, self.M_ReV, \\\n",
    "        self.M_O1V, self.M_O2V, self.M_O3V, self.M_O4V = [\n",
    "            tf.assign(t,v) for t,v in zip([\n",
    "                self.M_IrV, self.M_IuV, self.M_IeV, self.M_RrV, self.M_RuV, self.M_ReV,\n",
    "                self.M_O1V, self.M_O2V, self.M_O3V, self.M_O4V\n",
    "            ],[ self.M_Iu, self.M_Ir, self.M_Ie, self.M_Ru, self.M_Rr, self.M_Re,\n",
    "                self.M_O1, self.M_O2, self.M_O3, self.M_O4,\n",
    "            ])\n",
    "        ]\n",
    "        \n",
    "        M_Iu, M_Ir, M_Ie = [self.extend_matrix(M) for M in [self.M_Iu, self.M_Ir, self.M_Ie]]\n",
    "        M_Ru, M_Rr, M_Re = [self.extend_matrix(M) for M in [self.M_Ru, self.M_Rr, self.M_Re]]\n",
    "        \n",
    "        self.Iu = tf.assign(self.Iu, tf.multiply(self.Iu, M_Iu, name='Iu_sparse'))\n",
    "        self.Ir = tf.assign(self.Ir, tf.multiply(self.Ir, M_Ir, name='Ir_sparse'))\n",
    "        self.Ie = tf.assign(self.Ie, tf.multiply(self.Ie, M_Ie, name='Ie_sparse'))\n",
    "        #self.Iu_sparse, self.Ir_sparse, self.Ie_sparse = self.Iu_masked, self.Ir_masked, self.Ie_masked\n",
    "        self.Ru = tf.assign(self.Ru, tf.multiply(self.Ru, M_Ru, name='Ru_sparse'))\n",
    "        self.Rr = tf.assign(self.Rr, tf.multiply(self.Rr, M_Rr, name='Rr_sparse'))\n",
    "        self.Re = tf.assign(self.Re, tf.multiply(self.Re, M_Re, name='Re_sparse'))\n",
    "        \n",
    "        M_O1, M_O2 = [self.extend_matrix(M) for M in [self.M_O1, self.M_O2]]\n",
    "        self.O1_sparse, self.O2_sparse = tf.multiply(self.O1, M_O1, name='O1_sparse'), tf.multiply(self.O2, M_O2, name='O2_sparse')\n",
    "        self.O1, self.O2 = tf.assign(self.O1, self.O1_sparse), tf.assign(self.O2, self.O2_sparse)\n",
    "        del M_O1, M_O2\n",
    "        M_O3, M_O4 = [self.extend_matrix(M) for M in [self.M_O3, self.M_O4]]\n",
    "        self.O3_sparse, self.O4_sparse = tf.multiply(self.O3, M_O3, name='O3_sparse'), tf.multiply(self.O4, M_O4, name='O4_sparse')\n",
    "        self.O3, self.O4 = tf.assign(self.O3, self.O3_sparse), tf.assign(self.O4, self.O4_sparse)\n",
    "        del M_O3, M_O4\n",
    "            \n",
    "    def get_sparse_matrix(self, tensor, k, session):\n",
    "        tensor_ev = tensor.eval(session=session)\n",
    "        m1,m2 = self.block_shape\n",
    "        shorted = np.array([[\n",
    "            tensor_ev[m1*i:m1*(i+1),m2*j:m2*(j+1)].mean()\n",
    "            for j in range(tensor_ev.shape[1]//m2)] for i in range(tensor_ev.shape[0]//m1)]\n",
    "        )\n",
    "        flat = shorted.flatten()\n",
    "        k_ = int(k*int(flat.shape[0]))\n",
    "        idxs = flat.argsort()[:k_]\n",
    "        M = np.ones((int(flat.shape[0])))\n",
    "        M[idxs] = 0\n",
    "        return M.reshape(shorted.shape)\n",
    "            \n",
    "    @staticmethod\n",
    "    def calc_sparsity_level(t,sparsify_epochs ,sparsity_level):\n",
    "        t0 = min(sparsify_epochs)\n",
    "        S = max(sparsify_epochs)-t0\n",
    "        Z = sparsity_level\n",
    "        return Z*(1-(1-(t-t0)/S)**3)\n",
    "    \n",
    "    def train(self, sound_X, txt_embed, session):\n",
    "        sound_Y = sound_X\n",
    "        c = sound_X[:,:,0]\n",
    "        c_shift = np.hstack([c, [[0]]*self.n_batches])[:,1:]\n",
    "        c_shift = c_shift.reshape(self.n_batches,-1,1)\n",
    "        sound_X = np.concatenate([sound_X, c_shift],2)\n",
    "        \n",
    "        #txt_embed = session.run(self.txt_embed, feed_dict={self.text_X:txt_X})\n",
    "        feed_dict={gru.sound_X:sound_X, gru.txt_embed_plh:txt_embed, gru.Y_true:sound_Y}\n",
    "        # Compute the losses\n",
    "        _, train_loss = session.run([self.train_step, self.loss],\n",
    "                                 feed_dict=feed_dict)\n",
    "        return train_loss\n",
    "    \n",
    "    def generate(self, txt_emb, session, seconds=5, show_tqdm=False):\n",
    "        if seconds is not None:\n",
    "            pass\n",
    "        \n",
    "        M_O1, M_O2 = [self.extend_matrix(M) for M in [self.M_O1, self.M_O2]]\n",
    "        self.O1_sparse, self.O2_sparse = tf.multiply(self.O1, M_O1, name='O1_sparse'), tf.multiply(self.O2, M_O2, name='O2_sparse')\n",
    "        del M_O1, M_O2\n",
    "        M_O3, M_O4 = [self.extend_matrix(M) for M in [self.M_O3, self.M_O4]]\n",
    "        self.O3_sparse, self.O4_sparse = tf.multiply(self.O3, M_O3, name='O3_sparse'), tf.multiply(self.O4, M_O4, name='O4_sparse')\n",
    "        del M_O3, M_O4\n",
    "        \n",
    "        h_t = np.zeros((self.n_batches, self.hidden_size), dtype='float32')\n",
    "        x = np.zeros((self.n_batches, 1, self.input_dim), dtype='float32')\n",
    "        \n",
    "        xs = [x[:,:,:2]]\n",
    "        n_iters = int(seconds*self.sample_rate/self.n_batches)\n",
    "        for i in tqdm_notebook(range(n_iters), disable=not show_tqdm):\n",
    "            feed_dict={self.sound_X:x, self.h_0:h_t, self.txt_embed_plh:txt_emb}\n",
    "            c_t = session.run(self.c_t, feed_dict=feed_dict)\n",
    "            x[:,0,2] = c_t[:,0,0]\n",
    "            feed_dict={self.sound_X:x, self.h_0:h_t, self.txt_embed_plh:txt_emb}\n",
    "            x, h_t = session.run([self.y, self.h_t_trans], feed_dict=feed_dict) \n",
    "            x = np.concatenate([x,np.zeros((self.n_batches,1,1))],2)\n",
    "            h_t = h_t[0] #[1,n_batches,hidden_size] -> [n_batches, hidden_size]\n",
    "            xs.append(x[:,:,:2])\n",
    "        return xs\n",
    "    \n",
    "    def generate_audio(self, txt_emb, session, seconds=5, show_tqdm=False):\n",
    "        gener = self.generate(txt_emb, session, seconds, show_tqdm=show_tqdm)\n",
    "        gener_flat = np.concatenate(gener,1)\n",
    "        gener_flat = gener_flat*128+128\n",
    "        gener_flat = gener_flat[:,:,0]*256+gener_flat[:,:,1]\n",
    "        gener_flat = gener_flat.T.flatten()"
   ]
  },
  {
   "cell_type": "code",
   "execution_count": 2226,
   "metadata": {},
   "outputs": [],
   "source": [
    "tf.reset_default_graph()\n",
    "sess = tf.Session()"
   ]
  },
  {
   "cell_type": "code",
   "execution_count": 2227,
   "metadata": {
    "scrolled": false
   },
   "outputs": [],
   "source": [
    "txtConv = TxtConv()\n",
    "gru = WaveGRU(3,32, n_batches=30)\n",
    "sess.run(tf.global_variables_initializer())"
   ]
  },
  {
   "cell_type": "code",
   "execution_count": 2232,
   "metadata": {},
   "outputs": [],
   "source": [
    "saver = tf.train.Saver()"
   ]
  },
  {
   "cell_type": "code",
   "execution_count": 2228,
   "metadata": {},
   "outputs": [],
   "source": [
    "txt = 'они минули тёмный вестибюль и вошли в многоугольную высокую залу'"
   ]
  },
  {
   "cell_type": "code",
   "execution_count": 2207,
   "metadata": {},
   "outputs": [
    {
     "data": {
      "application/vnd.jupyter.widget-view+json": {
       "model_id": "e8f06ec95fd54c2d856721bd63a57f8f",
       "version_major": 2,
       "version_minor": 0
      },
      "text/plain": [
       "HBox(children=(IntProgress(value=0, max=200), HTML(value='')))"
      ]
     },
     "metadata": {},
     "output_type": "display_data"
    }
   ],
   "source": [
    "losses = []\n",
    "for i in tqdm_notebook(range(200)):\n",
    "    l = txtConv.train(txt, sess)\n",
    "    losses.append(l)"
   ]
  },
  {
   "cell_type": "raw",
   "metadata": {},
   "source": [
    "!mkdir {DIRS['MODELS']+'refactored'}"
   ]
  },
  {
   "cell_type": "code",
   "execution_count": 2233,
   "metadata": {},
   "outputs": [],
   "source": [
    "save_path = saver.save(sess, DIRS['MODELS']+\"refactored/model.ckpt\")"
   ]
  },
  {
   "cell_type": "code",
   "execution_count": 2245,
   "metadata": {},
   "outputs": [
    {
     "data": {
      "text/plain": [
       "[<matplotlib.lines.Line2D at 0x7f779be89e48>]"
      ]
     },
     "execution_count": 2245,
     "metadata": {},
     "output_type": "execute_result"
    },
    {
     "data": {
      "image/png": "[encoded data removed]",
      "text/plain": [
       "<Figure size 432x288 with 1 Axes>"
      ]
     },
     "metadata": {
      "needs_background": "light"
     },
     "output_type": "display_data"
    }
   ],
   "source": [
    "plt.plot(losses)"
   ]
  },
  {
   "cell_type": "code",
   "execution_count": 2209,
   "metadata": {},
   "outputs": [
    {
     "name": "stdout",
     "output_type": "stream",
     "text": [
      " ни  и  л  т м ый   с и ю ь и    л    м    у   ь у   ы                                              \n",
      "они минули тёмный вестибюль и вошли в многоугольную высокую залу\n"
     ]
    }
   ],
   "source": [
    "res = txtConv.autoencode(txt,sess)\n",
    "print(res)\n",
    "print(txt)"
   ]
  },
  {
   "cell_type": "code",
   "execution_count": 2210,
   "metadata": {},
   "outputs": [],
   "source": [
    "fname = DIRS['RAW_DATA']+'/rus/voxforge_ru/0/00/78d77cdb75be'"
   ]
  },
  {
   "cell_type": "code",
   "execution_count": 2211,
   "metadata": {},
   "outputs": [
    {
     "data": {
      "text/plain": [
       "'они минули тёмный вестибюль и вошли в многоугольную высокую залу'"
      ]
     },
     "execution_count": 2211,
     "metadata": {},
     "output_type": "execute_result"
    }
   ],
   "source": [
    "with open(fname+'.txt', 'rb') as f:\n",
    "    txt = f.read().strip().decode()\n",
    "txt"
   ]
  },
  {
   "cell_type": "code",
   "execution_count": 2212,
   "metadata": {},
   "outputs": [],
   "source": [
    "audio = sess.run(sl.load_data([fname+'.wav']))[0]\n",
    "audio = np.concatenate([audio, [[0,0]]*(60-audio.shape[0]%30)])\n",
    "audio_resh = audio.reshape((30, -1, 2))"
   ]
  },
  {
   "cell_type": "code",
   "execution_count": 2215,
   "metadata": {},
   "outputs": [],
   "source": [
    "txt_emb = txtConv.embed(txt, sess)\n",
    "feed_dict={gru.sound_X:sound_X, gru.txt_embed_plh:txt_emb}"
   ]
  },
  {
   "cell_type": "code",
   "execution_count": 2218,
   "metadata": {},
   "outputs": [],
   "source": [
    "sparsity_epochs = [5,7,8]\n",
    "sparsity_lvl = 0.9"
   ]
  },
  {
   "cell_type": "code",
   "execution_count": 2236,
   "metadata": {},
   "outputs": [],
   "source": [
    "save_period = 8"
   ]
  },
  {
   "cell_type": "code",
   "execution_count": 2237,
   "metadata": {},
   "outputs": [
    {
     "data": {
      "application/vnd.jupyter.widget-view+json": {
       "model_id": "522c3f68ab344f38b3fe381bc057f79b",
       "version_major": 2,
       "version_minor": 0
      },
      "text/plain": [
       "HBox(children=(IntProgress(value=0, max=10), HTML(value='')))"
      ]
     },
     "metadata": {},
     "output_type": "display_data"
    },
    {
     "name": "stdout",
     "output_type": "stream",
     "text": [
      "sparsified by 0.0\n",
      "sparsified by 0.8666666666666666\n",
      "sparsified by 0.9\n"
     ]
    }
   ],
   "source": [
    "losses = []\n",
    "for epoch in tqdm_notebook(range(10)):\n",
    "    loss = gru.train(audio_resh, txt_emb, sess)\n",
    "    losses.append(loss)\n",
    "    \n",
    "    if epoch%save_period==0:\n",
    "        save_path = saver.save(sess, \"/tmp/model.ckpt\")\n",
    "    \n",
    "    if epoch in sparsity_epochs:\n",
    "        k = gru.calc_sparsity_level(epoch, sparsity_epochs, sparsity_lvl)\n",
    "        gru.sparsify(k, sess)\n",
    "        print(f'sparsified by {k}')"
   ]
  },
  {
   "cell_type": "code",
   "execution_count": 2238,
   "metadata": {},
   "outputs": [
    {
     "data": {
      "text/plain": [
       "[<matplotlib.lines.Line2D at 0x7f779be84dd8>]"
      ]
     },
     "execution_count": 2238,
     "metadata": {},
     "output_type": "execute_result"
    },
    {
     "data": {
      "image/png": "[encoded data removed]",
      "text/plain": [
       "<Figure size 432x288 with 1 Axes>"
      ]
     },
     "metadata": {
      "needs_background": "light"
     },
     "output_type": "display_data"
    }
   ],
   "source": [
    "plt.plot(losses)"
   ]
  },
  {
   "cell_type": "code",
   "execution_count": 2239,
   "metadata": {},
   "outputs": [],
   "source": [
    "save_path = saver.save(sess, \"/tmp/model.ckpt\")"
   ]
  },
  {
   "cell_type": "code",
   "execution_count": 2248,
   "metadata": {},
   "outputs": [
    {
     "data": {
      "application/vnd.jupyter.widget-view+json": {
       "model_id": "3981a779c39842cd8fce5f7534f47963",
       "version_major": 2,
       "version_minor": 0
      },
      "text/plain": [
       "HBox(children=(IntProgress(value=0, max=160), HTML(value='')))"
      ]
     },
     "metadata": {},
     "output_type": "display_data"
    }
   ],
   "source": [
    "gener_audio = gru.generate_audio(txt_emb, sess, seconds=0.01, show_tqdm=True)"
   ]
  },
  {
   "cell_type": "code",
   "execution_count": 2249,
   "metadata": {},
   "outputs": [],
   "source": [
    "audio_real = audio*128+128\n",
    "audio_real = audio_real[:,0]*256+audio_real[:,1]"
   ]
  },
  {
   "cell_type": "code",
   "execution_count": 2250,
   "metadata": {},
   "outputs": [
    {
     "data": {
      "text/plain": [
       "'они минули тёмный вестибюль и вошли в многоугольную высокую залу'"
      ]
     },
     "execution_count": 2250,
     "metadata": {},
     "output_type": "execute_result"
    }
   ],
   "source": [
    "txt"
   ]
  },
  {
   "cell_type": "code",
   "execution_count": 2251,
   "metadata": {},
   "outputs": [
    {
     "data": {
      "text/plain": [
       "[<matplotlib.lines.Line2D at 0x7f779be69c50>]"
      ]
     },
     "execution_count": 2251,
     "metadata": {},
     "output_type": "execute_result"
    },
    {
     "data": {
      "image/png": "[encoded data removed]",
      "text/plain": [
       "<Figure size 432x288 with 1 Axes>"
      ]
     },
     "metadata": {
      "needs_background": "light"
     },
     "output_type": "display_data"
    }
   ],
   "source": [
    "plt.plot(audio_real)"
   ]
  },
  {
   "cell_type": "code",
   "execution_count": 2252,
   "metadata": {},
   "outputs": [
    {
     "data": {
      "text/plain": [
       "[<matplotlib.lines.Line2D at 0x7f779bf65978>]"
      ]
     },
     "execution_count": 2252,
     "metadata": {},
     "output_type": "execute_result"
    },
    {
     "data": {
      "image/png": "[encoded data removed]",
      "text/plain": [
       "<Figure size 432x288 with 1 Axes>"
      ]
     },
     "metadata": {
      "needs_background": "light"
     },
     "output_type": "display_data"
    }
   ],
   "source": [
    "plt.plot(gener_flat)"
   ]
  }
 ],
 "metadata": {
  "kernelspec": {
   "display_name": "Python 3",
   "language": "python",
   "name": "python3"
  },
  "language_info": {
   "codemirror_mode": {
    "name": "ipython",
    "version": 3
   },
   "file_extension": ".py",
   "mimetype": "text/x-python",
   "name": "python",
   "nbconvert_exporter": "python",
   "pygments_lexer": "ipython3",
   "version": "3.6.8"
  }
 },
 "nbformat": 4,
 "nbformat_minor": 2
}
