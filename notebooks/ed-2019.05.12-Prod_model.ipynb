{
 "cells": [
  {
   "cell_type": "code",
   "execution_count": 1,
   "metadata": {},
   "outputs": [],
   "source": [
    "import sys\n",
    "import os\n",
    "\n",
    "import numpy as np\n",
    "from numpy import random\n",
    "import pandas as pd\n",
    "import tensorflow as tf\n",
    "from pathlib import Path\n",
    "import matplotlib.pyplot as plt\n",
    "import seaborn as sns\n",
    "\n",
    "from IPython import display\n",
    "%matplotlib inline\n",
    "from tqdm import tqdm_notebook\n",
    "\n",
    "PARENT_DIR = os.path.realpath('..')\n",
    "import importlib\n",
    "if PARENT_DIR not in sys.path:\n",
    "    sys.path.append(PARENT_DIR)\n",
    "\n",
    "try: importlib.reload(sl)\n",
    "except: import synt_lib as sl"
   ]
  },
  {
   "cell_type": "code",
   "execution_count": 2,
   "metadata": {},
   "outputs": [],
   "source": [
    "DIRS = sl.get_dirs(parent_dir=PARENT_DIR)\n",
    "M_PARAMS = sl.get_model_params()"
   ]
  },
  {
   "cell_type": "code",
   "execution_count": 3,
   "metadata": {},
   "outputs": [],
   "source": [
    "quant = M_PARAMS['QUANTIZATION_CHANNELS']\n",
    "nbits = int(np.log2(quant))"
   ]
  },
  {
   "cell_type": "markdown",
   "metadata": {},
   "source": [
    "# Build model"
   ]
  },
  {
   "cell_type": "code",
   "execution_count": 41,
   "metadata": {},
   "outputs": [],
   "source": [
    "def train_model(model_class,input_dimensions, hidden_size, batch_size, truncated_len, num_epochs, model_name,\n",
    "print_period=50, save_period=50, log_period=50, n_files_per_epoch=5, sparsify_epochs = [], sparsity_level=1, wav_fnames=None, align_fnames=None):\n",
    "    if model_name not in os.listdir(DIRS['MODELS']):\n",
    "        os.mkdir(DIRS['MODELS']+model_name)\n",
    "    \n",
    "    tf.reset_default_graph()\n",
    "    model = model_class(input_dimensions, hidden_size)\n",
    "    init_variables = tf.global_variables_initializer()\n",
    "    saver = tf.train.Saver()\n",
    "    if wav_fnames is None:\n",
    "        wav_fnames = Path(DIRS['RAW_DATA']).rglob(\"*.wav\")\n",
    "    \n",
    "    epochs_per_files_last = 0\n",
    "    \n",
    "    # Initialize the losses\n",
    "    train_losses = []\n",
    "    validation_losses = []\n",
    "\n",
    "    with tf.Session() as sess:\n",
    "        sess.run(init_variables)\n",
    "        # Perform all the iterations\n",
    "        for epoch in tqdm_notebook(range(num_epochs)):\n",
    "            if epochs_per_files_last==0:\n",
    "                X = sl.load_data(wav_fnames, n_files_per_epoch)\n",
    "                if align_fnames is not None:\n",
    "                    toh = sl.load_text_oh(align_fnames, n_files_per_epoch)\n",
    "                total_series_length = int(X.shape[1])\n",
    "                epochs_per_files_last = total_series_length//batch_size//truncated_len\n",
    "            epochs_per_files_last-=1\n",
    "            \n",
    "            if epoch in sparsify_epochs:\n",
    "                k = model.calc_sparsity_level(epoch, sparsify_epochs, sparsity_level)\n",
    "                model.sparsify(k, sess)\n",
    "            \n",
    "            X_train, Y_train, X_test, Y_test = sl.get_train_test(X, batch_size, truncated_len, sess, text_oh=toh)\n",
    "            train_loss, validation_loss = model.train(X_train, Y_train, X_test, Y_test, sess)\n",
    "\n",
    "            # Log the losses\n",
    "            train_losses.append(train_loss)\n",
    "            validation_losses.append(validation_loss)\n",
    "            \n",
    "            msg = f'Iteration: {epoch}, train loss: {train_loss:.4f}, val loss: {validation_loss:.4f}'\n",
    "            # Display an update every 50 iterations\n",
    "            if epoch % print_period == 0 and epoch!=0:\n",
    "                print(msg)\n",
    "            if epoch % print_period == 0 and epoch!=0:\n",
    "                sl.plot_losses(train_losses, validation_losses, title=msg)\n",
    "                plt.show()\n",
    "            if epoch % save_period == 0:\n",
    "                saver.save(sess, DIRS['MODELS']+model_name+'/checkpoint',global_step=epoch,write_meta_graph=True)\n",
    "        \n",
    "        sl.plot_losses(train_losses, validation_losses, title=msg)\n",
    "        plt.show()\n",
    "\n",
    "        saver.save(sess, DIRS['MODELS']+model_name+'/final')\n",
    "        \n",
    "    return train_losses, validation_losses, model"
   ]
  },
  {
   "cell_type": "markdown",
   "metadata": {},
   "source": [
    "# Get Data"
   ]
  },
  {
   "cell_type": "markdown",
   "metadata": {},
   "source": [
    "Всего файлов:\n",
    "* Обучение (cv-valid-train): 391552\n",
    "* cv-valid-dev: 8152\n",
    "* cv-valid-test: 7990"
   ]
  },
  {
   "cell_type": "markdown",
   "metadata": {},
   "source": [
    "# Develop models"
   ]
  },
  {
   "cell_type": "markdown",
   "metadata": {},
   "source": [
    "## Structured Sparse"
   ]
  },
  {
   "cell_type": "code",
   "execution_count": 128,
   "metadata": {},
   "outputs": [],
   "source": [
    "class WaveGRU_structured_sparse:\n",
    "    \"\"\"Implementation of a Gated Recurrent Unit (GRU) as described in [1].\n",
    "    \n",
    "    [1] Chung, J., Gulcehre, C., Cho, K., & Bengio, Y. (2014). Empirical evaluation of gated recurrent neural networks on sequence modeling. arXiv preprint arXiv:1412.3555.\n",
    "    \n",
    "    \n",
    "    Arguments\n",
    "    ---------\n",
    "    input_dimensions: int\n",
    "        The size of the input vectors (x_t).\n",
    "    hidden_size: int\n",
    "        The size of the hidden layer vectors (h_t).\n",
    "    dtype: obj\n",
    "        The datatype used for the variables and constants (optional).\n",
    "    \"\"\"\n",
    "    \n",
    "    def __init__(self, input_dimensions, hidden_size, dtype=tf.float64, variables_values_dict=None, block_shape=(16,1), session=None):\n",
    "        self.input_dimensions = input_dimensions\n",
    "        self.hidden_size = hidden_size\n",
    "        self.block_shape = block_shape\n",
    "        self.session=session\n",
    "        \n",
    "        self.define_constants()\n",
    "        if variables_values_dict is None:\n",
    "            self.define_variables(dtype)\n",
    "        else:\n",
    "            self.restore_variables(variables_values_dict)\n",
    "        self.var_list = [self.Ir, self.Iu, self.Ie,\n",
    "                        self.Rr, self.Ru, self.Rr,\n",
    "                        self.O1, self.O2, self.O3, self.O4]\n",
    "        self.define_arithmetics()\n",
    "        self.define_train_variables()\n",
    "    \n",
    "    def define_constants(self):\n",
    "        # Mask for masking W matrixes\n",
    "        M = np.ones(shape=(self.input_dimensions, self.hidden_size))\n",
    "        M[2,:self.hidden_size//2]=0\n",
    "        self.M = tf.constant(shape=(self.input_dimensions, self.hidden_size), value=M)\n",
    "        \n",
    "    def define_variables(self, dtype):     \n",
    "        # Weights for input vectors of shape (input_dimensions, hidden_size)\n",
    "        self.Ir, self.Iu, self.Ie = [\n",
    "            tf.Variable(tf.truncated_normal(dtype=dtype, shape=(self.input_dimensions, self.hidden_size), mean=0, stddev=0.01), name=name)\n",
    "            for name in ['Ir','Iu','Ie']\n",
    "        ]\n",
    "\n",
    "        # Weights for hidden vectors of shape (hidden_size, hidden_size)\n",
    "        self.Rr, self.Ru, self.Re = [\n",
    "            tf.Variable(tf.truncated_normal(dtype=dtype, shape=(self.hidden_size, self.hidden_size), mean=0, stddev=0.01), name=name)\n",
    "            for name in ['Rr','Ru','Re']\n",
    "        ]\n",
    "        \n",
    "        # Biases for hidden vectors of shape (hidden_size,)\n",
    "        self.br, self.bu, self.be = [\n",
    "            tf.Variable(tf.truncated_normal(dtype=dtype, shape=(self.hidden_size,), mean=0, stddev=0.01), name=name)\n",
    "            for name in ['br','bu','be']\n",
    "        ]\n",
    "        \n",
    "        # O's matrices\n",
    "        self.O1, self.O2, self.O3, self.O4 = [\n",
    "            tf.Variable(tf.truncated_normal(dtype=dtype, shape=(self.hidden_size//2, self.hidden_size//2), mean=0, stddev=0.01), name=name)\n",
    "            for name in ['O1','O2','O3', 'O4']\n",
    "        ]\n",
    "        \n",
    "        \n",
    "        #sparse matrices\n",
    "        m1,m2 = self.block_shape\n",
    "        #self.M_Ir, self.M_Iu, self.M_Ie = [np.ones(shape=(self.input_dimensions, self.hidden_size)) for i in range(3)]\n",
    "        self.M_Rr, self.M_Ru, self.M_Re = [np.ones(shape=(self.hidden_size//m1, self.hidden_size//m2)) for i in range(3)]\n",
    "        self.M_O1, self.M_O2, self.M_O3, self.M_O4 = [np.ones(shape=(self.hidden_size//2//m1, self.hidden_size//2//m2)) for i in range(4)]\n",
    "        \n",
    "        #self.M_IrV, self.M_IuV, self.M_IeV = [\n",
    "        #    tf.Variable(val,name=name)\n",
    "        #    for val,name in zip([self.M_Ir, self.M_Iu, self.M_Ie],['M_IrV','M_IuV','M_IeV'])]\n",
    "        self.M_RrV, self.M_RuV, self.M_ReV = [\n",
    "            tf.Variable(val,name=name)\n",
    "            for val,name in zip([self.M_Rr, self.M_Ru, self.M_Re],['M_RrV','M_RuV','M_ReV'])]\n",
    "        self.M_O1V, self.M_O2V, self.M_O3V, self.M_O4V = [\n",
    "            tf.Variable(val,name=name)\n",
    "            for val,name in zip([self.M_O1, self.M_O2, self.M_O3, self.M_O4],['M_O1V','M_O2V','M_O3V', 'M_O4V'])]\n",
    "    \n",
    "    def restore_variables(self, variables):\n",
    "        # Weights for input vectors of shape (input_dimensions, hidden_size)\n",
    "        self.Ir, self.Iu, self.Ie = [tf.Variable(variables[name+':0'], name=name) for name in ['Ir','Iu','Ie']]\n",
    "        # Weights for hidden vectors of shape (hidden_size, hidden_size)\n",
    "        self.Rr, self.Ru, self.Re = [tf.Variable(variables[name+':0'], name=name) for name in ['Rr','Ru','Re']]\n",
    "        # Biases for hidden vectors of shape (hidden_size,)\n",
    "        self.br, self.bu, self.be = [tf.Variable(variables[name+':0'], name=name) for name in ['br','bu','be']]\n",
    "        # O's matrices\n",
    "        self.O1, self.O2, self.O3, self.O4 = [tf.Variable(variables[name+':0'], name=name) for name in ['O1','O2','O3','O4']]\n",
    "        \n",
    "        #self.M_Ir, self.M_Iu, self.M_Ie = [variables[name+':0'] for name in ['M_IrV','M_IuV','M_IeV']]\n",
    "        self.M_Rr, self.M_Ru, self.M_Re = [variables[name+':0'] for name in ['M_RrV','M_RuV','M_ReV']]\n",
    "        self.M_O1, self.M_O2, self.M_O3, self.M_O4 = [variables[name+':0'] for name in ['M_O1V','M_O2V','M_O3V','M_O4V']]\n",
    "        \n",
    "        #self.M_IrV, self.M_IuV, self.M_IeV = [\n",
    "        #    tf.Variable(val,name=name)\n",
    "        #    for val,name in zip([self.M_Ir, self.M_Iu, self.M_Ie],['M_IrV','M_IuV','M_IeV'])]\n",
    "        self.M_RrV, self.M_RuV, self.M_ReV = [\n",
    "            tf.Variable(val,name=name)\n",
    "            for val,name in zip([self.M_Rr, self.M_Ru, self.M_Re],['M_RrV','M_RuV','M_ReV'])]\n",
    "        self.M_O1V, self.M_O2V, self.M_O3V, self.M_O4V = [\n",
    "            tf.Variable(val,name=name)\n",
    "            for val,name in zip([self.M_O1, self.M_O2, self.M_O3, self.M_O4],['M_O1V','M_O2V','M_O3V', 'M_O4V'])]\n",
    "    def define_arithmetics(self):\n",
    "        # Define the input layer placeholder\n",
    "        self.input_layer = tf.placeholder(dtype=tf.float64, shape=(None, None, self.input_dimensions), name='input')\n",
    "        #[c_t-1, f_t-1, c_t]\n",
    "        \n",
    "        # Put the time-dimension upfront for the scan operator\n",
    "        self.x_t = tf.transpose(self.input_layer, [1, 0, 2], name='x_t')\n",
    "        #[f_t-1, c_t-1, c_t]\n",
    "        \n",
    "        # A little hack (to obtain the same shape as the input matrix) to define the initial hidden state h_0\n",
    "        self.h_0 = tf.matmul(self.x_t[0, :, :], tf.zeros(dtype=tf.float64, shape=(self.input_dimensions, self.hidden_size)), name='h_0')\n",
    "        \n",
    "        # Perform the scan operator\n",
    "        self.h_t_transposed = tf.scan(self.forward_pass, self.x_t, initializer=self.h_0, name='h_t_transposed')\n",
    "        \n",
    "        self.y_c, self.y_f = tf.split(self.h_t_transposed, num_or_size_splits=2, axis=2, name='split_y')\n",
    "        # Transpose the result back\n",
    "        #self.h_t = tf.transpose(self.h_t_transposed, [1, 0, 2], name='h_t')\n",
    "        \n",
    "        self.P_ct = tf.scan(self.get_P_cs, self.y_c, name='calc_Pc')\n",
    "        self.c_t_transposed = tf.reduce_max(self.P_ct, axis=2, name='c_t_trans')\n",
    "        self.c_t = tf.transpose(self.c_t_transposed, name='c_t')\n",
    "        self.P_ft = tf.scan(self.get_P_fs, self.y_f, name='calc_Pf')\n",
    "        self.f_t_transposed = tf.reduce_max(self.P_ft, axis=2, name='f_t_trans')\n",
    "        self.f_t = tf.transpose(self.f_t_transposed, name='f_t')\n",
    "        \n",
    "        self.y = tf.stack([self.c_t, self.f_t], axis=2, name='y')\n",
    "    \n",
    "    def define_train_variables(self):\n",
    "        self.output = self.y\n",
    "        self.expected_output = tf.placeholder(\n",
    "            dtype=tf.float64, shape=(None, None, 2), name='expected_output'\n",
    "            #(batch_size, truncated_len, 2), name='expected_output'\n",
    "        )\n",
    "        #self.loss = tf.reduce_sum(0.5 * tf.pow(self.output - self.expected_output, 2)) / float(batch_size)\n",
    "        # mean(1/2 * (y-y_true)^2)\n",
    "        self.loss = tf.reduce_mean(0.5 * tf.pow(self.output - self.expected_output, 2), name='loss')\n",
    "        self.train_step = tf.train.AdamOptimizer().minimize(self.loss, var_list=self.var_list)\n",
    "        \n",
    "    def get_P_cs(self, lastP, y_c):\n",
    "        M_O1, M_O2 = [self.extend_matrix(M) for M in [self.M_O1, self.M_O2]]\n",
    "        O1_sparse, O2_sparse = tf.multiply(self.O1, M_O1, name='O1_sparse'), tf.multiply(self.O2, M_O2, name='O2_sparse')\n",
    "        return tf.nn.softmax( tf.matmul(tf.nn.relu(tf.matmul(y_c, O1_sparse)), O2_sparse), axis=1, name='P_c')\n",
    "    def get_P_fs(self, lastP, y_f):\n",
    "        M_O3, M_O4 = [self.extend_matrix(M) for M in [self.M_O3, self.M_O4]]\n",
    "        O3_sparse, O4_sparse = tf.multiply(self.O3, M_O3, name='O3_sparse'), tf.multiply(self.O4, M_O4, name='O4_sparse')\n",
    "        return tf.nn.softmax( tf.matmul(tf.nn.relu(tf.matmul(y_f, O3_sparse)), O4_sparse), axis=1, name='P_f')\n",
    "        \n",
    "    def forward_pass(self, h_tm1, x_t):\n",
    "        \"\"\"Perform a forward pass.\n",
    "        Arguments\n",
    "        ---------\n",
    "        h_tm1: np.matrix\n",
    "            The hidden state at the previous timestep (h_{t-1}).\n",
    "        x_t: np.matrix\n",
    "            The input vector.\n",
    "        \"\"\"\n",
    "        self.Iu_masked = tf.multiply(self.Iu, self.M, name='Iu_mask')\n",
    "        self.Ir_masked = tf.multiply(self.Ir, self.M, name='Ir_mask')\n",
    "        self.Ie_masked = tf.multiply(self.Ie, self.M, name='Ie_mask')\n",
    "                      \n",
    "        #M_Iu, M_Ir, M_Ie = [self.extend_matrix(M) for M in [self.M_Iu, self.M_Ir, self.M_Ie]]\n",
    "        M_Ru, M_Rr, M_Re = [self.extend_matrix(M) for M in [self.M_Ru, self.M_Rr, self.M_Re]]\n",
    "                \n",
    "        #self.Iu_sparse = tf.multiply(self.Iu_masked, M_Iu, name='Iu_sparse')\n",
    "        #self.Ir_sparse = tf.multiply(self.Ir_masked, M_Ir, name='Ir_sparse')\n",
    "        #self.Ie_sparse = tf.multiply(self.Ie_masked, M_Ie, name='Ie_sparse')\n",
    "        self.Iu_sparse, self.Ir_sparse, self.Ie_sparse = self.Iu_masked, self.Ir_masked, self.Ie_masked\n",
    "        self.Ru_sparse = tf.multiply(self.Ru, M_Ru, name='Ru_sparse')\n",
    "        self.Rr_sparse = tf.multiply(self.Rr, M_Rr, name='Rr_sparse')\n",
    "        self.Re_sparse = tf.multiply(self.Re, M_Re, name='Re_sparse')\n",
    "        \n",
    "        \n",
    "        # Definitions of z_t and r_t\n",
    "        u_t = tf.sigmoid(tf.matmul(h_tm1, self.Ru_sparse) + tf.matmul(x_t, self.Iu_sparse) + self.bu, name='u_t')\n",
    "        r_t = tf.sigmoid(tf.matmul(h_tm1, self.Rr_sparse) + tf.matmul(x_t, self.Ir_sparse) + self.br, name='r_t')\n",
    "        # Definition of h~_t\n",
    "        e_t = tf.tanh(tf.multiply(r_t, tf.matmul(h_tm1, self.Re_sparse))+tf.matmul(x_t, self.Ir_sparse)+ self.be, name='e_t')\n",
    "        # Compute the next hidden state\n",
    "        h_t = tf.multiply(u_t, h_tm1) + tf.multiply(1 - u_t, e_t)\n",
    "        return h_t\n",
    "    \n",
    "    def get_sparse_matrix(self, tensor, k, session):\n",
    "        tensor_ev = tensor.eval(session=session)\n",
    "        m1,m2 = self.block_shape\n",
    "        shorted = np.array([[tensor_ev[m1*i:m1*(i+1),m2*j:m2*(j+1)].mean() for j in range(tensor_ev.shape[1]//m2)] for i in range(tensor_ev.shape[0]//m1)])\n",
    "        flat = shorted.flatten()\n",
    "        k_ = int(k*int(flat.shape[0]))\n",
    "        idxs = flat.argsort()[:k_]\n",
    "        M = np.ones((int(flat.shape[0])))\n",
    "        M[idxs] = 0\n",
    "        return M.reshape(shorted.shape)\n",
    "        \n",
    "        #flat = tf.reshape(tensor, (-1,))\n",
    "        #k_ = int(k*int(flat.shape[0]))\n",
    "        #idxs = session.run(tf.math.top_k(-flat, k_).indices)\n",
    "        #M = np.ones((int(flat.shape[0])))\n",
    "        #M[idxs] = 0\n",
    "        #return M.reshape(tensor.shape)\n",
    "    \n",
    "    def sparsify(self, k, session):\n",
    "        #self.M_Iu, self.M_Ir, self.M_Ie = [\n",
    "        #    self.get_sparse_matrix(t, k, session) for t in [self.Iu, self.Ir, self.Ie]]\n",
    "        self.M_Ru, self.M_Rr, self.M_Re = [\n",
    "            self.get_sparse_matrix(t, k, session) for t in [self.Ru, self.Rr, self.Re]]\n",
    "        self.M_O1, self.M_O2, self.M_O3, self.M_O4 = [\n",
    "            self.get_sparse_matrix(t, k, session) for t in [self.O1, self.O2, self.O3, self.O4]]\n",
    "            #self.get_sparse_matrix(t, k, session) for t in [self.M_O1, self.M_O2, self.M_O3, self.M_O4]]\n",
    "            \n",
    "        #self.M_IrV, self.M_IuV, self.M_IeV = [\n",
    "        #    tf.Variable(val,name=name)\n",
    "        #    for val,name in zip([self.M_Ir, self.M_Iu, self.M_Ie],['M_IrV','M_IuV','M_IeV'])]\n",
    "        self.M_RrV, self.M_RuV, self.M_ReV = [\n",
    "            tf.Variable(val,name=name)\n",
    "            for val,name in zip([self.M_Rr, self.M_Ru, self.M_Re],['M_RrV','M_RuV','M_ReV'])]\n",
    "        self.M_O1V, self.M_O2V, self.M_O3V, self.M_O4V = [\n",
    "            tf.Variable(val,name=name)\n",
    "            for val,name in zip([self.M_O1, self.M_O2, self.M_O3, self.M_O4],['M_O1V','M_O2V','M_O3V', 'M_O4V'])]\n",
    "\n",
    "    def extend_matrix(self, M):\n",
    "        coefs = self.block_shape\n",
    "        return np.concatenate([[np.concatenate([[j]*coefs[1] for j in i])]*coefs[0] for i in M])                \n",
    "        \n",
    "    @staticmethod\n",
    "    def calc_sparsity_level(t,sparsify_epochs ,sparsity_level):\n",
    "        t0 = min(sparsify_epochs)\n",
    "        S = max(sparsify_epochs)-t0\n",
    "        Z = sparsity_level\n",
    "        return Z*(1-(1-(t-t0)/S)**3)\n",
    "    \n",
    "    def train(self, X_train, Y_train, X_test, Y_test, session):\n",
    "        c_t = session.run(self.c_t, feed_dict={self.input_layer: X_train})\n",
    "        X_train[:,:,2] = c_t\n",
    "        # Compute the losses\n",
    "        _, train_loss = session.run([self.train_step, self.loss],\n",
    "                                 feed_dict={self.input_layer: X_train, self.expected_output: Y_train})\n",
    "        validation_loss = session.run(self.loss,\n",
    "                                   feed_dict={self.input_layer: X_test, self.expected_output: Y_test})\n",
    "        return train_loss, validation_loss\n",
    "    \n",
    "    def validate(self, X_val, Y_val, session):\n",
    "        c_t = session.run(self.c_t, feed_dict={self.input_layer: X_val})\n",
    "        X_val[:,:,2] = c_t\n",
    "        validation_loss = session.sun(self.loss,\n",
    "                                     feed_dict={self.input_layer: X_val, self.expected_output: Y_val})\n",
    "        return validation_loss\n",
    "    \n",
    "    def generate_sound(self, num_pieces, n_seconds, session, sample_rate=16000):\n",
    "        generated = np.array([0]*2*num_pieces).reshape(num_pieces,1,2)\n",
    "        curX = generated[:,-1,:].reshape(num_pieces,-1,2)\n",
    "        for i in tqdm_notebook(range(sample_rate*n_seconds)): # 1 seconds of 'speach'\n",
    "            curX = generated[:,-1,:].reshape(num_pieces,-1,2)\n",
    "            curX = np.concatenate([curX,np.array([[[0]]]*num_pieces) ],axis=2)\n",
    "            c_t = session.run(self.c_t, feed_dict={self.input_layer: curX})\n",
    "            curX[:,:,2] = c_t\n",
    "            curY = session.run(self.output, feed_dict={self.input_layer: curX})\n",
    "            generated = np.concatenate([generated, curY],axis=1)\n",
    "        gen_to_wav = generated*128+128\n",
    "        gen_to_wav = np.int32((gen_to_wav[:,:,0]*256+gen_to_wav[:,:,1]).round())\n",
    "        gen_to_wav = tf.convert_to_tensor(gen_to_wav)\n",
    "        return gen_to_wav"
   ]
  },
  {
   "cell_type": "code",
   "execution_count": 129,
   "metadata": {},
   "outputs": [],
   "source": [
    "input_dimensions = 1228\n",
    "hidden_size = 224\n",
    "batch_size = 1\n",
    "truncated_len = 100"
   ]
  },
  {
   "cell_type": "code",
   "execution_count": 130,
   "metadata": {},
   "outputs": [
    {
     "name": "stdout",
     "output_type": "stream",
     "text": [
      "0.0068 (8344, 4)\n",
      "(8287, 4)\n"
     ]
    },
    {
     "data": {
      "text/html": [
       "<div>\n",
       "<style scoped>\n",
       "    .dataframe tbody tr th:only-of-type {\n",
       "        vertical-align: middle;\n",
       "    }\n",
       "\n",
       "    .dataframe tbody tr th {\n",
       "        vertical-align: top;\n",
       "    }\n",
       "\n",
       "    .dataframe thead th {\n",
       "        text-align: right;\n",
       "    }\n",
       "</style>\n",
       "<table border=\"1\" class=\"dataframe\">\n",
       "  <thead>\n",
       "    <tr style=\"text-align: right;\">\n",
       "      <th></th>\n",
       "      <th>wav</th>\n",
       "      <th>txt</th>\n",
       "      <th>dur</th>\n",
       "      <th>align</th>\n",
       "    </tr>\n",
       "  </thead>\n",
       "  <tbody>\n",
       "    <tr>\n",
       "      <th>0</th>\n",
       "      <td>/opt/notebooks/raw_data/rus/voxforge_ru/a/40/d...</td>\n",
       "      <td>/opt/notebooks/raw_data/rus/voxforge_ru/a/40/d...</td>\n",
       "      <td>1.0250</td>\n",
       "      <td>/opt/notebooks/raw_data/rus/voxforge_ru/a/40/d...</td>\n",
       "    </tr>\n",
       "    <tr>\n",
       "      <th>1</th>\n",
       "      <td>/opt/notebooks/raw_data/rus/voxforge_ru/b/db/1...</td>\n",
       "      <td>/opt/notebooks/raw_data/rus/voxforge_ru/b/db/1...</td>\n",
       "      <td>1.0875</td>\n",
       "      <td>/opt/notebooks/raw_data/rus/voxforge_ru/b/db/1...</td>\n",
       "    </tr>\n",
       "    <tr>\n",
       "      <th>2</th>\n",
       "      <td>/opt/notebooks/raw_data/rus/voxforge_ru/5/3c/d...</td>\n",
       "      <td>/opt/notebooks/raw_data/rus/voxforge_ru/5/3c/d...</td>\n",
       "      <td>1.0875</td>\n",
       "      <td>/opt/notebooks/raw_data/rus/voxforge_ru/5/3c/d...</td>\n",
       "    </tr>\n",
       "    <tr>\n",
       "      <th>3</th>\n",
       "      <td>/opt/notebooks/raw_data/rus/voxforge_ru/c/d9/e...</td>\n",
       "      <td>/opt/notebooks/raw_data/rus/voxforge_ru/c/d9/e...</td>\n",
       "      <td>1.0950</td>\n",
       "      <td>/opt/notebooks/raw_data/rus/voxforge_ru/c/d9/e...</td>\n",
       "    </tr>\n",
       "    <tr>\n",
       "      <th>4</th>\n",
       "      <td>/opt/notebooks/raw_data/rus/voxforge_ru/0/3e/9...</td>\n",
       "      <td>/opt/notebooks/raw_data/rus/voxforge_ru/0/3e/9...</td>\n",
       "      <td>1.1500</td>\n",
       "      <td>/opt/notebooks/raw_data/rus/voxforge_ru/0/3e/9...</td>\n",
       "    </tr>\n",
       "  </tbody>\n",
       "</table>\n",
       "</div>"
      ],
      "text/plain": [
       "                                                 wav  \\\n",
       "0  /opt/notebooks/raw_data/rus/voxforge_ru/a/40/d...   \n",
       "1  /opt/notebooks/raw_data/rus/voxforge_ru/b/db/1...   \n",
       "2  /opt/notebooks/raw_data/rus/voxforge_ru/5/3c/d...   \n",
       "3  /opt/notebooks/raw_data/rus/voxforge_ru/c/d9/e...   \n",
       "4  /opt/notebooks/raw_data/rus/voxforge_ru/0/3e/9...   \n",
       "\n",
       "                                                 txt     dur  \\\n",
       "0  /opt/notebooks/raw_data/rus/voxforge_ru/a/40/d...  1.0250   \n",
       "1  /opt/notebooks/raw_data/rus/voxforge_ru/b/db/1...  1.0875   \n",
       "2  /opt/notebooks/raw_data/rus/voxforge_ru/5/3c/d...  1.0875   \n",
       "3  /opt/notebooks/raw_data/rus/voxforge_ru/c/d9/e...  1.0950   \n",
       "4  /opt/notebooks/raw_data/rus/voxforge_ru/0/3e/9...  1.1500   \n",
       "\n",
       "                                               align  \n",
       "0  /opt/notebooks/raw_data/rus/voxforge_ru/a/40/d...  \n",
       "1  /opt/notebooks/raw_data/rus/voxforge_ru/b/db/1...  \n",
       "2  /opt/notebooks/raw_data/rus/voxforge_ru/5/3c/d...  \n",
       "3  /opt/notebooks/raw_data/rus/voxforge_ru/c/d9/e...  \n",
       "4  /opt/notebooks/raw_data/rus/voxforge_ru/0/3e/9...  "
      ]
     },
     "execution_count": 130,
     "metadata": {},
     "output_type": "execute_result"
    }
   ],
   "source": [
    "ds = pd.read_csv(DIRS['RAW_DATA']+'rus/voxforge_ru_aligned.csv', index_col=0)\n",
    "print(round(ds.isnull().sum(1).mean(),4), ds.shape)\n",
    "ds = ds.dropna()\n",
    "print(ds.shape)\n",
    "ds.head()"
   ]
  },
  {
   "cell_type": "code",
   "execution_count": 131,
   "metadata": {},
   "outputs": [],
   "source": [
    "ds = ds[100:103]"
   ]
  },
  {
   "cell_type": "code",
   "execution_count": 132,
   "metadata": {},
   "outputs": [],
   "source": [
    "wav_fnames = ds['wav'].iteritems()\n",
    "align_fnames = ds['align'].iteritems()"
   ]
  },
  {
   "cell_type": "code",
   "execution_count": 133,
   "metadata": {},
   "outputs": [
    {
     "data": {
      "application/vnd.jupyter.widget-view+json": {
       "model_id": "8533fbf6ff2842c6bdbb0de94cfc428e",
       "version_major": 2,
       "version_minor": 0
      },
      "text/plain": [
       "HBox(children=(IntProgress(value=0, max=1), HTML(value='')))"
      ]
     },
     "metadata": {},
     "output_type": "display_data"
    },
    {
     "data": {
      "image/png": "[encoded data removed]",
      "text/plain": [
       "<Figure size 432x288 with 1 Axes>"
      ]
     },
     "metadata": {
      "needs_background": "light"
     },
     "output_type": "display_data"
    }
   ],
   "source": [
    "model_name = f'Prod_develop'\n",
    "\n",
    "train_losses, validation_losses, model = train_model(\n",
    "    WaveGRU_structured_sparse, input_dimensions, hidden_size, batch_size=batch_size, truncated_len=truncated_len,\n",
    "    num_epochs=1, model_name=model_name, print_period=50, log_period=10,\n",
    "    align_fnames=align_fnames, wav_fnames=wav_fnames\n",
    ")"
   ]
  },
  {
   "cell_type": "code",
   "execution_count": 134,
   "metadata": {},
   "outputs": [
    {
     "data": {
      "image/png": "[encoded data removed]",
      "text/plain": [
       "<Figure size 720x216 with 1 Axes>"
      ]
     },
     "metadata": {
      "needs_background": "light"
     },
     "output_type": "display_data"
    }
   ],
   "source": [
    "plt.figure(figsize=(10,3))\n",
    "plt.plot(train_losses, label='Train')\n",
    "plt.plot(validation_losses, label='Validation')\n",
    "plt.title(model_name)\n",
    "plt.show()"
   ]
  },
  {
   "cell_type": "code",
   "execution_count": 135,
   "metadata": {},
   "outputs": [
    {
     "data": {
      "text/plain": [
       "[<tf.Variable 'Ir:0' shape=(1228, 224) dtype=float64_ref>,\n",
       " <tf.Variable 'Iu:0' shape=(1228, 224) dtype=float64_ref>,\n",
       " <tf.Variable 'Ie:0' shape=(1228, 224) dtype=float64_ref>,\n",
       " <tf.Variable 'Rr:0' shape=(224, 224) dtype=float64_ref>,\n",
       " <tf.Variable 'Ru:0' shape=(224, 224) dtype=float64_ref>,\n",
       " <tf.Variable 'Re:0' shape=(224, 224) dtype=float64_ref>,\n",
       " <tf.Variable 'br:0' shape=(224,) dtype=float64_ref>,\n",
       " <tf.Variable 'bu:0' shape=(224,) dtype=float64_ref>,\n",
       " <tf.Variable 'be:0' shape=(224,) dtype=float64_ref>,\n",
       " <tf.Variable 'O1:0' shape=(112, 112) dtype=float64_ref>,\n",
       " <tf.Variable 'O2:0' shape=(112, 112) dtype=float64_ref>,\n",
       " <tf.Variable 'O3:0' shape=(112, 112) dtype=float64_ref>,\n",
       " <tf.Variable 'O4:0' shape=(112, 112) dtype=float64_ref>,\n",
       " <tf.Variable 'M_RrV:0' shape=(14, 224) dtype=float64_ref>,\n",
       " <tf.Variable 'M_RuV:0' shape=(14, 224) dtype=float64_ref>,\n",
       " <tf.Variable 'M_ReV:0' shape=(14, 224) dtype=float64_ref>,\n",
       " <tf.Variable 'M_O1V:0' shape=(7, 112) dtype=float64_ref>,\n",
       " <tf.Variable 'M_O2V:0' shape=(7, 112) dtype=float64_ref>,\n",
       " <tf.Variable 'M_O3V:0' shape=(7, 112) dtype=float64_ref>,\n",
       " <tf.Variable 'M_O4V:0' shape=(7, 112) dtype=float64_ref>,\n",
       " <tf.Variable 'beta1_power:0' shape=() dtype=float32_ref>,\n",
       " <tf.Variable 'beta2_power:0' shape=() dtype=float32_ref>,\n",
       " <tf.Variable 'Ir/Adam:0' shape=(1228, 224) dtype=float64_ref>,\n",
       " <tf.Variable 'Ir/Adam_1:0' shape=(1228, 224) dtype=float64_ref>,\n",
       " <tf.Variable 'Iu/Adam:0' shape=(1228, 224) dtype=float64_ref>,\n",
       " <tf.Variable 'Iu/Adam_1:0' shape=(1228, 224) dtype=float64_ref>,\n",
       " <tf.Variable 'Rr/Adam:0' shape=(224, 224) dtype=float64_ref>,\n",
       " <tf.Variable 'Rr/Adam_1:0' shape=(224, 224) dtype=float64_ref>,\n",
       " <tf.Variable 'Ru/Adam:0' shape=(224, 224) dtype=float64_ref>,\n",
       " <tf.Variable 'Ru/Adam_1:0' shape=(224, 224) dtype=float64_ref>,\n",
       " <tf.Variable 'O1/Adam:0' shape=(112, 112) dtype=float64_ref>,\n",
       " <tf.Variable 'O1/Adam_1:0' shape=(112, 112) dtype=float64_ref>,\n",
       " <tf.Variable 'O2/Adam:0' shape=(112, 112) dtype=float64_ref>,\n",
       " <tf.Variable 'O2/Adam_1:0' shape=(112, 112) dtype=float64_ref>,\n",
       " <tf.Variable 'O3/Adam:0' shape=(112, 112) dtype=float64_ref>,\n",
       " <tf.Variable 'O3/Adam_1:0' shape=(112, 112) dtype=float64_ref>,\n",
       " <tf.Variable 'O4/Adam:0' shape=(112, 112) dtype=float64_ref>,\n",
       " <tf.Variable 'O4/Adam_1:0' shape=(112, 112) dtype=float64_ref>]"
      ]
     },
     "execution_count": 135,
     "metadata": {},
     "output_type": "execute_result"
    }
   ],
   "source": [
    "tf.global_variables()"
   ]
  },
  {
   "cell_type": "markdown",
   "metadata": {},
   "source": [
    "# Restoring model"
   ]
  },
  {
   "cell_type": "code",
   "execution_count": 136,
   "metadata": {},
   "outputs": [],
   "source": [
    "model_name = f'Prod_develop'"
   ]
  },
  {
   "cell_type": "code",
   "execution_count": 137,
   "metadata": {},
   "outputs": [
    {
     "data": {
      "text/plain": [
       "['checkpoint',\n",
       " 'checkpoint-0.data-00000-of-00001',\n",
       " 'checkpoint-0.index',\n",
       " 'checkpoint-0.meta',\n",
       " 'final.data-00000-of-00001',\n",
       " 'final.index',\n",
       " 'final.meta']"
      ]
     },
     "execution_count": 137,
     "metadata": {},
     "output_type": "execute_result"
    }
   ],
   "source": [
    "sorted(os.listdir(DIRS['MODELS']+model_name))"
   ]
  },
  {
   "cell_type": "code",
   "execution_count": 138,
   "metadata": {},
   "outputs": [
    {
     "name": "stdout",
     "output_type": "stream",
     "text": [
      "INFO:tensorflow:Restoring parameters from /opt/notebooks/models/Prod_develop/final\n",
      "[<tf.Variable 'Ir:0' shape=(1228, 224) dtype=float64_ref>, <tf.Variable 'Iu:0' shape=(1228, 224) dtype=float64_ref>, <tf.Variable 'Ie:0' shape=(1228, 224) dtype=float64_ref>, <tf.Variable 'Rr:0' shape=(224, 224) dtype=float64_ref>, <tf.Variable 'Ru:0' shape=(224, 224) dtype=float64_ref>, <tf.Variable 'Re:0' shape=(224, 224) dtype=float64_ref>, <tf.Variable 'br:0' shape=(224,) dtype=float64_ref>, <tf.Variable 'bu:0' shape=(224,) dtype=float64_ref>, <tf.Variable 'be:0' shape=(224,) dtype=float64_ref>, <tf.Variable 'O1:0' shape=(112, 112) dtype=float64_ref>, <tf.Variable 'O2:0' shape=(112, 112) dtype=float64_ref>, <tf.Variable 'O3:0' shape=(112, 112) dtype=float64_ref>, <tf.Variable 'O4:0' shape=(112, 112) dtype=float64_ref>, <tf.Variable 'M_RrV:0' shape=(14, 224) dtype=float64_ref>, <tf.Variable 'M_RuV:0' shape=(14, 224) dtype=float64_ref>, <tf.Variable 'M_ReV:0' shape=(14, 224) dtype=float64_ref>, <tf.Variable 'M_O1V:0' shape=(7, 112) dtype=float64_ref>, <tf.Variable 'M_O2V:0' shape=(7, 112) dtype=float64_ref>, <tf.Variable 'M_O3V:0' shape=(7, 112) dtype=float64_ref>, <tf.Variable 'M_O4V:0' shape=(7, 112) dtype=float64_ref>, <tf.Variable 'beta1_power:0' shape=() dtype=float32_ref>, <tf.Variable 'beta2_power:0' shape=() dtype=float32_ref>, <tf.Variable 'Ir/Adam:0' shape=(1228, 224) dtype=float64_ref>, <tf.Variable 'Ir/Adam_1:0' shape=(1228, 224) dtype=float64_ref>, <tf.Variable 'Iu/Adam:0' shape=(1228, 224) dtype=float64_ref>, <tf.Variable 'Iu/Adam_1:0' shape=(1228, 224) dtype=float64_ref>, <tf.Variable 'Rr/Adam:0' shape=(224, 224) dtype=float64_ref>, <tf.Variable 'Rr/Adam_1:0' shape=(224, 224) dtype=float64_ref>, <tf.Variable 'Ru/Adam:0' shape=(224, 224) dtype=float64_ref>, <tf.Variable 'Ru/Adam_1:0' shape=(224, 224) dtype=float64_ref>, <tf.Variable 'O1/Adam:0' shape=(112, 112) dtype=float64_ref>, <tf.Variable 'O1/Adam_1:0' shape=(112, 112) dtype=float64_ref>, <tf.Variable 'O2/Adam:0' shape=(112, 112) dtype=float64_ref>, <tf.Variable 'O2/Adam_1:0' shape=(112, 112) dtype=float64_ref>, <tf.Variable 'O3/Adam:0' shape=(112, 112) dtype=float64_ref>, <tf.Variable 'O3/Adam_1:0' shape=(112, 112) dtype=float64_ref>, <tf.Variable 'O4/Adam:0' shape=(112, 112) dtype=float64_ref>, <tf.Variable 'O4/Adam_1:0' shape=(112, 112) dtype=float64_ref>]\n"
     ]
    }
   ],
   "source": [
    "tf.reset_default_graph()\n",
    "#saver = tf.train.import_meta_graph(DIRS['MODELS']+model_name+'/final.meta')\n",
    "saver = tf.train.import_meta_graph(DIRS['MODELS']+model_name+'/checkpoint-0.meta')\n",
    "with tf.Session() as sess:\n",
    "    saver.restore(sess,tf.train.latest_checkpoint(DIRS['MODELS']+model_name))\n",
    "    print(tf.global_variables())\n",
    "    restored_variables = {x.name:x.eval(session=sess) for x in tf.global_variables()}\n",
    "\n",
    "tf.reset_default_graph()\n",
    "gru = WaveGRU_structured_sparse(input_dimensions, hidden_size, variables_values_dict=restored_variables)"
   ]
  },
  {
   "cell_type": "markdown",
   "metadata": {},
   "source": [
    "# Sound generation"
   ]
  },
  {
   "cell_type": "raw",
   "metadata": {},
   "source": [
    "with tf.Session() as sess:\n",
    "    init_variables = tf.global_variables_initializer()\n",
    "    sess.run(init_variables)\n",
    "    gen_to_wav = gru.generate_sound(num_pieces=1, n_seconds=2, session=sess, sample_rate=M_PARAMS['SAMPLE_RATE'])"
   ]
  },
  {
   "cell_type": "raw",
   "metadata": {},
   "source": [
    "with tf.Session() as sess:\n",
    "    sess.run(init_variables)\n",
    "    #plt.plot(audio.eval(session=sess), label='real')\n",
    "    plt.plot(gen_to_wav[0].eval(session=sess), label='generated')\n",
    "plt.plot(np.int32([np.sin(x/1000)*16000+32256 for x in range(gen_to_wav.shape[1])]))"
   ]
  },
  {
   "cell_type": "raw",
   "metadata": {},
   "source": [
    "with tf.Session() as sess:\n",
    "    init_variables = tf.global_variables_initializer()\n",
    "    sess.run(init_variables)\n",
    "    O1, O2, O3, O4 = sess.run([gru.O1, gru.O2, gru.O3, gru.O4])\n",
    "    Iu, Ir, Ie = sess.run([gru.Iu, gru.Ir, gru.Ie])\n",
    "    Ru, Rr, Re = sess.run([gru.Ru, gru.Rr, gru.Re])"
   ]
  },
  {
   "cell_type": "raw",
   "metadata": {},
   "source": [
    "for idx, m in enumerate([O1, O2, O3, O4]):\n",
    "    plt.subplot(1,4,idx+1)\n",
    "    plt.imshow(m)\n",
    "    plt.title(['O1','O2','O3','O4'][idx])\n",
    "plt.tight_layout()\n",
    "plt.show()\n",
    "\n",
    "for idx, m in enumerate([Ru, Rr, Re]):\n",
    "    plt.subplot(1,3,idx+1)\n",
    "    plt.imshow(m)\n",
    "    plt.title(['Ru','Rr','Re'][idx])\n",
    "plt.tight_layout()\n",
    "plt.show()\n",
    "\n",
    "for idx, m in enumerate([Iu, Ir, Ie]):\n",
    "    plt.subplot(1,3,idx+1)\n",
    "    sns.heatmap(m)\n",
    "    plt.title(['Iu','Ir','Ie'][idx])\n",
    "plt.tight_layout()\n",
    "plt.show()"
   ]
  },
  {
   "cell_type": "raw",
   "metadata": {},
   "source": [
    "audio = sl.load_audio_not_one_hot(DIRS['RAW_DATA']+'cv_corpus_v1/cv-other-train/sample-052026.wav')"
   ]
  },
  {
   "cell_type": "raw",
   "metadata": {},
   "source": [
    "X = sl.load_data([DIRS['RAW_DATA']+'cv_corpus_v1/cv-other-train/sample-052026.wav'])"
   ]
  },
  {
   "cell_type": "raw",
   "metadata": {},
   "source": [
    "with tf.Session() as sess:\n",
    "    init_variables = tf.global_variables_initializer()\n",
    "    sess.run(init_variables)\n",
    "    O1, O2, O3, O4 = sess.run([gru.O1, gru.O2, gru.O3, gru.O4])\n",
    "    Iu, Ir, Ie = sess.run([gru.Iu, gru.Ir, gru.Ie])\n",
    "    Ru, Rr, Re = sess.run([gru.Ru, gru.Rr, gru.Re])\n",
    "    audio_eval = sess.run(audio)\n",
    "    X_eval = sess.run(X)\n",
    "    X_train, Y_train, X_test, Y_test = sl.get_train_test(X, 10, 5000)\n",
    "    Y_train_audio = ((Y_train*128+128)[:,:,0])*256+(Y_train*128+128)[:,:,1]\n",
    "    Y_train_audio_eval = sess.run(Y_train_audio)\n",
    "    "
   ]
  },
  {
   "cell_type": "raw",
   "metadata": {},
   "source": [
    "os.listdir(DIRS['RAW_DATA']+'cv_corpus_v1/cv-other-train')"
   ]
  },
  {
   "cell_type": "raw",
   "metadata": {},
   "source": [
    "plt.plot(audio_eval, color='blue', label='audio')\n",
    "for i in Y_train_audio_eval[:1]:\n",
    "    plt.plot(i)\n",
    "plt.legend()\n",
    "plt.show()"
   ]
  },
  {
   "cell_type": "raw",
   "metadata": {},
   "source": [
    "with tf.Session() as sess:\n",
    "    sess.run(init_variables)\n",
    "    sl.write_audio_not_one_hot(audio=gen_to_wav[0], filename='output_0.wav', session=sess, quantization_channels=quant)"
   ]
  }
 ],
 "metadata": {
  "kernelspec": {
   "display_name": "Python 3",
   "language": "python",
   "name": "python3"
  },
  "language_info": {
   "codemirror_mode": {
    "name": "ipython",
    "version": 3
   },
   "file_extension": ".py",
   "mimetype": "text/x-python",
   "name": "python",
   "nbconvert_exporter": "python",
   "pygments_lexer": "ipython3",
   "version": "3.6.8"
  }
 },
 "nbformat": 4,
 "nbformat_minor": 2
}
