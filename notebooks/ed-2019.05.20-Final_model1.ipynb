{
 "cells": [
  {
   "cell_type": "code",
   "execution_count": 1,
   "metadata": {},
   "outputs": [],
   "source": [
    "import sys\n",
    "import os\n",
    "\n",
    "import numpy as np\n",
    "from numpy import random\n",
    "import pandas as pd\n",
    "import tensorflow as tf\n",
    "from pathlib import Path\n",
    "import matplotlib.pyplot as plt\n",
    "import seaborn as sns\n",
    "\n",
    "from IPython import display\n",
    "%matplotlib inline\n",
    "from tqdm import tqdm_notebook\n",
    "\n",
    "PARENT_DIR = os.path.realpath('..')\n",
    "import importlib\n",
    "if PARENT_DIR not in sys.path:\n",
    "    sys.path.append(PARENT_DIR)\n",
    "\n",
    "try: importlib.reload(sl)\n",
    "except: import synt_lib as sl"
   ]
  },
  {
   "cell_type": "code",
   "execution_count": 2,
   "metadata": {},
   "outputs": [],
   "source": [
    "DIRS = sl.get_dirs(parent_dir=PARENT_DIR)\n",
    "M_PARAMS = sl.get_model_params()"
   ]
  },
  {
   "cell_type": "raw",
   "metadata": {},
   "source": [
    "DIRS['RAW_DATA'] = '/data/dudyrev/Speach_Synthesizer/raw_data/'"
   ]
  },
  {
   "cell_type": "code",
   "execution_count": 3,
   "metadata": {},
   "outputs": [],
   "source": [
    "quant = M_PARAMS['QUANTIZATION_CHANNELS']\n",
    "nbits = int(np.log2(quant))"
   ]
  },
  {
   "cell_type": "markdown",
   "metadata": {},
   "source": [
    "# Build model"
   ]
  },
  {
   "cell_type": "markdown",
   "metadata": {},
   "source": [
    "# Get Data"
   ]
  },
  {
   "cell_type": "markdown",
   "metadata": {},
   "source": [
    "Всего файлов:\n",
    "* Обучение (cv-valid-train): 391552\n",
    "* cv-valid-dev: 8152\n",
    "* cv-valid-test: 7990"
   ]
  },
  {
   "cell_type": "code",
   "execution_count": 4,
   "metadata": {},
   "outputs": [],
   "source": [
    "full_ds = pd.concat([pd.read_csv(DIRS['MANIFESTS']+f, header=None) for f in os.listdir(DIRS['MANIFESTS'])])\n",
    "full_ds.columns = ['wav','txt','dur']"
   ]
  },
  {
   "cell_type": "code",
   "execution_count": 5,
   "metadata": {},
   "outputs": [],
   "source": [
    "for c in ['wav','txt']:\n",
    "    full_ds[c] = full_ds[c].apply(lambda f: f.replace('../data/ru_open_stt',DIRS['RAW_DATA']+'rus'))"
   ]
  },
  {
   "cell_type": "code",
   "execution_count": 6,
   "metadata": {},
   "outputs": [],
   "source": [
    "full_ds['wav_exist'] = full_ds['wav'].apply(lambda f: os.path.isfile(f) if type(f)==str else False)\n",
    "full_ds['txt_exist'] = full_ds['txt'].apply(lambda f: os.path.isfile(f) if type(f)==str else False)"
   ]
  },
  {
   "cell_type": "code",
   "execution_count": 7,
   "metadata": {},
   "outputs": [],
   "source": [
    "to_train_ds = full_ds[(full_ds['wav_exist'])]#&(full_ds['txt_exist'])]"
   ]
  },
  {
   "cell_type": "code",
   "execution_count": 8,
   "metadata": {},
   "outputs": [
    {
     "data": {
      "text/plain": [
       "((2, 5), 1.1482124055164716e-06)"
      ]
     },
     "execution_count": 8,
     "metadata": {},
     "output_type": "execute_result"
    }
   ],
   "source": [
    "to_train_ds.shape, to_train_ds.shape[0]/full_ds.shape[0]"
   ]
  },
  {
   "cell_type": "code",
   "execution_count": 9,
   "metadata": {},
   "outputs": [
    {
     "data": {
      "text/plain": [
       "((2, 5), 1.1482124055164716e-06)"
      ]
     },
     "execution_count": 9,
     "metadata": {},
     "output_type": "execute_result"
    }
   ],
   "source": [
    "to_train_ds.shape, to_train_ds.shape[0]/full_ds.shape[0]"
   ]
  },
  {
   "cell_type": "raw",
   "metadata": {},
   "source": [
    "texts = []\n",
    "n_files_to_load = int(to_train_ds.shape[0]*1)#0.1)\n",
    "for idx, fname in tqdm_notebook(to_train_ds[:n_files_to_load]['txt'].iteritems(),total=n_files_to_load):\n",
    "    with open(fname, 'rb') as f:\n",
    "        t = f.read().decode().strip()\n",
    "    texts.append(t)"
   ]
  },
  {
   "cell_type": "raw",
   "metadata": {},
   "source": [
    "txt_lens = [len(t) for t in texts]"
   ]
  },
  {
   "cell_type": "raw",
   "metadata": {},
   "source": [
    "sns.distplot(txt_lens)"
   ]
  },
  {
   "cell_type": "raw",
   "metadata": {},
   "source": [
    "(np.array(txt_lens)<100).mean()"
   ]
  },
  {
   "cell_type": "raw",
   "metadata": {},
   "source": [
    "(np.array(txt_lens)<80).mean()"
   ]
  },
  {
   "cell_type": "markdown",
   "metadata": {},
   "source": [
    "# Develop models"
   ]
  },
  {
   "cell_type": "markdown",
   "metadata": {},
   "source": [
    "## DocToVec"
   ]
  },
  {
   "cell_type": "raw",
   "metadata": {},
   "source": [
    "import gensim"
   ]
  },
  {
   "cell_type": "raw",
   "metadata": {},
   "source": [
    "def create_tagged_document(list_of_list_of_words):\n",
    "    for i, list_of_words in enumerate(list_of_list_of_words):\n",
    "        yield gensim.models.doc2vec.TaggedDocument(list_of_words, [i])"
   ]
  },
  {
   "cell_type": "raw",
   "metadata": {},
   "source": [
    "texts_split = [t.split() for t in texts]"
   ]
  },
  {
   "cell_type": "raw",
   "metadata": {},
   "source": [
    "train_data = list(create_tagged_document(texts_split))\n",
    "print(train_data[0])"
   ]
  },
  {
   "cell_type": "raw",
   "metadata": {},
   "source": [
    "%%time\n",
    "doc2vec = gensim.models.doc2vec.Doc2Vec(vector_size=61, min_count=2, epochs=1000)\n",
    "doc2vec.build_vocab(train_data)\n",
    "doc2vec.train(train_data, total_examples=doc2vec.corpus_count, epochs=doc2vec.epochs)"
   ]
  },
  {
   "cell_type": "raw",
   "metadata": {},
   "source": [
    "check = np.vstack([doc2vec.infer_vector(v) for v in texts_split[:10]])"
   ]
  },
  {
   "cell_type": "raw",
   "metadata": {},
   "source": [
    "with open(DIRS['RAW_DATA']+'doc2vec0', 'wb') as f:\n",
    "    doc2vec.save(f)"
   ]
  },
  {
   "cell_type": "raw",
   "metadata": {},
   "source": [
    "plot_texts = [\"мы вышли из дома\", \"мы зашли в дом\", \"на марсе классно\"]"
   ]
  },
  {
   "cell_type": "raw",
   "metadata": {},
   "source": [
    "plt.figure(figsize=(25,10))\n",
    "for t in plot_texts:\n",
    "    plt.plot(doc2vec.infer_vector(t.split()), label=t)\n",
    "plt.legend()\n",
    "plt.show()"
   ]
  },
  {
   "cell_type": "markdown",
   "metadata": {},
   "source": [
    "## WaveGRU"
   ]
  },
  {
   "cell_type": "code",
   "execution_count": 10,
   "metadata": {},
   "outputs": [],
   "source": [
    "import DWave4\n",
    "DWave4 = importlib.reload(DWave4)"
   ]
  },
  {
   "cell_type": "code",
   "execution_count": 11,
   "metadata": {},
   "outputs": [],
   "source": [
    "vars_to_restore = ['M_IrV','M_IuV','M_IeV', 'Ir','Iu','Ie',\n",
    " 'Rr','Ru','Re','M_RrV','M_RuV','M_ReV',\n",
    " 'O1','O2','O3','O4','M_O1V','M_O2V','M_O3V','M_O4V',\n",
    " 'br','bu','be','bO1','bO2','bO3','bO4',\n",
    " ]\n",
    "vars_to_restore = [x+':0' for x in vars_to_restore]"
   ]
  },
  {
   "cell_type": "code",
   "execution_count": 12,
   "metadata": {},
   "outputs": [],
   "source": [
    "model_name = \"final1_256\""
   ]
  },
  {
   "cell_type": "code",
   "execution_count": 13,
   "metadata": {},
   "outputs": [],
   "source": [
    "from datetime import datetime"
   ]
  },
  {
   "cell_type": "code",
   "execution_count": 14,
   "metadata": {},
   "outputs": [],
   "source": [
    "wav_fnames = list(to_train_ds['wav'])\n",
    "text_fnames = list(to_train_ds['txt'])"
   ]
  },
  {
   "cell_type": "code",
   "execution_count": 15,
   "metadata": {},
   "outputs": [],
   "source": [
    "wav_fnames = wav_fnames*500"
   ]
  },
  {
   "cell_type": "code",
   "execution_count": 16,
   "metadata": {},
   "outputs": [],
   "source": [
    "save_period = 500"
   ]
  },
  {
   "cell_type": "code",
   "execution_count": 17,
   "metadata": {},
   "outputs": [],
   "source": [
    "from datetime import datetime"
   ]
  },
  {
   "cell_type": "code",
   "execution_count": 18,
   "metadata": {},
   "outputs": [],
   "source": [
    "log_fname = DIRS['NOTEBOOKS']+'logger'"
   ]
  },
  {
   "cell_type": "raw",
   "metadata": {},
   "source": [
    "len(texts)"
   ]
  },
  {
   "cell_type": "raw",
   "metadata": {},
   "source": [
    "t = texts[0]\n",
    "t"
   ]
  },
  {
   "cell_type": "raw",
   "metadata": {},
   "source": [
    "%timeit doc2vec.infer_vector(t.split())"
   ]
  },
  {
   "cell_type": "raw",
   "metadata": {},
   "source": [
    "%time\n",
    "inferred_texts = [doc2vec.infer_vector(t.split()) for t in texts[:10]]"
   ]
  },
  {
   "cell_type": "code",
   "execution_count": 22,
   "metadata": {},
   "outputs": [
    {
     "data": {
      "text/plain": [
       "1000"
      ]
     },
     "execution_count": 22,
     "metadata": {},
     "output_type": "execute_result"
    }
   ],
   "source": [
    "n_epochs = min(len(wav_fnames), 250000)\n",
    "#inferred_texts = [doc2vec.infer_vector(t.split()) for t in texts[:n_epochs]]\n",
    "sparsity_epochs = np.arange(1000, n_epochs, 500)\n",
    "#sparsity_epochs = (np.linspace(0.50, 0.95, 20)*n_epochs).astype(int)\n",
    "\n",
    "n_epochs"
   ]
  },
  {
   "cell_type": "code",
   "execution_count": 124,
   "metadata": {},
   "outputs": [
    {
     "data": {
      "text/plain": [
       "0"
      ]
     },
     "execution_count": 124,
     "metadata": {},
     "output_type": "execute_result"
    }
   ],
   "source": [
    "len(sparsity_epochs)"
   ]
  },
  {
   "cell_type": "code",
   "execution_count": 23,
   "metadata": {},
   "outputs": [
    {
     "data": {
      "text/plain": [
       "0.9921875"
      ]
     },
     "execution_count": 23,
     "metadata": {},
     "output_type": "execute_result"
    }
   ],
   "source": [
    "(255-128)/128"
   ]
  },
  {
   "cell_type": "code",
   "execution_count": 24,
   "metadata": {},
   "outputs": [],
   "source": [
    "max_val = (255-128)/128"
   ]
  },
  {
   "cell_type": "code",
   "execution_count": 25,
   "metadata": {},
   "outputs": [
    {
     "name": "stdout",
     "output_type": "stream",
     "text": [
      "WARNING:tensorflow:From /usr/local/lib/python3.5/dist-packages/tensorflow/python/framework/op_def_library.py:263: colocate_with (from tensorflow.python.framework.ops) is deprecated and will be removed in a future version.\n",
      "Instructions for updating:\n",
      "Colocations handled automatically by placer.\n",
      "WARNING:tensorflow:From /workspace/Dudyrev/Speach_Synthesizer/notebooks/DWave4.py:131: to_int32 (from tensorflow.python.ops.math_ops) is deprecated and will be removed in a future version.\n",
      "Instructions for updating:\n",
      "Use tf.cast instead.\n"
     ]
    }
   ],
   "source": [
    "#saver = tf.train.import_meta_graph(DIRS['MODELS']+model_name+'/final.meta')\n",
    "#saver = tf.train.import_meta_graph(DIRS['MODELS']+model_name+'/checkpoint-4000.meta')\n",
    "#saver.restore(sess,tf.train.latest_checkpoint(DIRS['MODELS']+model_name))\n",
    "#restored_variables = {x.name:x.eval(session=sess) for x in tf.global_variables() if x.name in WaveGRU.vars_to_restore}\n",
    "restored_variables=None\n",
    "tf.reset_default_graph()\n",
    "with tf.device('CPU'):\n",
    "    gru = DWave4.WaveGRU(3, 64, n_batches=1, restore_variables=restored_variables, hidden_size=1024)\n",
    "sess = tf.Session()\n",
    "sess.run(tf.global_variables_initializer())"
   ]
  },
  {
   "cell_type": "code",
   "execution_count": 26,
   "metadata": {},
   "outputs": [
    {
     "name": "stdout",
     "output_type": "stream",
     "text": [
      "WARNING:tensorflow:From /workspace/Dudyrev/Speach_Synthesizer/wavenet/ops.py:67: to_float (from tensorflow.python.ops.math_ops) is deprecated and will be removed in a future version.\n",
      "Instructions for updating:\n",
      "Use tf.cast instead.\n",
      "CPU times: user 14.1 s, sys: 739 ms, total: 14.8 s\n",
      "Wall time: 14.3 s\n"
     ]
    }
   ],
   "source": [
    "%%time\n",
    "audios = [sess.run(sl.load_data([wav_fnames[i]]))[0] for i in range(min(100, len(wav_fnames)))]"
   ]
  },
  {
   "cell_type": "code",
   "execution_count": 27,
   "metadata": {},
   "outputs": [],
   "source": [
    "n_batches = 1 # gru.n_batches\n",
    "audios = [np.concatenate([audio, [[max_val,max_val]]*(2*n_batches-audio.shape[0]%n_batches)]) for audio in audios]\n",
    "audios = [np.concatenate([[[-1,-1]]*n_batches,audio]) for audio in audios]\n",
    "audios = [audio.reshape((n_batches, -1, gru.input_dim-1)) for audio in audios]"
   ]
  },
  {
   "cell_type": "code",
   "execution_count": 31,
   "metadata": {},
   "outputs": [],
   "source": [
    "audio_resh = audios[0]"
   ]
  },
  {
   "cell_type": "code",
   "execution_count": 33,
   "metadata": {},
   "outputs": [
    {
     "data": {
      "text/plain": [
       "(1, 15682, 2)"
      ]
     },
     "execution_count": 33,
     "metadata": {},
     "output_type": "execute_result"
    }
   ],
   "source": [
    "audio_resh.shape"
   ]
  },
  {
   "cell_type": "code",
   "execution_count": 34,
   "metadata": {},
   "outputs": [],
   "source": [
    "audio_resh = audio_resh"
   ]
  },
  {
   "cell_type": "code",
   "execution_count": 36,
   "metadata": {},
   "outputs": [],
   "source": [
    "audio_resh = np.concatenate([audio_resh for i in range(gru.n_batches)])"
   ]
  },
  {
   "cell_type": "code",
   "execution_count": 51,
   "metadata": {},
   "outputs": [],
   "source": [
    "txt_emb = np.zeros((1,gru.text_embed_size))"
   ]
  },
  {
   "cell_type": "code",
   "execution_count": 53,
   "metadata": {},
   "outputs": [],
   "source": [
    "saver = tf.train.Saver()"
   ]
  },
  {
   "cell_type": "code",
   "execution_count": 91,
   "metadata": {},
   "outputs": [],
   "source": [
    "n_epochs = 100\n",
    "sparsity_lvl = 0.9"
   ]
  },
  {
   "cell_type": "code",
   "execution_count": 63,
   "metadata": {},
   "outputs": [],
   "source": [
    "#start_epoch = epoch #= 0\n"
   ]
  },
  {
   "cell_type": "code",
   "execution_count": 309,
   "metadata": {},
   "outputs": [],
   "source": [
    "devices_var = ['CPU','GPU']\n",
    "batches_var = [1,5,10,15,20,25,30,35]\n",
    "hsize_var = [128, 256, 1024, 2048, 4048]"
   ]
  },
  {
   "cell_type": "code",
   "execution_count": 111,
   "metadata": {},
   "outputs": [],
   "source": [
    "from itertools import product"
   ]
  },
  {
   "cell_type": "raw",
   "metadata": {},
   "source": [
    "audio_resh = audio_resh[:,:8000,:]"
   ]
  },
  {
   "cell_type": "raw",
   "metadata": {},
   "source": [
    "sound_X = audio_resh\n",
    "sound_Y = sound_X\n",
    "c = sound_X[:,:,0]\n",
    "c_shift = np.hstack([c, np.zeros((gru.n_batches,1))])[:,1:]\n",
    "c_shift = c_shift.reshape(gru.n_batches,-1,1)\n",
    "sound_X = np.concatenate([sound_X, c_shift],2)\n",
    "txt_emb = np.zeros((1,gru.text_embed_size))"
   ]
  },
  {
   "cell_type": "code",
   "execution_count": 312,
   "metadata": {},
   "outputs": [],
   "source": [
    "old_res_ds.index = old_res_ds['index_in_row']"
   ]
  },
  {
   "cell_type": "code",
   "execution_count": 315,
   "metadata": {
    "scrolled": false
   },
   "outputs": [
    {
     "name": "stdout",
     "output_type": "stream",
     "text": [
      "CPU 1 128 already calculated\n",
      "CPU 1 256 already calculated\n",
      "CPU 1 1024 already calculated\n",
      "CPU 1 2048 to much hidden_size to CPU. skipping\n",
      "CPU 1 4048 to much hidden_size to CPU. skipping\n",
      "CPU 5 128 already calculated\n",
      "CPU 5 256 already calculated\n",
      "CPU 5 1024 already calculated\n",
      "CPU 5 2048 to much hidden_size to CPU. skipping\n",
      "CPU 5 4048 to much hidden_size to CPU. skipping\n",
      "CPU 10 128 already calculated\n",
      "CPU 10 256 already calculated\n",
      "CPU 10 1024 already calculated\n",
      "CPU 10 2048 to much hidden_size to CPU. skipping\n",
      "CPU 10 4048 to much hidden_size to CPU. skipping\n",
      "at 15 iteration (('CPU', 15, 128))\n"
     ]
    },
    {
     "name": "stderr",
     "output_type": "stream",
     "text": [
      "/usr/local/lib/python3.5/dist-packages/ipykernel_launcher.py:52: FutureWarning: Sorting because non-concatenation axis is not aligned. A future version\n",
      "of pandas will change to not sort by default.\n",
      "\n",
      "To accept the future behavior, pass 'sort=True'.\n",
      "\n",
      "To retain the current behavior and silence the warning, pass sort=False\n",
      "\n",
      "/usr/local/lib/python3.5/dist-packages/ipykernel_launcher.py:5: FutureWarning: Sorting because non-concatenation axis is not aligned. A future version\n",
      "of pandas will change to not sort by default.\n",
      "\n",
      "To accept the future behavior, pass 'sort=True'.\n",
      "\n",
      "To retain the current behavior and silence the warning, pass sort=False\n",
      "\n",
      "  \"\"\"\n"
     ]
    },
    {
     "name": "stdout",
     "output_type": "stream",
     "text": [
      "at 16 iteration (('CPU', 15, 256))\n",
      "at 17 iteration (('CPU', 15, 1024))\n",
      "CPU 15 2048 to much hidden_size to CPU. skipping\n",
      "CPU 15 4048 to much hidden_size to CPU. skipping\n",
      "at 20 iteration (('CPU', 20, 128))\n",
      "at 21 iteration (('CPU', 20, 256))\n",
      "at 22 iteration (('CPU', 20, 1024))\n",
      "CPU 20 2048 to much hidden_size to CPU. skipping\n",
      "CPU 20 4048 to much hidden_size to CPU. skipping\n",
      "at 25 iteration (('CPU', 25, 128))\n",
      "at 26 iteration (('CPU', 25, 256))\n",
      "at 27 iteration (('CPU', 25, 1024))\n",
      "CPU 25 2048 to much hidden_size to CPU. skipping\n",
      "CPU 25 4048 to much hidden_size to CPU. skipping\n",
      "at 30 iteration (('CPU', 30, 128))\n",
      "at 31 iteration (('CPU', 30, 256))\n",
      "at 32 iteration (('CPU', 30, 1024))\n",
      "CPU 30 2048 to much hidden_size to CPU. skipping\n",
      "CPU 30 4048 to much hidden_size to CPU. skipping\n",
      "at 35 iteration (('CPU', 35, 128))\n",
      "at 36 iteration (('CPU', 35, 256))\n",
      "at 37 iteration (('CPU', 35, 1024))\n",
      "CPU 35 2048 to much hidden_size to CPU. skipping\n",
      "CPU 35 4048 to much hidden_size to CPU. skipping\n",
      "GPU 1 128 already calculated\n",
      "GPU 1 256 already calculated\n",
      "GPU 1 1024 already calculated\n",
      "at 43 iteration (('GPU', 1, 2048))\n",
      "at 44 iteration (('GPU', 1, 4048))\n",
      "GPU 5 128 already calculated\n",
      "GPU 5 256 already calculated\n",
      "GPU 5 1024 already calculated\n",
      "at 48 iteration (('GPU', 5, 2048))\n",
      "at 49 iteration (('GPU', 5, 4048))\n",
      "GPU 10 128 already calculated\n",
      "GPU 10 256 already calculated\n",
      "GPU 10 1024 already calculated\n",
      "at 53 iteration (('GPU', 10, 2048))\n",
      "at 54 iteration (('GPU', 10, 4048))\n",
      "at 55 iteration (('GPU', 15, 128))\n",
      "at 56 iteration (('GPU', 15, 256))\n",
      "at 57 iteration (('GPU', 15, 1024))\n",
      "at 58 iteration (('GPU', 15, 2048))\n",
      "at 59 iteration (('GPU', 15, 4048))\n",
      "at 60 iteration (('GPU', 20, 128))\n",
      "at 61 iteration (('GPU', 20, 256))\n",
      "at 62 iteration (('GPU', 20, 1024))\n",
      "at 63 iteration (('GPU', 20, 2048))\n",
      "at 64 iteration (('GPU', 20, 4048))\n",
      "at 65 iteration (('GPU', 25, 128))\n",
      "at 66 iteration (('GPU', 25, 256))\n",
      "at 67 iteration (('GPU', 25, 1024))\n",
      "at 68 iteration (('GPU', 25, 2048))\n",
      "at 69 iteration (('GPU', 25, 4048))\n",
      "at 70 iteration (('GPU', 30, 128))\n",
      "at 71 iteration (('GPU', 30, 256))\n",
      "at 72 iteration (('GPU', 30, 1024))\n",
      "at 73 iteration (('GPU', 30, 2048))\n",
      "at 74 iteration (('GPU', 30, 4048))\n",
      "Error at 74 iteration (('GPU', 30, 4048))\n",
      "OOM when allocating tensor with shape[8000,30,2024] and type float on /job:localhost/replica:0/task:0/device:GPU:0 by allocator GPU_0_bfc\n",
      "\t [[node split_h (defined at /workspace/Dudyrev/Speach_Synthesizer/notebooks/DWave4.py:169) ]]\n",
      "Hint: If you want to see a list of allocated tensors when OOM happens, add report_tensor_allocations_upon_oom to RunOptions for current allocation info.\n",
      "\n",
      "\t [[node Mean (defined at /workspace/Dudyrev/Speach_Synthesizer/notebooks/DWave4.py:135) ]]\n",
      "Hint: If you want to see a list of allocated tensors when OOM happens, add report_tensor_allocations_upon_oom to RunOptions for current allocation info.\n",
      "\n",
      "\n",
      "Caused by op 'split_h', defined at:\n",
      "  File \"/usr/lib/python3.5/runpy.py\", line 184, in _run_module_as_main\n",
      "    \"__main__\", mod_spec)\n",
      "  File \"/usr/lib/python3.5/runpy.py\", line 85, in _run_code\n",
      "    exec(code, run_globals)\n",
      "  File \"/usr/local/lib/python3.5/dist-packages/ipykernel_launcher.py\", line 16, in <module>\n",
      "    app.launch_new_instance()\n",
      "  File \"/usr/local/lib/python3.5/dist-packages/traitlets/config/application.py\", line 658, in launch_instance\n",
      "    app.start()\n",
      "  File \"/usr/local/lib/python3.5/dist-packages/ipykernel/kernelapp.py\", line 505, in start\n",
      "    self.io_loop.start()\n",
      "  File \"/usr/local/lib/python3.5/dist-packages/tornado/platform/asyncio.py\", line 148, in start\n",
      "    self.asyncio_loop.run_forever()\n",
      "  File \"/usr/lib/python3.5/asyncio/base_events.py\", line 345, in run_forever\n",
      "    self._run_once()\n",
      "  File \"/usr/lib/python3.5/asyncio/base_events.py\", line 1312, in _run_once\n",
      "    handle._run()\n",
      "  File \"/usr/lib/python3.5/asyncio/events.py\", line 125, in _run\n",
      "    self._callback(*self._args)\n",
      "  File \"/usr/local/lib/python3.5/dist-packages/tornado/ioloop.py\", line 690, in <lambda>\n",
      "    lambda f: self._run_callback(functools.partial(callback, future))\n",
      "  File \"/usr/local/lib/python3.5/dist-packages/tornado/ioloop.py\", line 743, in _run_callback\n",
      "    ret = callback()\n",
      "  File \"/usr/local/lib/python3.5/dist-packages/tornado/gen.py\", line 781, in inner\n",
      "    self.run()\n",
      "  File \"/usr/local/lib/python3.5/dist-packages/tornado/gen.py\", line 742, in run\n",
      "    yielded = self.gen.send(value)\n",
      "  File \"/usr/local/lib/python3.5/dist-packages/ipykernel/kernelbase.py\", line 357, in process_one\n",
      "    yield gen.maybe_future(dispatch(*args))\n",
      "  File \"/usr/local/lib/python3.5/dist-packages/tornado/gen.py\", line 209, in wrapper\n",
      "    yielded = next(result)\n",
      "  File \"/usr/local/lib/python3.5/dist-packages/ipykernel/kernelbase.py\", line 267, in dispatch_shell\n",
      "    yield gen.maybe_future(handler(stream, idents, msg))\n",
      "  File \"/usr/local/lib/python3.5/dist-packages/tornado/gen.py\", line 209, in wrapper\n",
      "    yielded = next(result)\n",
      "  File \"/usr/local/lib/python3.5/dist-packages/ipykernel/kernelbase.py\", line 534, in execute_request\n",
      "    user_expressions, allow_stdin,\n",
      "  File \"/usr/local/lib/python3.5/dist-packages/tornado/gen.py\", line 209, in wrapper\n",
      "    yielded = next(result)\n",
      "  File \"/usr/local/lib/python3.5/dist-packages/ipykernel/ipkernel.py\", line 294, in do_execute\n",
      "    res = shell.run_cell(code, store_history=store_history, silent=silent)\n",
      "  File \"/usr/local/lib/python3.5/dist-packages/ipykernel/zmqshell.py\", line 536, in run_cell\n",
      "    return super(ZMQInteractiveShell, self).run_cell(*args, **kwargs)\n",
      "  File \"/usr/local/lib/python3.5/dist-packages/IPython/core/interactiveshell.py\", line 2848, in run_cell\n",
      "    raw_cell, store_history, silent, shell_futures)\n",
      "  File \"/usr/local/lib/python3.5/dist-packages/IPython/core/interactiveshell.py\", line 2874, in _run_cell\n",
      "    return runner(coro)\n",
      "  File \"/usr/local/lib/python3.5/dist-packages/IPython/core/async_helpers.py\", line 67, in _pseudo_sync_runner\n",
      "    coro.send(None)\n",
      "  File \"/usr/local/lib/python3.5/dist-packages/IPython/core/interactiveshell.py\", line 3049, in run_cell_async\n",
      "    interactivity=interactivity, compiler=compiler, result=result)\n",
      "  File \"/usr/local/lib/python3.5/dist-packages/IPython/core/interactiveshell.py\", line 3214, in run_ast_nodes\n",
      "    if (yield from self.run_code(code, result)):\n",
      "  File \"/usr/local/lib/python3.5/dist-packages/IPython/core/interactiveshell.py\", line 3296, in run_code\n",
      "    exec(code_obj, self.user_global_ns, self.user_ns)\n",
      "  File \"<ipython-input-315-4bf6dedb0816>\", line 23, in <module>\n",
      "    gru = DWave4.WaveGRU(3, 64, n_batches=n_batches, restore_variables=None, hidden_size=hidden_size)\n",
      "  File \"/workspace/Dudyrev/Speach_Synthesizer/notebooks/DWave4.py\", line 27, in __init__\n",
      "    self.train_pass()\n",
      "  File \"/workspace/Dudyrev/Speach_Synthesizer/notebooks/DWave4.py\", line 169, in train_pass\n",
      "    self.h_c, self.h_f = tf.split(self.h_t_trans, num_or_size_splits=2, axis=2, name='split_h')\n",
      "  File \"/usr/local/lib/python3.5/dist-packages/tensorflow/python/ops/array_ops.py\", line 1508, in split\n",
      "    axis=axis, num_split=num_or_size_splits, value=value, name=name)\n",
      "  File \"/usr/local/lib/python3.5/dist-packages/tensorflow/python/ops/gen_array_ops.py\", line 8883, in split\n",
      "    \"Split\", split_dim=axis, value=value, num_split=num_split, name=name)\n",
      "  File \"/usr/local/lib/python3.5/dist-packages/tensorflow/python/framework/op_def_library.py\", line 788, in _apply_op_helper\n",
      "    op_def=op_def)\n",
      "  File \"/usr/local/lib/python3.5/dist-packages/tensorflow/python/util/deprecation.py\", line 507, in new_func\n",
      "    return func(*args, **kwargs)\n",
      "  File \"/usr/local/lib/python3.5/dist-packages/tensorflow/python/framework/ops.py\", line 3300, in create_op\n",
      "    op_def=op_def)\n",
      "  File \"/usr/local/lib/python3.5/dist-packages/tensorflow/python/framework/ops.py\", line 1801, in __init__\n",
      "    self._traceback = tf_stack.extract_stack()\n",
      "\n",
      "ResourceExhaustedError (see above for traceback): OOM when allocating tensor with shape[8000,30,2024] and type float on /job:localhost/replica:0/task:0/device:GPU:0 by allocator GPU_0_bfc\n",
      "\t [[node split_h (defined at /workspace/Dudyrev/Speach_Synthesizer/notebooks/DWave4.py:169) ]]\n",
      "Hint: If you want to see a list of allocated tensors when OOM happens, add report_tensor_allocations_upon_oom to RunOptions for current allocation info.\n",
      "\n",
      "\t [[node Mean (defined at /workspace/Dudyrev/Speach_Synthesizer/notebooks/DWave4.py:135) ]]\n",
      "Hint: If you want to see a list of allocated tensors when OOM happens, add report_tensor_allocations_upon_oom to RunOptions for current allocation info.\n",
      "\n",
      "\n",
      "at 75 iteration (('GPU', 35, 128))\n"
     ]
    },
    {
     "name": "stdout",
     "output_type": "stream",
     "text": [
      "at 76 iteration (('GPU', 35, 256))\n",
      "at 77 iteration (('GPU', 35, 1024))\n",
      "at 78 iteration (('GPU', 35, 2048))\n",
      "at 79 iteration (('GPU', 35, 4048))\n",
      "Error at 79 iteration (('GPU', 35, 4048))\n",
      "OOM when allocating tensor with shape[8000,35,4048] and type float on /job:localhost/replica:0/task:0/device:GPU:0 by allocator GPU_0_bfc\n",
      "\t [[node h_t_transposed/TensorArrayStack/TensorArrayGatherV3 (defined at /workspace/Dudyrev/Speach_Synthesizer/notebooks/DWave4.py:167) ]]\n",
      "Hint: If you want to see a list of allocated tensors when OOM happens, add report_tensor_allocations_upon_oom to RunOptions for current allocation info.\n",
      "\n",
      "\t [[node Mean (defined at /workspace/Dudyrev/Speach_Synthesizer/notebooks/DWave4.py:135) ]]\n",
      "Hint: If you want to see a list of allocated tensors when OOM happens, add report_tensor_allocations_upon_oom to RunOptions for current allocation info.\n",
      "\n",
      "\n",
      "Caused by op 'h_t_transposed/TensorArrayStack/TensorArrayGatherV3', defined at:\n",
      "  File \"/usr/lib/python3.5/runpy.py\", line 184, in _run_module_as_main\n",
      "    \"__main__\", mod_spec)\n",
      "  File \"/usr/lib/python3.5/runpy.py\", line 85, in _run_code\n",
      "    exec(code, run_globals)\n",
      "  File \"/usr/local/lib/python3.5/dist-packages/ipykernel_launcher.py\", line 16, in <module>\n",
      "    app.launch_new_instance()\n",
      "  File \"/usr/local/lib/python3.5/dist-packages/traitlets/config/application.py\", line 658, in launch_instance\n",
      "    app.start()\n",
      "  File \"/usr/local/lib/python3.5/dist-packages/ipykernel/kernelapp.py\", line 505, in start\n",
      "    self.io_loop.start()\n",
      "  File \"/usr/local/lib/python3.5/dist-packages/tornado/platform/asyncio.py\", line 148, in start\n",
      "    self.asyncio_loop.run_forever()\n",
      "  File \"/usr/lib/python3.5/asyncio/base_events.py\", line 345, in run_forever\n",
      "    self._run_once()\n",
      "  File \"/usr/lib/python3.5/asyncio/base_events.py\", line 1312, in _run_once\n",
      "    handle._run()\n",
      "  File \"/usr/lib/python3.5/asyncio/events.py\", line 125, in _run\n",
      "    self._callback(*self._args)\n",
      "  File \"/usr/local/lib/python3.5/dist-packages/tornado/ioloop.py\", line 690, in <lambda>\n",
      "    lambda f: self._run_callback(functools.partial(callback, future))\n",
      "  File \"/usr/local/lib/python3.5/dist-packages/tornado/ioloop.py\", line 743, in _run_callback\n",
      "    ret = callback()\n",
      "  File \"/usr/local/lib/python3.5/dist-packages/tornado/gen.py\", line 781, in inner\n",
      "    self.run()\n",
      "  File \"/usr/local/lib/python3.5/dist-packages/tornado/gen.py\", line 742, in run\n",
      "    yielded = self.gen.send(value)\n",
      "  File \"/usr/local/lib/python3.5/dist-packages/ipykernel/kernelbase.py\", line 357, in process_one\n",
      "    yield gen.maybe_future(dispatch(*args))\n",
      "  File \"/usr/local/lib/python3.5/dist-packages/tornado/gen.py\", line 209, in wrapper\n",
      "    yielded = next(result)\n",
      "  File \"/usr/local/lib/python3.5/dist-packages/ipykernel/kernelbase.py\", line 267, in dispatch_shell\n",
      "    yield gen.maybe_future(handler(stream, idents, msg))\n",
      "  File \"/usr/local/lib/python3.5/dist-packages/tornado/gen.py\", line 209, in wrapper\n",
      "    yielded = next(result)\n",
      "  File \"/usr/local/lib/python3.5/dist-packages/ipykernel/kernelbase.py\", line 534, in execute_request\n",
      "    user_expressions, allow_stdin,\n",
      "  File \"/usr/local/lib/python3.5/dist-packages/tornado/gen.py\", line 209, in wrapper\n",
      "    yielded = next(result)\n",
      "  File \"/usr/local/lib/python3.5/dist-packages/ipykernel/ipkernel.py\", line 294, in do_execute\n",
      "    res = shell.run_cell(code, store_history=store_history, silent=silent)\n",
      "  File \"/usr/local/lib/python3.5/dist-packages/ipykernel/zmqshell.py\", line 536, in run_cell\n",
      "    return super(ZMQInteractiveShell, self).run_cell(*args, **kwargs)\n",
      "  File \"/usr/local/lib/python3.5/dist-packages/IPython/core/interactiveshell.py\", line 2848, in run_cell\n",
      "    raw_cell, store_history, silent, shell_futures)\n",
      "  File \"/usr/local/lib/python3.5/dist-packages/IPython/core/interactiveshell.py\", line 2874, in _run_cell\n",
      "    return runner(coro)\n",
      "  File \"/usr/local/lib/python3.5/dist-packages/IPython/core/async_helpers.py\", line 67, in _pseudo_sync_runner\n",
      "    coro.send(None)\n",
      "  File \"/usr/local/lib/python3.5/dist-packages/IPython/core/interactiveshell.py\", line 3049, in run_cell_async\n",
      "    interactivity=interactivity, compiler=compiler, result=result)\n",
      "  File \"/usr/local/lib/python3.5/dist-packages/IPython/core/interactiveshell.py\", line 3214, in run_ast_nodes\n",
      "    if (yield from self.run_code(code, result)):\n",
      "  File \"/usr/local/lib/python3.5/dist-packages/IPython/core/interactiveshell.py\", line 3296, in run_code\n",
      "    exec(code_obj, self.user_global_ns, self.user_ns)\n",
      "  File \"<ipython-input-315-4bf6dedb0816>\", line 23, in <module>\n",
      "    gru = DWave4.WaveGRU(3, 64, n_batches=n_batches, restore_variables=None, hidden_size=hidden_size)\n",
      "  File \"/workspace/Dudyrev/Speach_Synthesizer/notebooks/DWave4.py\", line 27, in __init__\n",
      "    self.train_pass()\n",
      "  File \"/workspace/Dudyrev/Speach_Synthesizer/notebooks/DWave4.py\", line 167, in train_pass\n",
      "    self.h_t_trans = tf.scan(self.calc_hid, self.sound_trans, initializer=self.h_0, name='h_t_transposed')\n",
      "  File \"/usr/local/lib/python3.5/dist-packages/tensorflow/python/ops/functional_ops.py\", line 726, in scan\n",
      "    results_flat = [r.stack() for r in r_a]\n",
      "  File \"/usr/local/lib/python3.5/dist-packages/tensorflow/python/ops/functional_ops.py\", line 726, in <listcomp>\n",
      "    results_flat = [r.stack() for r in r_a]\n",
      "  File \"/usr/local/lib/python3.5/dist-packages/tensorflow/python/ops/tensor_array_ops.py\", line 1128, in stack\n",
      "    return self._implementation.stack(name=name)\n",
      "  File \"/usr/local/lib/python3.5/dist-packages/tensorflow/python/ops/tensor_array_ops.py\", line 292, in stack\n",
      "    return self.gather(math_ops.range(0, self.size()), name=name)\n",
      "  File \"/usr/local/lib/python3.5/dist-packages/tensorflow/python/ops/tensor_array_ops.py\", line 306, in gather\n",
      "    element_shape=element_shape)\n",
      "  File \"/usr/local/lib/python3.5/dist-packages/tensorflow/python/ops/gen_data_flow_ops.py\", line 6291, in tensor_array_gather_v3\n",
      "    element_shape=element_shape, name=name)\n",
      "  File \"/usr/local/lib/python3.5/dist-packages/tensorflow/python/framework/op_def_library.py\", line 788, in _apply_op_helper\n",
      "    op_def=op_def)\n",
      "  File \"/usr/local/lib/python3.5/dist-packages/tensorflow/python/util/deprecation.py\", line 507, in new_func\n",
      "    return func(*args, **kwargs)\n",
      "  File \"/usr/local/lib/python3.5/dist-packages/tensorflow/python/framework/ops.py\", line 3300, in create_op\n",
      "    op_def=op_def)\n",
      "  File \"/usr/local/lib/python3.5/dist-packages/tensorflow/python/framework/ops.py\", line 1801, in __init__\n",
      "    self._traceback = tf_stack.extract_stack()\n",
      "\n",
      "ResourceExhaustedError (see above for traceback): OOM when allocating tensor with shape[8000,35,4048] and type float on /job:localhost/replica:0/task:0/device:GPU:0 by allocator GPU_0_bfc\n",
      "\t [[node h_t_transposed/TensorArrayStack/TensorArrayGatherV3 (defined at /workspace/Dudyrev/Speach_Synthesizer/notebooks/DWave4.py:167) ]]\n",
      "Hint: If you want to see a list of allocated tensors when OOM happens, add report_tensor_allocations_upon_oom to RunOptions for current allocation info.\n",
      "\n",
      "\t [[node Mean (defined at /workspace/Dudyrev/Speach_Synthesizer/notebooks/DWave4.py:135) ]]\n",
      "Hint: If you want to see a list of allocated tensors when OOM happens, add report_tensor_allocations_upon_oom to RunOptions for current allocation info.\n",
      "\n",
      "\n"
     ]
    },
    {
     "name": "stderr",
     "output_type": "stream",
     "text": [
      "/usr/local/lib/python3.5/dist-packages/ipykernel_launcher.py:59: FutureWarning: Sorting because non-concatenation axis is not aligned. A future version\n",
      "of pandas will change to not sort by default.\n",
      "\n",
      "To accept the future behavior, pass 'sort=True'.\n",
      "\n",
      "To retain the current behavior and silence the warning, pass sort=False\n",
      "\n"
     ]
    }
   ],
   "source": [
    "res_dss = [old_res_ds]\n",
    "for idx, var in enumerate(product(devices_var, batches_var, hsize_var)):\n",
    "    device, n_batches, hidden_size = var\n",
    "    \n",
    "    cds = pd.concat(res_dss)[['device','n_batches','hidden_size']].drop_duplicates()\n",
    "    cds = cds[(cds['device']==device)&(cds['n_batches']==n_batches)&(cds['hidden_size']==hidden_size)].drop_duplicates()\n",
    "    if cds.shape[0]>0:\n",
    "        print(device, n_batches, hidden_size, 'already calculated')\n",
    "        continue\n",
    "    if device=='CPU' and hidden_size>1024:\n",
    "        print(device, n_batches, hidden_size, 'to much hidden_size to CPU. skipping')\n",
    "        continue\n",
    "    print('at {idx} iteration ({var})'.format(idx=idx, var=var))\n",
    "        \n",
    "    start_epoch  = 0\n",
    "    gru_losses = []\n",
    "    start_learn = datetime.now()\n",
    "    gru_times = []\n",
    "    \n",
    "    try:\n",
    "        tf.reset_default_graph()\n",
    "        with tf.device(device):\n",
    "            gru = DWave4.WaveGRU(3, 64, n_batches=n_batches, restore_variables=None, hidden_size=hidden_size)\n",
    "        sess = tf.Session()\n",
    "        sess.run(tf.global_variables_initializer())\n",
    "        \n",
    "        audio_resh = audios[0]\n",
    "        audio_resh = audio_resh[:,:8000,:]\n",
    "        audio_resh = np.concatenate([audio_resh for i in range(gru.n_batches)])\n",
    "        sound_X = audio_resh\n",
    "        sound_Y = sound_X\n",
    "        c = sound_X[:,:,0]\n",
    "        c_shift = np.hstack([c, np.zeros((gru.n_batches,1))])[:,1:]\n",
    "        c_shift = c_shift.reshape(gru.n_batches,-1,1)\n",
    "        sound_X = np.concatenate([sound_X, c_shift],2)\n",
    "        txt_emb = np.zeros((1,gru.text_embed_size))\n",
    "        feed_dict={gru.sound_X:sound_X, gru.txt_embed_plh:txt_emb, gru.Y_true:sound_Y}\n",
    "        \n",
    "        for epoch in range(start_epoch, n_epochs):\n",
    "            _, loss = sess.run([gru.train_step, gru.loss],\n",
    "                                 feed_dict=feed_dict)\n",
    "            gru_losses.append(loss)\n",
    "            gru_times.append(datetime.now())\n",
    "            \n",
    "        res_ds = pd.DataFrame()\n",
    "        res_ds['time'] = gru_times\n",
    "        res_ds['losses'] = gru_losses\n",
    "        res_ds['device'] = device\n",
    "        res_ds['n_batches'] = n_batches\n",
    "        res_ds['hidden_size'] = hidden_size\n",
    "        res_dss.append(res_ds)\n",
    "        pd.concat(res_dss).to_csv('gpu_results.csv')\n",
    "            \n",
    "    except Exception as e:\n",
    "        print('Error at {idx} iteration ({var})'.format(idx=idx, var=var))\n",
    "        print(e)\n",
    "    \n",
    "    \n",
    "res_ds = pd.concat(res_dss)"
   ]
  },
  {
   "cell_type": "raw",
   "metadata": {},
   "source": [
    "res_ds.to_csv('gpu_results.csv')"
   ]
  },
  {
   "cell_type": "code",
   "execution_count": 11,
   "metadata": {},
   "outputs": [],
   "source": [
    "import pandas as pd\n",
    "res_ds = pd.read_csv('gpu_results.csv',index_col=0, parse_dates=['time'])"
   ]
  },
  {
   "cell_type": "code",
   "execution_count": 12,
   "metadata": {},
   "outputs": [],
   "source": [
    "res_ds['index_in_row'] = res_ds.index\n",
    "res_ds.index = range(len(res_ds))"
   ]
  },
  {
   "cell_type": "code",
   "execution_count": 14,
   "metadata": {},
   "outputs": [
    {
     "data": {
      "text/html": [
       "<div>\n",
       "<style scoped>\n",
       "    .dataframe tbody tr th:only-of-type {\n",
       "        vertical-align: middle;\n",
       "    }\n",
       "\n",
       "    .dataframe tbody tr th {\n",
       "        vertical-align: top;\n",
       "    }\n",
       "\n",
       "    .dataframe thead th {\n",
       "        text-align: right;\n",
       "    }\n",
       "</style>\n",
       "<table border=\"1\" class=\"dataframe\">\n",
       "  <thead>\n",
       "    <tr style=\"text-align: right;\">\n",
       "      <th></th>\n",
       "      <th>device</th>\n",
       "      <th>hidden_size</th>\n",
       "      <th>index_in_row</th>\n",
       "      <th>losses</th>\n",
       "      <th>n_batches</th>\n",
       "      <th>time</th>\n",
       "      <th>time_delta</th>\n",
       "      <th>time_delta_seconds</th>\n",
       "      <th>time_last</th>\n",
       "    </tr>\n",
       "  </thead>\n",
       "  <tbody>\n",
       "    <tr>\n",
       "      <th>0</th>\n",
       "      <td>CPU</td>\n",
       "      <td>128</td>\n",
       "      <td>0</td>\n",
       "      <td>5.544853</td>\n",
       "      <td>1</td>\n",
       "      <td>2019-06-21 13:22:47.712704</td>\n",
       "      <td>NaT</td>\n",
       "      <td>NaN</td>\n",
       "      <td>NaT</td>\n",
       "    </tr>\n",
       "    <tr>\n",
       "      <th>1</th>\n",
       "      <td>CPU</td>\n",
       "      <td>128</td>\n",
       "      <td>1</td>\n",
       "      <td>5.544168</td>\n",
       "      <td>1</td>\n",
       "      <td>2019-06-21 13:22:50.212251</td>\n",
       "      <td>00:00:02.499547</td>\n",
       "      <td>2.499547</td>\n",
       "      <td>2019-06-21 13:22:47.712704</td>\n",
       "    </tr>\n",
       "    <tr>\n",
       "      <th>2</th>\n",
       "      <td>CPU</td>\n",
       "      <td>128</td>\n",
       "      <td>2</td>\n",
       "      <td>5.543474</td>\n",
       "      <td>1</td>\n",
       "      <td>2019-06-21 13:22:52.700275</td>\n",
       "      <td>00:00:02.488024</td>\n",
       "      <td>2.488024</td>\n",
       "      <td>2019-06-21 13:22:50.212251</td>\n",
       "    </tr>\n",
       "    <tr>\n",
       "      <th>3</th>\n",
       "      <td>CPU</td>\n",
       "      <td>128</td>\n",
       "      <td>3</td>\n",
       "      <td>5.542737</td>\n",
       "      <td>1</td>\n",
       "      <td>2019-06-21 13:22:55.172457</td>\n",
       "      <td>00:00:02.472182</td>\n",
       "      <td>2.472182</td>\n",
       "      <td>2019-06-21 13:22:52.700275</td>\n",
       "    </tr>\n",
       "    <tr>\n",
       "      <th>4</th>\n",
       "      <td>CPU</td>\n",
       "      <td>128</td>\n",
       "      <td>4</td>\n",
       "      <td>5.541954</td>\n",
       "      <td>1</td>\n",
       "      <td>2019-06-21 13:22:57.638142</td>\n",
       "      <td>00:00:02.465685</td>\n",
       "      <td>2.465685</td>\n",
       "      <td>2019-06-21 13:22:55.172457</td>\n",
       "    </tr>\n",
       "  </tbody>\n",
       "</table>\n",
       "</div>"
      ],
      "text/plain": [
       "  device  hidden_size  index_in_row    losses  n_batches  \\\n",
       "0    CPU          128             0  5.544853          1   \n",
       "1    CPU          128             1  5.544168          1   \n",
       "2    CPU          128             2  5.543474          1   \n",
       "3    CPU          128             3  5.542737          1   \n",
       "4    CPU          128             4  5.541954          1   \n",
       "\n",
       "                        time      time_delta  time_delta_seconds  \\\n",
       "0 2019-06-21 13:22:47.712704             NaT                 NaN   \n",
       "1 2019-06-21 13:22:50.212251 00:00:02.499547            2.499547   \n",
       "2 2019-06-21 13:22:52.700275 00:00:02.488024            2.488024   \n",
       "3 2019-06-21 13:22:55.172457 00:00:02.472182            2.472182   \n",
       "4 2019-06-21 13:22:57.638142 00:00:02.465685            2.465685   \n",
       "\n",
       "                   time_last  \n",
       "0                        NaT  \n",
       "1 2019-06-21 13:22:47.712704  \n",
       "2 2019-06-21 13:22:50.212251  \n",
       "3 2019-06-21 13:22:52.700275  \n",
       "4 2019-06-21 13:22:55.172457  "
      ]
     },
     "execution_count": 14,
     "metadata": {},
     "output_type": "execute_result"
    }
   ],
   "source": [
    "res_ds['time_last'] = res_ds['time'].shift(1)\n",
    "res_ds.loc[res_ds['index_in_row']==0, 'time_last'] = None\n",
    "res_ds['time_delta'] = res_ds['time']-res_ds['time_last']\n",
    "res_ds['time_delta_seconds'] = [x.total_seconds() if x is not pd.NaT else None for x in res_ds['time_delta']]\n",
    "res_ds.head()"
   ]
  },
  {
   "cell_type": "code",
   "execution_count": 63,
   "metadata": {
    "scrolled": false
   },
   "outputs": [
    {
     "data": {
      "text/html": [
       "<div>\n",
       "<style scoped>\n",
       "    .dataframe tbody tr th:only-of-type {\n",
       "        vertical-align: middle;\n",
       "    }\n",
       "\n",
       "    .dataframe tbody tr th {\n",
       "        vertical-align: top;\n",
       "    }\n",
       "\n",
       "    .dataframe thead th {\n",
       "        text-align: right;\n",
       "    }\n",
       "</style>\n",
       "<table border=\"1\" class=\"dataframe\">\n",
       "  <thead>\n",
       "    <tr style=\"text-align: right;\">\n",
       "      <th></th>\n",
       "      <th>device</th>\n",
       "      <th>CPU</th>\n",
       "      <th>GPU</th>\n",
       "    </tr>\n",
       "    <tr>\n",
       "      <th>n_batches</th>\n",
       "      <th>hidden_size</th>\n",
       "      <th></th>\n",
       "      <th></th>\n",
       "    </tr>\n",
       "  </thead>\n",
       "  <tbody>\n",
       "    <tr>\n",
       "      <th rowspan=\"5\" valign=\"top\">1</th>\n",
       "      <th>128</th>\n",
       "      <td>2.492423</td>\n",
       "      <td>6.065356</td>\n",
       "    </tr>\n",
       "    <tr>\n",
       "      <th>256</th>\n",
       "      <td>2.640672</td>\n",
       "      <td>6.119669</td>\n",
       "    </tr>\n",
       "    <tr>\n",
       "      <th>1024</th>\n",
       "      <td>7.218090</td>\n",
       "      <td>7.210800</td>\n",
       "    </tr>\n",
       "    <tr>\n",
       "      <th>2048</th>\n",
       "      <td>NaN</td>\n",
       "      <td>6.265658</td>\n",
       "    </tr>\n",
       "    <tr>\n",
       "      <th>4048</th>\n",
       "      <td>NaN</td>\n",
       "      <td>14.467275</td>\n",
       "    </tr>\n",
       "    <tr>\n",
       "      <th rowspan=\"5\" valign=\"top\">5</th>\n",
       "      <th>128</th>\n",
       "      <td>2.860727</td>\n",
       "      <td>6.867843</td>\n",
       "    </tr>\n",
       "    <tr>\n",
       "      <th>256</th>\n",
       "      <td>4.539716</td>\n",
       "      <td>6.644216</td>\n",
       "    </tr>\n",
       "    <tr>\n",
       "      <th>1024</th>\n",
       "      <td>10.965950</td>\n",
       "      <td>7.014654</td>\n",
       "    </tr>\n",
       "    <tr>\n",
       "      <th>2048</th>\n",
       "      <td>NaN</td>\n",
       "      <td>8.358908</td>\n",
       "    </tr>\n",
       "    <tr>\n",
       "      <th>4048</th>\n",
       "      <td>NaN</td>\n",
       "      <td>16.118331</td>\n",
       "    </tr>\n",
       "    <tr>\n",
       "      <th rowspan=\"5\" valign=\"top\">10</th>\n",
       "      <th>128</th>\n",
       "      <td>3.105973</td>\n",
       "      <td>6.892157</td>\n",
       "    </tr>\n",
       "    <tr>\n",
       "      <th>256</th>\n",
       "      <td>4.793465</td>\n",
       "      <td>6.648471</td>\n",
       "    </tr>\n",
       "    <tr>\n",
       "      <th>1024</th>\n",
       "      <td>13.551868</td>\n",
       "      <td>7.034788</td>\n",
       "    </tr>\n",
       "    <tr>\n",
       "      <th>2048</th>\n",
       "      <td>NaN</td>\n",
       "      <td>8.483124</td>\n",
       "    </tr>\n",
       "    <tr>\n",
       "      <th>4048</th>\n",
       "      <td>NaN</td>\n",
       "      <td>17.621668</td>\n",
       "    </tr>\n",
       "    <tr>\n",
       "      <th rowspan=\"5\" valign=\"top\">15</th>\n",
       "      <th>128</th>\n",
       "      <td>3.314043</td>\n",
       "      <td>6.860026</td>\n",
       "    </tr>\n",
       "    <tr>\n",
       "      <th>256</th>\n",
       "      <td>5.525317</td>\n",
       "      <td>6.611570</td>\n",
       "    </tr>\n",
       "    <tr>\n",
       "      <th>1024</th>\n",
       "      <td>15.883699</td>\n",
       "      <td>7.000434</td>\n",
       "    </tr>\n",
       "    <tr>\n",
       "      <th>2048</th>\n",
       "      <td>NaN</td>\n",
       "      <td>8.570074</td>\n",
       "    </tr>\n",
       "    <tr>\n",
       "      <th>4048</th>\n",
       "      <td>NaN</td>\n",
       "      <td>17.098039</td>\n",
       "    </tr>\n",
       "    <tr>\n",
       "      <th rowspan=\"5\" valign=\"top\">20</th>\n",
       "      <th>128</th>\n",
       "      <td>3.430758</td>\n",
       "      <td>8.099511</td>\n",
       "    </tr>\n",
       "    <tr>\n",
       "      <th>256</th>\n",
       "      <td>6.831302</td>\n",
       "      <td>7.887218</td>\n",
       "    </tr>\n",
       "    <tr>\n",
       "      <th>1024</th>\n",
       "      <td>18.162500</td>\n",
       "      <td>8.042742</td>\n",
       "    </tr>\n",
       "    <tr>\n",
       "      <th>2048</th>\n",
       "      <td>NaN</td>\n",
       "      <td>8.739428</td>\n",
       "    </tr>\n",
       "    <tr>\n",
       "      <th>4048</th>\n",
       "      <td>NaN</td>\n",
       "      <td>17.524181</td>\n",
       "    </tr>\n",
       "    <tr>\n",
       "      <th rowspan=\"5\" valign=\"top\">25</th>\n",
       "      <th>128</th>\n",
       "      <td>3.915094</td>\n",
       "      <td>8.035185</td>\n",
       "    </tr>\n",
       "    <tr>\n",
       "      <th>256</th>\n",
       "      <td>7.359127</td>\n",
       "      <td>7.831255</td>\n",
       "    </tr>\n",
       "    <tr>\n",
       "      <th>1024</th>\n",
       "      <td>20.005586</td>\n",
       "      <td>7.999438</td>\n",
       "    </tr>\n",
       "    <tr>\n",
       "      <th>2048</th>\n",
       "      <td>NaN</td>\n",
       "      <td>8.707288</td>\n",
       "    </tr>\n",
       "    <tr>\n",
       "      <th>4048</th>\n",
       "      <td>NaN</td>\n",
       "      <td>18.239195</td>\n",
       "    </tr>\n",
       "    <tr>\n",
       "      <th rowspan=\"5\" valign=\"top\">30</th>\n",
       "      <th>128</th>\n",
       "      <td>4.319686</td>\n",
       "      <td>8.070227</td>\n",
       "    </tr>\n",
       "    <tr>\n",
       "      <th>256</th>\n",
       "      <td>7.883618</td>\n",
       "      <td>7.844639</td>\n",
       "    </tr>\n",
       "    <tr>\n",
       "      <th>1024</th>\n",
       "      <td>22.573967</td>\n",
       "      <td>8.042557</td>\n",
       "    </tr>\n",
       "    <tr>\n",
       "      <th>2048</th>\n",
       "      <td>NaN</td>\n",
       "      <td>8.788345</td>\n",
       "    </tr>\n",
       "    <tr>\n",
       "      <th>4048</th>\n",
       "      <td>NaN</td>\n",
       "      <td>NaN</td>\n",
       "    </tr>\n",
       "    <tr>\n",
       "      <th rowspan=\"5\" valign=\"top\">35</th>\n",
       "      <th>128</th>\n",
       "      <td>4.695597</td>\n",
       "      <td>8.152973</td>\n",
       "    </tr>\n",
       "    <tr>\n",
       "      <th>256</th>\n",
       "      <td>8.777261</td>\n",
       "      <td>7.998768</td>\n",
       "    </tr>\n",
       "    <tr>\n",
       "      <th>1024</th>\n",
       "      <td>25.388591</td>\n",
       "      <td>8.255810</td>\n",
       "    </tr>\n",
       "    <tr>\n",
       "      <th>2048</th>\n",
       "      <td>NaN</td>\n",
       "      <td>9.577857</td>\n",
       "    </tr>\n",
       "    <tr>\n",
       "      <th>4048</th>\n",
       "      <td>NaN</td>\n",
       "      <td>NaN</td>\n",
       "    </tr>\n",
       "  </tbody>\n",
       "</table>\n",
       "</div>"
      ],
      "text/plain": [
       "device                       CPU        GPU\n",
       "n_batches hidden_size                      \n",
       "1         128           2.492423   6.065356\n",
       "          256           2.640672   6.119669\n",
       "          1024          7.218090   7.210800\n",
       "          2048               NaN   6.265658\n",
       "          4048               NaN  14.467275\n",
       "5         128           2.860727   6.867843\n",
       "          256           4.539716   6.644216\n",
       "          1024         10.965950   7.014654\n",
       "          2048               NaN   8.358908\n",
       "          4048               NaN  16.118331\n",
       "10        128           3.105973   6.892157\n",
       "          256           4.793465   6.648471\n",
       "          1024         13.551868   7.034788\n",
       "          2048               NaN   8.483124\n",
       "          4048               NaN  17.621668\n",
       "15        128           3.314043   6.860026\n",
       "          256           5.525317   6.611570\n",
       "          1024         15.883699   7.000434\n",
       "          2048               NaN   8.570074\n",
       "          4048               NaN  17.098039\n",
       "20        128           3.430758   8.099511\n",
       "          256           6.831302   7.887218\n",
       "          1024         18.162500   8.042742\n",
       "          2048               NaN   8.739428\n",
       "          4048               NaN  17.524181\n",
       "25        128           3.915094   8.035185\n",
       "          256           7.359127   7.831255\n",
       "          1024         20.005586   7.999438\n",
       "          2048               NaN   8.707288\n",
       "          4048               NaN  18.239195\n",
       "30        128           4.319686   8.070227\n",
       "          256           7.883618   7.844639\n",
       "          1024         22.573967   8.042557\n",
       "          2048               NaN   8.788345\n",
       "          4048               NaN        NaN\n",
       "35        128           4.695597   8.152973\n",
       "          256           8.777261   7.998768\n",
       "          1024         25.388591   8.255810\n",
       "          2048               NaN   9.577857\n",
       "          4048               NaN        NaN"
      ]
     },
     "execution_count": 63,
     "metadata": {},
     "output_type": "execute_result"
    }
   ],
   "source": [
    "res_ds.pivot_table(index=['n_batches','hidden_size'], columns='device', values='time_delta_seconds', aggfunc='mean')\n",
    "cds.loc[(30, 4048), 'GPU'] = None\n",
    "cds.loc[(35, 4048), 'GPU'] = None\n",
    "cds = cds.sort_index()\n",
    "cds"
   ]
  },
  {
   "cell_type": "code",
   "execution_count": 19,
   "metadata": {},
   "outputs": [],
   "source": [
    "import seaborn as sns\n",
    "import matplotlib.pyplot as plt"
   ]
  },
  {
   "cell_type": "code",
   "execution_count": 60,
   "metadata": {},
   "outputs": [
    {
     "data": {
      "image/png": "[encoded data removed]",
      "text/plain": [
       "<Figure size 720x720 with 2 Axes>"
      ]
     },
     "metadata": {
      "needs_background": "light"
     },
     "output_type": "display_data"
    }
   ],
   "source": [
    "plt.figure(figsize=(10,10))\n",
    "cds = res_ds.pivot_table(index=['n_batches','hidden_size'], columns='device', values='time_delta_seconds', aggfunc='mean')\n",
    "cds.loc[(30, 4048), 'GPU'] = None\n",
    "cds.loc[(35, 4048), 'GPU'] = None\n",
    "cds = cds.sort_index()\n",
    "s = (cds.reset_index()['n_batches']!=cds.reset_index()['n_batches'].shift(1)).astype(int)\n",
    "s = s[s>0].index\n",
    "sns.heatmap(cds, cmap='Blues', annot=True)\n",
    "for i in s:\n",
    "    plt.axhline(i, linestyle='--', color='black', linewidth=2)"
   ]
  },
  {
   "cell_type": "code",
   "execution_count": 64,
   "metadata": {},
   "outputs": [
    {
     "data": {
      "image/png": "[encoded data removed]",
      "text/plain": [
       "<Figure size 1080x360 with 2 Axes>"
      ]
     },
     "metadata": {
      "needs_background": "light"
     },
     "output_type": "display_data"
    }
   ],
   "source": [
    "plt.figure(figsize=(15,5))\n",
    "plt.subplot(121)\n",
    "sns.boxplot(x='n_batches',y='time_delta_seconds',data=res_ds, hue='device')\n",
    "\n",
    "plt.subplot(122)\n",
    "sns.boxplot(x='hidden_size', y='time_delta_seconds', data=res_ds, hue='device')\n",
    "\n",
    "plt.tight_layout()\n",
    "plt.show()"
   ]
  },
  {
   "cell_type": "code",
   "execution_count": 75,
   "metadata": {},
   "outputs": [
    {
     "data": {
      "image/png": "[encoded data removed]",
      "text/plain": [
       "<Figure size 1080x360 with 4 Axes>"
      ]
     },
     "metadata": {
      "needs_background": "light"
     },
     "output_type": "display_data"
    }
   ],
   "source": [
    "plt.figure(figsize=(15,5))\n",
    "plt.subplot(121)\n",
    "cds = res_ds[res_ds['device']=='CPU'].pivot_table(index='n_batches',columns='hidden_size', values='time_delta_seconds', aggfunc='mean')\n",
    "sns.heatmap(cds, cmap='Blues', annot=True)\n",
    "plt.title('CPU mean time delta (in seconds)')\n",
    "plt.yticks(rotation=0)\n",
    "\n",
    "plt.subplot(122)\n",
    "cds = res_ds[res_ds['device']=='GPU'].pivot_table(index='n_batches',columns='hidden_size', values='time_delta_seconds', aggfunc='mean')\n",
    "sns.heatmap(cds, cmap='Blues', annot=True)\n",
    "plt.title('GPU mean time delta (in seconds)')\n",
    "plt.yticks(rotation=0)\n",
    "\n",
    "plt.tight_layout()\n",
    "plt.show()"
   ]
  },
  {
   "cell_type": "code",
   "execution_count": null,
   "metadata": {},
   "outputs": [],
   "source": []
  },
  {
   "cell_type": "code",
   "execution_count": null,
   "metadata": {},
   "outputs": [],
   "source": []
  },
  {
   "cell_type": "code",
   "execution_count": 193,
   "metadata": {},
   "outputs": [
    {
     "data": {
      "text/plain": [
       "0                          NaT\n",
       "0   2019-06-21 13:26:54.462609\n",
       "0   2019-06-21 13:31:19.785001\n",
       "0   2019-06-21 13:43:23.235847\n",
       "0   2019-06-21 13:48:10.223666\n",
       "0   2019-06-21 13:55:45.209949\n",
       "0   2019-06-21 14:14:03.734056\n",
       "0   2019-06-21 14:19:15.313439\n",
       "0   2019-06-21 14:27:16.090213\n",
       "0   2019-06-21 14:49:53.208441\n",
       "0   2019-06-21 15:00:01.170786\n",
       "0   2019-06-21 15:10:14.561571\n",
       "0   2019-06-21 15:22:17.434600\n",
       "0   2019-06-21 15:33:45.552615\n",
       "0   2019-06-21 15:44:51.541178\n",
       "0   2019-06-21 15:56:34.850494\n",
       "0   2019-06-21 16:08:05.462791\n",
       "0   2019-06-21 16:19:11.602160\n",
       "Name: time_last, dtype: datetime64[ns]"
      ]
     },
     "execution_count": 193,
     "metadata": {},
     "output_type": "execute_result"
    }
   ],
   "source": [
    "res_ds.loc[0,'time_last']"
   ]
  },
  {
   "cell_type": "code",
   "execution_count": 192,
   "metadata": {},
   "outputs": [
    {
     "data": {
      "text/plain": [
       "0                NaT\n",
       "1    00:00:02.499547\n",
       "2    00:00:02.488024\n",
       "3    00:00:02.472182\n",
       "4    00:00:02.465685\n",
       "5    00:00:02.495107\n",
       "6    00:00:02.511231\n",
       "7    00:00:02.510834\n",
       "8    00:00:02.518610\n",
       "9    00:00:02.465370\n",
       "10   00:00:02.539072\n",
       "11   00:00:02.510707\n",
       "12   00:00:02.536547\n",
       "13   00:00:02.484916\n",
       "14   00:00:02.474510\n",
       "15   00:00:02.515962\n",
       "16   00:00:02.482994\n",
       "17   00:00:02.564232\n",
       "18   00:00:02.503312\n",
       "19   00:00:02.468693\n",
       "20   00:00:02.499040\n",
       "21   00:00:02.406645\n",
       "22   00:00:02.449844\n",
       "23   00:00:02.485846\n",
       "24   00:00:02.488196\n",
       "25   00:00:02.483074\n",
       "26   00:00:02.483712\n",
       "27   00:00:02.486886\n",
       "28   00:00:02.497121\n",
       "29   00:00:02.484158\n",
       "           ...      \n",
       "70   00:00:06.857428\n",
       "71   00:00:06.952772\n",
       "72   00:00:06.959109\n",
       "73   00:00:07.129997\n",
       "74   00:00:06.973950\n",
       "75   00:00:07.053132\n",
       "76   00:00:06.904074\n",
       "77   00:00:06.987735\n",
       "78   00:00:07.155760\n",
       "79   00:00:07.056350\n",
       "80   00:00:06.857657\n",
       "81   00:00:06.995847\n",
       "82   00:00:07.026163\n",
       "83   00:00:07.009968\n",
       "84   00:00:07.146672\n",
       "85   00:00:07.119455\n",
       "86   00:00:07.045034\n",
       "87   00:00:07.079736\n",
       "88   00:00:06.904971\n",
       "89   00:00:07.234826\n",
       "90   00:00:06.984743\n",
       "91   00:00:07.032062\n",
       "92   00:00:07.078645\n",
       "93   00:00:06.974410\n",
       "94   00:00:06.907649\n",
       "95   00:00:06.969022\n",
       "96   00:00:07.037738\n",
       "97   00:00:07.155880\n",
       "98   00:00:07.152925\n",
       "99   00:00:06.913402\n",
       "Length: 1800, dtype: timedelta64[ns]"
      ]
     },
     "execution_count": 192,
     "metadata": {},
     "output_type": "execute_result"
    }
   ],
   "source": [
    "res_ds['time']-res_ds['time_last']"
   ]
  },
  {
   "cell_type": "code",
   "execution_count": null,
   "metadata": {},
   "outputs": [],
   "source": []
  },
  {
   "cell_type": "code",
   "execution_count": 64,
   "metadata": {
    "scrolled": false
   },
   "outputs": [
    {
     "ename": "KeyboardInterrupt",
     "evalue": "",
     "output_type": "error",
     "traceback": [
      "\u001b[0;31m---------------------------------------------------------------------------\u001b[0m",
      "\u001b[0;31mKeyboardInterrupt\u001b[0m                         Traceback (most recent call last)",
      "\u001b[0;32m<ipython-input-64-9858e2d4b81e>\u001b[0m in \u001b[0;36m<module>\u001b[0;34m\u001b[0m\n\u001b[1;32m      1\u001b[0m \u001b[0;32mfor\u001b[0m \u001b[0mepoch\u001b[0m \u001b[0;32min\u001b[0m \u001b[0mrange\u001b[0m\u001b[0;34m(\u001b[0m\u001b[0mstart_epoch\u001b[0m\u001b[0;34m,\u001b[0m \u001b[0mn_epochs\u001b[0m\u001b[0;34m)\u001b[0m\u001b[0;34m:\u001b[0m\u001b[0;34m\u001b[0m\u001b[0m\n\u001b[1;32m      2\u001b[0m     _, loss = sess.run([gru.train_step, gru.loss],\n\u001b[0;32m----> 3\u001b[0;31m                          feed_dict=feed_dict)\n\u001b[0m\u001b[1;32m      4\u001b[0m     \u001b[0mgru_losses\u001b[0m\u001b[0;34m.\u001b[0m\u001b[0mappend\u001b[0m\u001b[0;34m(\u001b[0m\u001b[0mloss\u001b[0m\u001b[0;34m)\u001b[0m\u001b[0;34m\u001b[0m\u001b[0m\n\u001b[1;32m      5\u001b[0m     \u001b[0mgru_times\u001b[0m\u001b[0;34m.\u001b[0m\u001b[0mappend\u001b[0m\u001b[0;34m(\u001b[0m\u001b[0mdatetime\u001b[0m\u001b[0;34m.\u001b[0m\u001b[0mnow\u001b[0m\u001b[0;34m(\u001b[0m\u001b[0;34m)\u001b[0m\u001b[0;34m)\u001b[0m\u001b[0;34m\u001b[0m\u001b[0m\n",
      "\u001b[0;32m/usr/local/lib/python3.5/dist-packages/tensorflow/python/client/session.py\u001b[0m in \u001b[0;36mrun\u001b[0;34m(self, fetches, feed_dict, options, run_metadata)\u001b[0m\n\u001b[1;32m    927\u001b[0m     \u001b[0;32mtry\u001b[0m\u001b[0;34m:\u001b[0m\u001b[0;34m\u001b[0m\u001b[0m\n\u001b[1;32m    928\u001b[0m       result = self._run(None, fetches, feed_dict, options_ptr,\n\u001b[0;32m--> 929\u001b[0;31m                          run_metadata_ptr)\n\u001b[0m\u001b[1;32m    930\u001b[0m       \u001b[0;32mif\u001b[0m \u001b[0mrun_metadata\u001b[0m\u001b[0;34m:\u001b[0m\u001b[0;34m\u001b[0m\u001b[0m\n\u001b[1;32m    931\u001b[0m         \u001b[0mproto_data\u001b[0m \u001b[0;34m=\u001b[0m \u001b[0mtf_session\u001b[0m\u001b[0;34m.\u001b[0m\u001b[0mTF_GetBuffer\u001b[0m\u001b[0;34m(\u001b[0m\u001b[0mrun_metadata_ptr\u001b[0m\u001b[0;34m)\u001b[0m\u001b[0;34m\u001b[0m\u001b[0m\n",
      "\u001b[0;32m/usr/local/lib/python3.5/dist-packages/tensorflow/python/client/session.py\u001b[0m in \u001b[0;36m_run\u001b[0;34m(self, handle, fetches, feed_dict, options, run_metadata)\u001b[0m\n\u001b[1;32m   1150\u001b[0m     \u001b[0;32mif\u001b[0m \u001b[0mfinal_fetches\u001b[0m \u001b[0;32mor\u001b[0m \u001b[0mfinal_targets\u001b[0m \u001b[0;32mor\u001b[0m \u001b[0;34m(\u001b[0m\u001b[0mhandle\u001b[0m \u001b[0;32mand\u001b[0m \u001b[0mfeed_dict_tensor\u001b[0m\u001b[0;34m)\u001b[0m\u001b[0;34m:\u001b[0m\u001b[0;34m\u001b[0m\u001b[0m\n\u001b[1;32m   1151\u001b[0m       results = self._do_run(handle, final_targets, final_fetches,\n\u001b[0;32m-> 1152\u001b[0;31m                              feed_dict_tensor, options, run_metadata)\n\u001b[0m\u001b[1;32m   1153\u001b[0m     \u001b[0;32melse\u001b[0m\u001b[0;34m:\u001b[0m\u001b[0;34m\u001b[0m\u001b[0m\n\u001b[1;32m   1154\u001b[0m       \u001b[0mresults\u001b[0m \u001b[0;34m=\u001b[0m \u001b[0;34m[\u001b[0m\u001b[0;34m]\u001b[0m\u001b[0;34m\u001b[0m\u001b[0m\n",
      "\u001b[0;32m/usr/local/lib/python3.5/dist-packages/tensorflow/python/client/session.py\u001b[0m in \u001b[0;36m_do_run\u001b[0;34m(self, handle, target_list, fetch_list, feed_dict, options, run_metadata)\u001b[0m\n\u001b[1;32m   1326\u001b[0m     \u001b[0;32mif\u001b[0m \u001b[0mhandle\u001b[0m \u001b[0;32mis\u001b[0m \u001b[0;32mNone\u001b[0m\u001b[0;34m:\u001b[0m\u001b[0;34m\u001b[0m\u001b[0m\n\u001b[1;32m   1327\u001b[0m       return self._do_call(_run_fn, feeds, fetches, targets, options,\n\u001b[0;32m-> 1328\u001b[0;31m                            run_metadata)\n\u001b[0m\u001b[1;32m   1329\u001b[0m     \u001b[0;32melse\u001b[0m\u001b[0;34m:\u001b[0m\u001b[0;34m\u001b[0m\u001b[0m\n\u001b[1;32m   1330\u001b[0m       \u001b[0;32mreturn\u001b[0m \u001b[0mself\u001b[0m\u001b[0;34m.\u001b[0m\u001b[0m_do_call\u001b[0m\u001b[0;34m(\u001b[0m\u001b[0m_prun_fn\u001b[0m\u001b[0;34m,\u001b[0m \u001b[0mhandle\u001b[0m\u001b[0;34m,\u001b[0m \u001b[0mfeeds\u001b[0m\u001b[0;34m,\u001b[0m \u001b[0mfetches\u001b[0m\u001b[0;34m)\u001b[0m\u001b[0;34m\u001b[0m\u001b[0m\n",
      "\u001b[0;32m/usr/local/lib/python3.5/dist-packages/tensorflow/python/client/session.py\u001b[0m in \u001b[0;36m_do_call\u001b[0;34m(self, fn, *args)\u001b[0m\n\u001b[1;32m   1332\u001b[0m   \u001b[0;32mdef\u001b[0m \u001b[0m_do_call\u001b[0m\u001b[0;34m(\u001b[0m\u001b[0mself\u001b[0m\u001b[0;34m,\u001b[0m \u001b[0mfn\u001b[0m\u001b[0;34m,\u001b[0m \u001b[0;34m*\u001b[0m\u001b[0margs\u001b[0m\u001b[0;34m)\u001b[0m\u001b[0;34m:\u001b[0m\u001b[0;34m\u001b[0m\u001b[0m\n\u001b[1;32m   1333\u001b[0m     \u001b[0;32mtry\u001b[0m\u001b[0;34m:\u001b[0m\u001b[0;34m\u001b[0m\u001b[0m\n\u001b[0;32m-> 1334\u001b[0;31m       \u001b[0;32mreturn\u001b[0m \u001b[0mfn\u001b[0m\u001b[0;34m(\u001b[0m\u001b[0;34m*\u001b[0m\u001b[0margs\u001b[0m\u001b[0;34m)\u001b[0m\u001b[0;34m\u001b[0m\u001b[0m\n\u001b[0m\u001b[1;32m   1335\u001b[0m     \u001b[0;32mexcept\u001b[0m \u001b[0merrors\u001b[0m\u001b[0;34m.\u001b[0m\u001b[0mOpError\u001b[0m \u001b[0;32mas\u001b[0m \u001b[0me\u001b[0m\u001b[0;34m:\u001b[0m\u001b[0;34m\u001b[0m\u001b[0m\n\u001b[1;32m   1336\u001b[0m       \u001b[0mmessage\u001b[0m \u001b[0;34m=\u001b[0m \u001b[0mcompat\u001b[0m\u001b[0;34m.\u001b[0m\u001b[0mas_text\u001b[0m\u001b[0;34m(\u001b[0m\u001b[0me\u001b[0m\u001b[0;34m.\u001b[0m\u001b[0mmessage\u001b[0m\u001b[0;34m)\u001b[0m\u001b[0;34m\u001b[0m\u001b[0m\n",
      "\u001b[0;32m/usr/local/lib/python3.5/dist-packages/tensorflow/python/client/session.py\u001b[0m in \u001b[0;36m_run_fn\u001b[0;34m(feed_dict, fetch_list, target_list, options, run_metadata)\u001b[0m\n\u001b[1;32m   1317\u001b[0m       \u001b[0mself\u001b[0m\u001b[0;34m.\u001b[0m\u001b[0m_extend_graph\u001b[0m\u001b[0;34m(\u001b[0m\u001b[0;34m)\u001b[0m\u001b[0;34m\u001b[0m\u001b[0m\n\u001b[1;32m   1318\u001b[0m       return self._call_tf_sessionrun(\n\u001b[0;32m-> 1319\u001b[0;31m           options, feed_dict, fetch_list, target_list, run_metadata)\n\u001b[0m\u001b[1;32m   1320\u001b[0m \u001b[0;34m\u001b[0m\u001b[0m\n\u001b[1;32m   1321\u001b[0m     \u001b[0;32mdef\u001b[0m \u001b[0m_prun_fn\u001b[0m\u001b[0;34m(\u001b[0m\u001b[0mhandle\u001b[0m\u001b[0;34m,\u001b[0m \u001b[0mfeed_dict\u001b[0m\u001b[0;34m,\u001b[0m \u001b[0mfetch_list\u001b[0m\u001b[0;34m)\u001b[0m\u001b[0;34m:\u001b[0m\u001b[0;34m\u001b[0m\u001b[0m\n",
      "\u001b[0;32m/usr/local/lib/python3.5/dist-packages/tensorflow/python/client/session.py\u001b[0m in \u001b[0;36m_call_tf_sessionrun\u001b[0;34m(self, options, feed_dict, fetch_list, target_list, run_metadata)\u001b[0m\n\u001b[1;32m   1405\u001b[0m     return tf_session.TF_SessionRun_wrapper(\n\u001b[1;32m   1406\u001b[0m         \u001b[0mself\u001b[0m\u001b[0;34m.\u001b[0m\u001b[0m_session\u001b[0m\u001b[0;34m,\u001b[0m \u001b[0moptions\u001b[0m\u001b[0;34m,\u001b[0m \u001b[0mfeed_dict\u001b[0m\u001b[0;34m,\u001b[0m \u001b[0mfetch_list\u001b[0m\u001b[0;34m,\u001b[0m \u001b[0mtarget_list\u001b[0m\u001b[0;34m,\u001b[0m\u001b[0;34m\u001b[0m\u001b[0m\n\u001b[0;32m-> 1407\u001b[0;31m         run_metadata)\n\u001b[0m\u001b[1;32m   1408\u001b[0m \u001b[0;34m\u001b[0m\u001b[0m\n\u001b[1;32m   1409\u001b[0m   \u001b[0;32mdef\u001b[0m \u001b[0m_call_tf_sessionprun\u001b[0m\u001b[0;34m(\u001b[0m\u001b[0mself\u001b[0m\u001b[0;34m,\u001b[0m \u001b[0mhandle\u001b[0m\u001b[0;34m,\u001b[0m \u001b[0mfeed_dict\u001b[0m\u001b[0;34m,\u001b[0m \u001b[0mfetch_list\u001b[0m\u001b[0;34m)\u001b[0m\u001b[0;34m:\u001b[0m\u001b[0;34m\u001b[0m\u001b[0m\n",
      "\u001b[0;31mKeyboardInterrupt\u001b[0m: "
     ]
    }
   ],
   "source": [
    "for epoch in range(start_epoch, n_epochs):\n",
    "    _, loss = sess.run([gru.train_step, gru.loss],\n",
    "                         feed_dict=feed_dict)\n",
    "    gru_losses.append(loss)\n",
    "    gru_times.append(datetime.now())"
   ]
  },
  {
   "cell_type": "code",
   "execution_count": null,
   "metadata": {},
   "outputs": [],
   "source": []
  },
  {
   "cell_type": "code",
   "execution_count": 156,
   "metadata": {},
   "outputs": [],
   "source": [
    "topickle = {}"
   ]
  },
  {
   "cell_type": "code",
   "execution_count": 157,
   "metadata": {},
   "outputs": [],
   "source": [
    "topickle['O1:0'] = sess.run(gru.O1)\n",
    "topickle['O2:0'] = sess.run(gru.O2)\n",
    "topickle['O3:0'] = sess.run(gru.O3)\n",
    "topickle['O4:0'] = sess.run(gru.O4)\n",
    "topickle['bO1:0'] = sess.run(gru.bO1)\n",
    "topickle['bO2:0'] = sess.run(gru.bO2)\n",
    "topickle['bO3:0'] = sess.run(gru.bO3)\n",
    "topickle['bO4:0'] = sess.run(gru.bO4)\n",
    "topickle['M_O1V:0'] = sess.run(gru.M_O1V)\n",
    "topickle['M_O2V:0'] = sess.run(gru.M_O2V)\n",
    "topickle['M_O3V:0'] = sess.run(gru.M_O3V)\n",
    "topickle['M_O4V:0'] = sess.run(gru.M_O4V)\n",
    "topickle['Ir:0'] = sess.run(gru.Ir)\n",
    "topickle['Iu:0'] = sess.run(gru.Iu)\n",
    "topickle['Ie:0'] = sess.run(gru.Ie)\n",
    "topickle['Rr:0'] = sess.run(gru.Rr)\n",
    "topickle['Ru:0'] = sess.run(gru.Ru)\n",
    "topickle['Re:0'] = sess.run(gru.Re)\n",
    "topickle['M_IrV:0'] = sess.run(gru.M_IrV)\n",
    "topickle['M_IuV:0'] = sess.run(gru.M_IuV)\n",
    "topickle['M_IeV:0'] = sess.run(gru.M_IeV)\n",
    "topickle['M_RrV:0'] = sess.run(gru.M_RrV)\n",
    "topickle['M_RuV:0'] = sess.run(gru.M_RuV)\n",
    "topickle['M_ReV:0'] = sess.run(gru.M_ReV)\n",
    "topickle['br:0'] = sess.run(gru.br)\n",
    "topickle['bu:0'] = sess.run(gru.bu)\n",
    "topickle['be:0'] = sess.run(gru.be)"
   ]
  },
  {
   "cell_type": "code",
   "execution_count": 142,
   "metadata": {},
   "outputs": [],
   "source": [
    "import pickle"
   ]
  },
  {
   "cell_type": "code",
   "execution_count": 158,
   "metadata": {},
   "outputs": [],
   "source": [
    "with open(DIRS['MODELS']+model_name+'/model_params.pickle', 'wb') as f:\n",
    "    pickle.dump(topickle, f)"
   ]
  },
  {
   "cell_type": "code",
   "execution_count": null,
   "metadata": {},
   "outputs": [],
   "source": []
  },
  {
   "cell_type": "code",
   "execution_count": 159,
   "metadata": {},
   "outputs": [
    {
     "data": {
      "text/plain": [
       "<matplotlib.axes._subplots.AxesSubplot at 0x7fd41c422cc0>"
      ]
     },
     "execution_count": 159,
     "metadata": {},
     "output_type": "execute_result"
    },
    {
     "data": {
      "image/png": "[encoded data removed]",
      "text/plain": [
       "<Figure size 432x288 with 2 Axes>"
      ]
     },
     "metadata": {},
     "output_type": "display_data"
    }
   ],
   "source": [
    "sns.heatmap(gru.O1.eval(session=sess))"
   ]
  },
  {
   "cell_type": "code",
   "execution_count": null,
   "metadata": {},
   "outputs": [],
   "source": [
    "plt.plot(gru_losses)"
   ]
  },
  {
   "cell_type": "code",
   "execution_count": null,
   "metadata": {},
   "outputs": [],
   "source": [
    "saver.save(sess, DIRS['MODELS']+model_name+'/final_',write_meta_graph=True)"
   ]
  },
  {
   "cell_type": "code",
   "execution_count": null,
   "metadata": {
    "scrolled": false
   },
   "outputs": [],
   "source": [
    "gener_audio = gru.generate_audio(txt_emb, sess, seconds=1, show_tqdm=True)"
   ]
  },
  {
   "cell_type": "code",
   "execution_count": null,
   "metadata": {},
   "outputs": [],
   "source": [
    "audio_real = audio*128+128\n",
    "audio_real = audio_real[:,0]*256+audio_real[:,1]"
   ]
  },
  {
   "cell_type": "code",
   "execution_count": null,
   "metadata": {},
   "outputs": [],
   "source": [
    "t"
   ]
  },
  {
   "cell_type": "code",
   "execution_count": null,
   "metadata": {},
   "outputs": [],
   "source": [
    "plt.plot(audio_real)"
   ]
  },
  {
   "cell_type": "code",
   "execution_count": null,
   "metadata": {},
   "outputs": [],
   "source": [
    "gener_audio"
   ]
  },
  {
   "cell_type": "code",
   "execution_count": null,
   "metadata": {},
   "outputs": [],
   "source": [
    "plt.plot(gener_audio)"
   ]
  },
  {
   "cell_type": "code",
   "execution_count": null,
   "metadata": {},
   "outputs": [],
   "source": [
    "h_t = np.zeros((gru.n_batches, gru.hidden_size), dtype='float32')\n",
    "x = np.zeros((gru.n_batches, 1, gru.input_dim), dtype='float32')"
   ]
  },
  {
   "cell_type": "code",
   "execution_count": null,
   "metadata": {},
   "outputs": [],
   "source": [
    "x = audio_resh[:,0].reshape(gru.n_batches, 1, gru.input_dim-1)"
   ]
  },
  {
   "cell_type": "code",
   "execution_count": null,
   "metadata": {},
   "outputs": [],
   "source": [
    "c = x[:,:,0]\n",
    "c_shift = np.hstack([c, [[0]]*gru.n_batches])[:,1:]\n",
    "c_shift = c_shift.reshape(gru.n_batches,-1,1)\n",
    "x = np.concatenate([x, c_shift],2)"
   ]
  },
  {
   "cell_type": "code",
   "execution_count": null,
   "metadata": {},
   "outputs": [],
   "source": [
    "xs = [x[:,:,:2]]"
   ]
  },
  {
   "cell_type": "code",
   "execution_count": null,
   "metadata": {},
   "outputs": [],
   "source": [
    "n_iters = 10"
   ]
  },
  {
   "cell_type": "code",
   "execution_count": null,
   "metadata": {},
   "outputs": [],
   "source": [
    "feed_dict={gru.sound_X:x, gru.h_0:h_t, gru.txt_embed_plh:txt_emb}"
   ]
  },
  {
   "cell_type": "code",
   "execution_count": null,
   "metadata": {},
   "outputs": [],
   "source": [
    "c_t = sess.run(gru.c_t, feed_dict=feed_dict)"
   ]
  },
  {
   "cell_type": "code",
   "execution_count": null,
   "metadata": {},
   "outputs": [],
   "source": [
    "c_t"
   ]
  },
  {
   "cell_type": "code",
   "execution_count": null,
   "metadata": {},
   "outputs": [],
   "source": [
    "\n",
    "#for i in tqdm_notebook(range(n_iters), disable=not show_tqdm):\n",
    "    c_t = session.run(self.c_t, feed_dict=feed_dict)\n",
    "    x[:,0,2] = c_t[:,0,0]\n",
    "    feed_dict={self.sound_X:x, self.h_0:h_t, self.txt_embed_plh:txt_emb}\n",
    "    x, h_t = session.run([self.y, self.h_t_trans], feed_dict=feed_dict) \n",
    "    x = np.concatenate([x,np.zeros((self.n_batches,1,1))],2)\n",
    "    h_t = h_t[0] #[1,n_batches,hidden_size] -> [n_batches, hidden_size]\n",
    "    xs.append(x[:,:,:2])"
   ]
  },
  {
   "cell_type": "code",
   "execution_count": null,
   "metadata": {},
   "outputs": [],
   "source": []
  },
  {
   "cell_type": "code",
   "execution_count": null,
   "metadata": {},
   "outputs": [],
   "source": []
  },
  {
   "cell_type": "code",
   "execution_count": null,
   "metadata": {},
   "outputs": [],
   "source": []
  },
  {
   "cell_type": "code",
   "execution_count": null,
   "metadata": {},
   "outputs": [],
   "source": []
  },
  {
   "cell_type": "code",
   "execution_count": null,
   "metadata": {},
   "outputs": [],
   "source": []
  }
 ],
 "metadata": {
  "kernelspec": {
   "display_name": "Python 3",
   "language": "python",
   "name": "python3"
  },
  "language_info": {
   "codemirror_mode": {
    "name": "ipython",
    "version": 3
   },
   "file_extension": ".py",
   "mimetype": "text/x-python",
   "name": "python",
   "nbconvert_exporter": "python",
   "pygments_lexer": "ipython3",
   "version": "3.5.2"
  }
 },
 "nbformat": 4,
 "nbformat_minor": 2
}
