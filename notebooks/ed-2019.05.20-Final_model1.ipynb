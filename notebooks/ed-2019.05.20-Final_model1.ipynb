{
 "cells": [
  {
   "cell_type": "code",
   "execution_count": 1,
   "metadata": {},
   "outputs": [],
   "source": [
    "import sys\n",
    "import os\n",
    "\n",
    "import numpy as np\n",
    "from numpy import random\n",
    "import pandas as pd\n",
    "import tensorflow as tf\n",
    "from pathlib import Path\n",
    "import matplotlib.pyplot as plt\n",
    "import seaborn as sns\n",
    "\n",
    "from IPython import display\n",
    "%matplotlib inline\n",
    "from tqdm import tqdm_notebook\n",
    "\n",
    "PARENT_DIR = os.path.realpath('..')\n",
    "import importlib\n",
    "if PARENT_DIR not in sys.path:\n",
    "    sys.path.append(PARENT_DIR)\n",
    "\n",
    "try: importlib.reload(sl)\n",
    "except: import synt_lib as sl"
   ]
  },
  {
   "cell_type": "code",
   "execution_count": 2,
   "metadata": {},
   "outputs": [],
   "source": [
    "DIRS = sl.get_dirs(parent_dir=PARENT_DIR)\n",
    "M_PARAMS = sl.get_model_params()"
   ]
  },
  {
   "cell_type": "code",
   "execution_count": 3,
   "metadata": {},
   "outputs": [],
   "source": [
    "DIRS['RAW_DATA'] = '/data/dudyrev/Speach_Synthesizer/raw_data/'"
   ]
  },
  {
   "cell_type": "code",
   "execution_count": 4,
   "metadata": {},
   "outputs": [],
   "source": [
    "quant = M_PARAMS['QUANTIZATION_CHANNELS']\n",
    "nbits = int(np.log2(quant))"
   ]
  },
  {
   "cell_type": "markdown",
   "metadata": {},
   "source": [
    "# Build model"
   ]
  },
  {
   "cell_type": "markdown",
   "metadata": {},
   "source": [
    "# Get Data"
   ]
  },
  {
   "cell_type": "markdown",
   "metadata": {},
   "source": [
    "Всего файлов:\n",
    "* Обучение (cv-valid-train): 391552\n",
    "* cv-valid-dev: 8152\n",
    "* cv-valid-test: 7990"
   ]
  },
  {
   "cell_type": "code",
   "execution_count": 5,
   "metadata": {},
   "outputs": [
    {
     "name": "stderr",
     "output_type": "stream",
     "text": [
      "/opt/anaconda/lib/python3.6/site-packages/IPython/core/interactiveshell.py:2728: DtypeWarning: Columns (1,2,3) have mixed types. Specify dtype option on import or set low_memory=False.\n",
      "  interactivity=interactivity, compiler=compiler, result=result)\n",
      "/opt/anaconda/lib/python3.6/site-packages/numpy/lib/arraysetops.py:522: FutureWarning: elementwise comparison failed; returning scalar instead, but in the future will perform elementwise comparison\n",
      "  mask |= (ar1 == a)\n"
     ]
    }
   ],
   "source": [
    "full_ds = pd.read_csv(DIRS['MANIFESTS']+'/total.csv',index_col=0)"
   ]
  },
  {
   "cell_type": "code",
   "execution_count": 6,
   "metadata": {},
   "outputs": [],
   "source": [
    "full_ds['wav_exist'] = full_ds['wav'].apply(lambda f: os.path.isfile(f) if type(f)==str else False)\n",
    "full_ds['txt_exist'] = full_ds['txt'].apply(lambda f: os.path.isfile(f) if type(f)==str else False)"
   ]
  },
  {
   "cell_type": "code",
   "execution_count": 7,
   "metadata": {},
   "outputs": [],
   "source": [
    "to_train_ds = full_ds[(full_ds['wav_exist'])&(full_ds['txt_exist'])]"
   ]
  },
  {
   "cell_type": "code",
   "execution_count": 8,
   "metadata": {},
   "outputs": [
    {
     "data": {
      "text/plain": [
       "((1149404, 6), 0.16965730789594527)"
      ]
     },
     "execution_count": 8,
     "metadata": {},
     "output_type": "execute_result"
    }
   ],
   "source": [
    "to_train_ds.shape, to_train_ds.shape[0]/full_ds.shape[0]"
   ]
  },
  {
   "cell_type": "code",
   "execution_count": 9,
   "metadata": {},
   "outputs": [
    {
     "data": {
      "text/plain": [
       "((1149404, 6), 0.16965730789594527)"
      ]
     },
     "execution_count": 9,
     "metadata": {},
     "output_type": "execute_result"
    }
   ],
   "source": [
    "to_train_ds.shape, to_train_ds.shape[0]/full_ds.shape[0]"
   ]
  },
  {
   "cell_type": "code",
   "execution_count": 10,
   "metadata": {},
   "outputs": [
    {
     "data": {
      "application/vnd.jupyter.widget-view+json": {
       "model_id": "de96b533aafb4de4b2912ad736854477",
       "version_major": 2,
       "version_minor": 0
      },
      "text/html": [
       "<p>Failed to display Jupyter Widget of type <code>HBox</code>.</p>\n",
       "<p>\n",
       "  If you're reading this message in the Jupyter Notebook or JupyterLab Notebook, it may mean\n",
       "  that the widgets JavaScript is still loading. If this message persists, it\n",
       "  likely means that the widgets JavaScript library is either not installed or\n",
       "  not enabled. See the <a href=\"https://ipywidgets.readthedocs.io/en/stable/user_install.html\">Jupyter\n",
       "  Widgets Documentation</a> for setup instructions.\n",
       "</p>\n",
       "<p>\n",
       "  If you're reading this message in another frontend (for example, a static\n",
       "  rendering on GitHub or <a href=\"https://nbviewer.jupyter.org/\">NBViewer</a>),\n",
       "  it may mean that your frontend doesn't currently support widgets.\n",
       "</p>\n"
      ],
      "text/plain": [
       "HBox(children=(IntProgress(value=0, max=1149404), HTML(value='')))"
      ]
     },
     "metadata": {},
     "output_type": "display_data"
    },
    {
     "name": "stdout",
     "output_type": "stream",
     "text": [
      "\n"
     ]
    }
   ],
   "source": [
    "texts = []\n",
    "n_files_to_load = int(to_train_ds.shape[0]*1)#0.1)\n",
    "for idx, fname in tqdm_notebook(to_train_ds[:n_files_to_load]['txt'].iteritems(),total=n_files_to_load):\n",
    "    with open(fname, 'rb') as f:\n",
    "        t = f.read().decode().strip()\n",
    "    texts.append(t)"
   ]
  },
  {
   "cell_type": "code",
   "execution_count": 11,
   "metadata": {},
   "outputs": [],
   "source": [
    "txt_lens = [len(t) for t in texts]"
   ]
  },
  {
   "cell_type": "code",
   "execution_count": 12,
   "metadata": {},
   "outputs": [
    {
     "data": {
      "text/plain": [
       "<matplotlib.axes._subplots.AxesSubplot at 0x7fd9f6b44160>"
      ]
     },
     "execution_count": 12,
     "metadata": {},
     "output_type": "execute_result"
    },
    {
     "data": {
      "image/png": "[encoded data removed]",
      "text/plain": [
       "<Figure size 432x288 with 1 Axes>"
      ]
     },
     "metadata": {},
     "output_type": "display_data"
    }
   ],
   "source": [
    "sns.distplot(txt_lens)"
   ]
  },
  {
   "cell_type": "code",
   "execution_count": 14,
   "metadata": {},
   "outputs": [
    {
     "data": {
      "text/plain": [
       "0.8750395857331278"
      ]
     },
     "execution_count": 14,
     "metadata": {},
     "output_type": "execute_result"
    }
   ],
   "source": [
    "(np.array(txt_lens)<100).mean()"
   ]
  },
  {
   "cell_type": "code",
   "execution_count": 13,
   "metadata": {},
   "outputs": [
    {
     "data": {
      "text/plain": [
       "0.797410658045387"
      ]
     },
     "execution_count": 13,
     "metadata": {},
     "output_type": "execute_result"
    }
   ],
   "source": [
    "(np.array(txt_lens)<80).mean()"
   ]
  },
  {
   "cell_type": "markdown",
   "metadata": {},
   "source": [
    "# Develop models"
   ]
  },
  {
   "cell_type": "markdown",
   "metadata": {},
   "source": [
    "## DocToVec"
   ]
  },
  {
   "cell_type": "code",
   "execution_count": 15,
   "metadata": {},
   "outputs": [],
   "source": [
    "import gensim"
   ]
  },
  {
   "cell_type": "code",
   "execution_count": 16,
   "metadata": {},
   "outputs": [],
   "source": [
    "def create_tagged_document(list_of_list_of_words):\n",
    "    for i, list_of_words in enumerate(list_of_list_of_words):\n",
    "        yield gensim.models.doc2vec.TaggedDocument(list_of_words, [i])"
   ]
  },
  {
   "cell_type": "code",
   "execution_count": 17,
   "metadata": {},
   "outputs": [],
   "source": [
    "texts_split = [t.split() for t in texts]"
   ]
  },
  {
   "cell_type": "code",
   "execution_count": 18,
   "metadata": {},
   "outputs": [
    {
     "name": "stdout",
     "output_type": "stream",
     "text": [
      "TaggedDocument(['умрешь', 'от', 'голода'], [0])\n"
     ]
    }
   ],
   "source": [
    "train_data = list(create_tagged_document(texts_split))\n",
    "print(train_data[0])"
   ]
  },
  {
   "cell_type": "raw",
   "metadata": {},
   "source": [
    "%%time\n",
    "doc2vec = gensim.models.doc2vec.Doc2Vec(vector_size=61, min_count=2, epochs=1000)\n",
    "doc2vec.build_vocab(train_data)\n",
    "doc2vec.train(train_data, total_examples=doc2vec.corpus_count, epochs=doc2vec.epochs)"
   ]
  },
  {
   "cell_type": "raw",
   "metadata": {},
   "source": [
    "check = np.vstack([doc2vec.infer_vector(v) for v in texts_split[:10]])"
   ]
  },
  {
   "cell_type": "raw",
   "metadata": {},
   "source": [
    "with open(DIRS['RAW_DATA']+'doc2vec0', 'wb') as f:\n",
    "    doc2vec.save(f)"
   ]
  },
  {
   "cell_type": "raw",
   "metadata": {},
   "source": [
    "plot_texts = [\"мы вышли из дома\", \"мы зашли в дом\", \"на марсе классно\"]"
   ]
  },
  {
   "cell_type": "raw",
   "metadata": {},
   "source": [
    "plt.figure(figsize=(25,10))\n",
    "for t in plot_texts:\n",
    "    plt.plot(doc2vec.infer_vector(t.split()), label=t)\n",
    "plt.legend()\n",
    "plt.show()"
   ]
  },
  {
   "cell_type": "markdown",
   "metadata": {},
   "source": [
    "## WaveGRU"
   ]
  },
  {
   "cell_type": "code",
   "execution_count": 80,
   "metadata": {},
   "outputs": [],
   "source": [
    "import DWave4\n",
    "DWave4 = importlib.reload(DWave4)"
   ]
  },
  {
   "cell_type": "code",
   "execution_count": 81,
   "metadata": {},
   "outputs": [],
   "source": [
    "vars_to_restore = ['M_IrV','M_IuV','M_IeV', 'Ir','Iu','Ie',\n",
    " 'Rr','Ru','Re','M_RrV','M_RuV','M_ReV',\n",
    " 'O1','O2','O3','O4','M_O1V','M_O2V','M_O3V','M_O4V',\n",
    " 'br','bu','be','bO1','bO2','bO3','bO4',\n",
    " ]\n",
    "vars_to_restore = [x+':0' for x in vars_to_restore]"
   ]
  },
  {
   "cell_type": "code",
   "execution_count": 82,
   "metadata": {},
   "outputs": [],
   "source": [
    "model_name = \"final1_256\""
   ]
  },
  {
   "cell_type": "code",
   "execution_count": 83,
   "metadata": {},
   "outputs": [],
   "source": [
    "#saver = tf.train.import_meta_graph(DIRS['MODELS']+model_name+'/final.meta')\n",
    "#saver = tf.train.import_meta_graph(DIRS['MODELS']+model_name+'/checkpoint-4000.meta')\n",
    "#saver.restore(sess,tf.train.latest_checkpoint(DIRS['MODELS']+model_name))\n",
    "#restored_variables = {x.name:x.eval(session=sess) for x in tf.global_variables() if x.name in WaveGRU.vars_to_restore}\n",
    "restored_variables=None\n",
    "tf.reset_default_graph()\n",
    "sess = tf.Session()\n",
    "gru = DWave4.WaveGRU(3, 64, n_batches=1, restore_variables=restored_variables, hidden_size=256)\n",
    "sess.run(tf.global_variables_initializer())"
   ]
  },
  {
   "cell_type": "code",
   "execution_count": 84,
   "metadata": {},
   "outputs": [],
   "source": [
    "saver = tf.train.Saver()"
   ]
  },
  {
   "cell_type": "code",
   "execution_count": 85,
   "metadata": {},
   "outputs": [],
   "source": [
    "from datetime import datetime"
   ]
  },
  {
   "cell_type": "code",
   "execution_count": 86,
   "metadata": {},
   "outputs": [],
   "source": [
    "wav_fnames = list(to_train_ds['wav'])\n",
    "text_fnames = list(to_train_ds['txt'])"
   ]
  },
  {
   "cell_type": "code",
   "execution_count": 88,
   "metadata": {},
   "outputs": [],
   "source": [
    "save_period = 500"
   ]
  },
  {
   "cell_type": "code",
   "execution_count": 89,
   "metadata": {},
   "outputs": [],
   "source": [
    "from datetime import datetime"
   ]
  },
  {
   "cell_type": "code",
   "execution_count": 90,
   "metadata": {},
   "outputs": [],
   "source": [
    "log_fname = DIRS['NOTEBOOKS']+'logger'"
   ]
  },
  {
   "cell_type": "code",
   "execution_count": 91,
   "metadata": {},
   "outputs": [],
   "source": [
    "start_epoch  = 0\n",
    "gru_losses = []\n",
    "start_learn = datetime.now()"
   ]
  },
  {
   "cell_type": "code",
   "execution_count": 92,
   "metadata": {},
   "outputs": [
    {
     "data": {
      "text/plain": [
       "1149404"
      ]
     },
     "execution_count": 92,
     "metadata": {},
     "output_type": "execute_result"
    }
   ],
   "source": [
    "len(texts)"
   ]
  },
  {
   "cell_type": "code",
   "execution_count": 93,
   "metadata": {},
   "outputs": [
    {
     "data": {
      "text/plain": [
       "'умрешь от голода'"
      ]
     },
     "execution_count": 93,
     "metadata": {},
     "output_type": "execute_result"
    }
   ],
   "source": [
    "t = texts[0]\n",
    "t"
   ]
  },
  {
   "cell_type": "raw",
   "metadata": {},
   "source": [
    "%timeit doc2vec.infer_vector(t.split())"
   ]
  },
  {
   "cell_type": "raw",
   "metadata": {},
   "source": [
    "%time\n",
    "inferred_texts = [doc2vec.infer_vector(t.split()) for t in texts[:10]]"
   ]
  },
  {
   "cell_type": "code",
   "execution_count": 95,
   "metadata": {},
   "outputs": [],
   "source": [
    "n_epochs = min(len(wav_fnames), 250000)\n",
    "#inferred_texts = [doc2vec.infer_vector(t.split()) for t in texts[:n_epochs]]\n",
    "sparsity_epochs = np.arange(1000, n_epochs, 500)\n",
    "#sparsity_epochs = (np.linspace(0.50, 0.95, 20)*n_epochs).astype(int)"
   ]
  },
  {
   "cell_type": "code",
   "execution_count": 96,
   "metadata": {},
   "outputs": [
    {
     "data": {
      "text/plain": [
       "498"
      ]
     },
     "execution_count": 96,
     "metadata": {},
     "output_type": "execute_result"
    }
   ],
   "source": [
    "len(sparsity_epochs)"
   ]
  },
  {
   "cell_type": "code",
   "execution_count": 102,
   "metadata": {},
   "outputs": [
    {
     "data": {
      "text/plain": [
       "0.9921875"
      ]
     },
     "execution_count": 102,
     "metadata": {},
     "output_type": "execute_result"
    }
   ],
   "source": [
    "(255-128)/128"
   ]
  },
  {
   "cell_type": "code",
   "execution_count": 104,
   "metadata": {},
   "outputs": [],
   "source": [
    "max_val = (255-128)/128"
   ]
  },
  {
   "cell_type": "code",
   "execution_count": 110,
   "metadata": {},
   "outputs": [
    {
     "name": "stdout",
     "output_type": "stream",
     "text": [
      "CPU times: user 31 s, sys: 0 ns, total: 31 s\n",
      "Wall time: 30.9 s\n"
     ]
    }
   ],
   "source": [
    "%%time\n",
    "audios = [sess.run(sl.load_data([wav_fnames[i]]))[0] for i in range(100)]"
   ]
  },
  {
   "cell_type": "code",
   "execution_count": 113,
   "metadata": {},
   "outputs": [],
   "source": [
    "audios = [np.concatenate([audio, [[max_val,max_val]]*(2*gru.n_batches-audio.shape[0]%gru.n_batches)]) for audio in audios]\n",
    "audios = [np.concatenate([[[-1,-1]]*gru.n_batches,audio]) for audio in audios]\n",
    "audios = [audio.reshape((gru.n_batches, -1, gru.input_dim-1)) for audio in audios]"
   ]
  },
  {
   "cell_type": "code",
   "execution_count": 153,
   "metadata": {},
   "outputs": [],
   "source": [
    "start_epoch = epoch"
   ]
  },
  {
   "cell_type": "code",
   "execution_count": null,
   "metadata": {
    "scrolled": false
   },
   "outputs": [
    {
     "data": {
      "application/vnd.jupyter.widget-view+json": {
       "model_id": "161e5f902b974a9e8ad1baf3add282c8",
       "version_major": 2,
       "version_minor": 0
      },
      "text/html": [
       "<p>Failed to display Jupyter Widget of type <code>HBox</code>.</p>\n",
       "<p>\n",
       "  If you're reading this message in the Jupyter Notebook or JupyterLab Notebook, it may mean\n",
       "  that the widgets JavaScript is still loading. If this message persists, it\n",
       "  likely means that the widgets JavaScript library is either not installed or\n",
       "  not enabled. See the <a href=\"https://ipywidgets.readthedocs.io/en/stable/user_install.html\">Jupyter\n",
       "  Widgets Documentation</a> for setup instructions.\n",
       "</p>\n",
       "<p>\n",
       "  If you're reading this message in another frontend (for example, a static\n",
       "  rendering on GitHub or <a href=\"https://nbviewer.jupyter.org/\">NBViewer</a>),\n",
       "  it may mean that your frontend doesn't currently support widgets.\n",
       "</p>\n"
      ],
      "text/plain": [
       "HBox(children=(IntProgress(value=0, max=241349), HTML(value='')))"
      ]
     },
     "metadata": {},
     "output_type": "display_data"
    }
   ],
   "source": [
    "sparsity_lvl = 0.9\n",
    "for epoch in tqdm_notebook(range(start_epoch, n_epochs)):\n",
    "    #with open(text_fnames[epoch], 'rb') as f:\n",
    "    #    t = f.read().decode().strip()\n",
    "    #t = texts[epoch]\n",
    "    #if len(t)>100:\n",
    "    #    continue\n",
    "    #txt_emb = txtConv.embed(t, sess)\n",
    "    #txt_emb = doc2vec.infer_vector(t).reshape(1,-1)\n",
    "    txt_emb = np.zeros((1,61))\n",
    "    \n",
    "    #audio = sess.run(sl.load_data([wav_fnames[epoch]]))[0]\n",
    "    #audio = np.concatenate([audio, [[max_val,max_val]]*(2*gru.n_batches-audio.shape[0]%gru.n_batches)])\n",
    "    #audio = np.concatenate([[[-1,-1]]*gru.n_batches,audio])\n",
    "    #audio_resh = audio.reshape((gru.n_batches, -1, gru.input_dim-1))\n",
    "    audio_resh = audios[epoch%len(audios)]\n",
    "    \n",
    "    if epoch in sparsity_epochs:\n",
    "        k = gru.calc_sparsity_level(epoch, sparsity_epochs, sparsity_lvl)\n",
    "        gru.sparsify(k, sess)\n",
    "        print(f'sparsified by {k}')\n",
    "    \n",
    "    loss = gru.train(audio_resh, txt_emb, sess)\n",
    "    gru_losses.append(loss)\n",
    "    \n",
    "    if epoch % 500==0:\n",
    "        tm = datetime.now()\n",
    "        with open(log_fname, 'a') as f:\n",
    "            f.write(f'{model_name} {epoch} {loss:.5f} {(tm-start_learn).seconds} {((tm-start_learn).seconds)/(epoch-start_epoch) if epoch-start_epoch>0 else 0}\\n')\n",
    "        print(f'epoch {epoch} loss {loss}')\n",
    "\n",
    "        print('time',tm, 'time from start',tm-start_learn, 'per_iteration', (tm-start_learn)/epoch if epoch!=0 else 0)\n",
    "    \n",
    "    if epoch % save_period == 0:\n",
    "        saver.save(sess, DIRS['MODELS']+model_name+'/checkpoint',global_step=epoch,write_meta_graph=True)"
   ]
  },
  {
   "cell_type": "code",
   "execution_count": 156,
   "metadata": {},
   "outputs": [],
   "source": [
    "topickle = {}"
   ]
  },
  {
   "cell_type": "code",
   "execution_count": 157,
   "metadata": {},
   "outputs": [],
   "source": [
    "topickle['O1:0'] = sess.run(gru.O1)\n",
    "topickle['O2:0'] = sess.run(gru.O2)\n",
    "topickle['O3:0'] = sess.run(gru.O3)\n",
    "topickle['O4:0'] = sess.run(gru.O4)\n",
    "topickle['bO1:0'] = sess.run(gru.bO1)\n",
    "topickle['bO2:0'] = sess.run(gru.bO2)\n",
    "topickle['bO3:0'] = sess.run(gru.bO3)\n",
    "topickle['bO4:0'] = sess.run(gru.bO4)\n",
    "topickle['M_O1V:0'] = sess.run(gru.M_O1V)\n",
    "topickle['M_O2V:0'] = sess.run(gru.M_O2V)\n",
    "topickle['M_O3V:0'] = sess.run(gru.M_O3V)\n",
    "topickle['M_O4V:0'] = sess.run(gru.M_O4V)\n",
    "topickle['Ir:0'] = sess.run(gru.Ir)\n",
    "topickle['Iu:0'] = sess.run(gru.Iu)\n",
    "topickle['Ie:0'] = sess.run(gru.Ie)\n",
    "topickle['Rr:0'] = sess.run(gru.Rr)\n",
    "topickle['Ru:0'] = sess.run(gru.Ru)\n",
    "topickle['Re:0'] = sess.run(gru.Re)\n",
    "topickle['M_IrV:0'] = sess.run(gru.M_IrV)\n",
    "topickle['M_IuV:0'] = sess.run(gru.M_IuV)\n",
    "topickle['M_IeV:0'] = sess.run(gru.M_IeV)\n",
    "topickle['M_RrV:0'] = sess.run(gru.M_RrV)\n",
    "topickle['M_RuV:0'] = sess.run(gru.M_RuV)\n",
    "topickle['M_ReV:0'] = sess.run(gru.M_ReV)\n",
    "topickle['br:0'] = sess.run(gru.br)\n",
    "topickle['bu:0'] = sess.run(gru.bu)\n",
    "topickle['be:0'] = sess.run(gru.be)"
   ]
  },
  {
   "cell_type": "code",
   "execution_count": 142,
   "metadata": {},
   "outputs": [],
   "source": [
    "import pickle"
   ]
  },
  {
   "cell_type": "code",
   "execution_count": 158,
   "metadata": {},
   "outputs": [],
   "source": [
    "with open(DIRS['MODELS']+model_name+'/model_params.pickle', 'wb') as f:\n",
    "    pickle.dump(topickle, f)"
   ]
  },
  {
   "cell_type": "code",
   "execution_count": null,
   "metadata": {},
   "outputs": [],
   "source": []
  },
  {
   "cell_type": "code",
   "execution_count": 159,
   "metadata": {},
   "outputs": [
    {
     "data": {
      "text/plain": [
       "<matplotlib.axes._subplots.AxesSubplot at 0x7fd41c422cc0>"
      ]
     },
     "execution_count": 159,
     "metadata": {},
     "output_type": "execute_result"
    },
    {
     "data": {
      "image/png": "[encoded data removed]",
      "text/plain": [
       "<Figure size 432x288 with 2 Axes>"
      ]
     },
     "metadata": {},
     "output_type": "display_data"
    }
   ],
   "source": [
    "sns.heatmap(gru.O1.eval(session=sess))"
   ]
  },
  {
   "cell_type": "code",
   "execution_count": null,
   "metadata": {},
   "outputs": [],
   "source": [
    "plt.plot(gru_losses)"
   ]
  },
  {
   "cell_type": "code",
   "execution_count": null,
   "metadata": {},
   "outputs": [],
   "source": [
    "saver.save(sess, DIRS['MODELS']+model_name+'/final_',write_meta_graph=True)"
   ]
  },
  {
   "cell_type": "code",
   "execution_count": null,
   "metadata": {
    "scrolled": false
   },
   "outputs": [],
   "source": [
    "gener_audio = gru.generate_audio(txt_emb, sess, seconds=1, show_tqdm=True)"
   ]
  },
  {
   "cell_type": "code",
   "execution_count": null,
   "metadata": {},
   "outputs": [],
   "source": [
    "audio_real = audio*128+128\n",
    "audio_real = audio_real[:,0]*256+audio_real[:,1]"
   ]
  },
  {
   "cell_type": "code",
   "execution_count": null,
   "metadata": {},
   "outputs": [],
   "source": [
    "t"
   ]
  },
  {
   "cell_type": "code",
   "execution_count": null,
   "metadata": {},
   "outputs": [],
   "source": [
    "plt.plot(audio_real)"
   ]
  },
  {
   "cell_type": "code",
   "execution_count": null,
   "metadata": {},
   "outputs": [],
   "source": [
    "gener_audio"
   ]
  },
  {
   "cell_type": "code",
   "execution_count": null,
   "metadata": {},
   "outputs": [],
   "source": [
    "plt.plot(gener_audio)"
   ]
  },
  {
   "cell_type": "code",
   "execution_count": null,
   "metadata": {},
   "outputs": [],
   "source": [
    "h_t = np.zeros((gru.n_batches, gru.hidden_size), dtype='float32')\n",
    "x = np.zeros((gru.n_batches, 1, gru.input_dim), dtype='float32')"
   ]
  },
  {
   "cell_type": "code",
   "execution_count": null,
   "metadata": {},
   "outputs": [],
   "source": [
    "x = audio_resh[:,0].reshape(gru.n_batches, 1, gru.input_dim-1)"
   ]
  },
  {
   "cell_type": "code",
   "execution_count": null,
   "metadata": {},
   "outputs": [],
   "source": [
    "c = x[:,:,0]\n",
    "c_shift = np.hstack([c, [[0]]*gru.n_batches])[:,1:]\n",
    "c_shift = c_shift.reshape(gru.n_batches,-1,1)\n",
    "x = np.concatenate([x, c_shift],2)"
   ]
  },
  {
   "cell_type": "code",
   "execution_count": null,
   "metadata": {},
   "outputs": [],
   "source": [
    "xs = [x[:,:,:2]]"
   ]
  },
  {
   "cell_type": "code",
   "execution_count": null,
   "metadata": {},
   "outputs": [],
   "source": [
    "n_iters = 10"
   ]
  },
  {
   "cell_type": "code",
   "execution_count": null,
   "metadata": {},
   "outputs": [],
   "source": [
    "feed_dict={gru.sound_X:x, gru.h_0:h_t, gru.txt_embed_plh:txt_emb}"
   ]
  },
  {
   "cell_type": "code",
   "execution_count": null,
   "metadata": {},
   "outputs": [],
   "source": [
    "c_t = sess.run(gru.c_t, feed_dict=feed_dict)"
   ]
  },
  {
   "cell_type": "code",
   "execution_count": null,
   "metadata": {},
   "outputs": [],
   "source": [
    "c_t"
   ]
  },
  {
   "cell_type": "code",
   "execution_count": null,
   "metadata": {},
   "outputs": [],
   "source": [
    "\n",
    "#for i in tqdm_notebook(range(n_iters), disable=not show_tqdm):\n",
    "    c_t = session.run(self.c_t, feed_dict=feed_dict)\n",
    "    x[:,0,2] = c_t[:,0,0]\n",
    "    feed_dict={self.sound_X:x, self.h_0:h_t, self.txt_embed_plh:txt_emb}\n",
    "    x, h_t = session.run([self.y, self.h_t_trans], feed_dict=feed_dict) \n",
    "    x = np.concatenate([x,np.zeros((self.n_batches,1,1))],2)\n",
    "    h_t = h_t[0] #[1,n_batches,hidden_size] -> [n_batches, hidden_size]\n",
    "    xs.append(x[:,:,:2])"
   ]
  },
  {
   "cell_type": "code",
   "execution_count": null,
   "metadata": {},
   "outputs": [],
   "source": []
  },
  {
   "cell_type": "code",
   "execution_count": null,
   "metadata": {},
   "outputs": [],
   "source": []
  },
  {
   "cell_type": "code",
   "execution_count": null,
   "metadata": {},
   "outputs": [],
   "source": []
  },
  {
   "cell_type": "code",
   "execution_count": null,
   "metadata": {},
   "outputs": [],
   "source": []
  },
  {
   "cell_type": "code",
   "execution_count": null,
   "metadata": {},
   "outputs": [],
   "source": []
  }
 ],
 "metadata": {
  "kernelspec": {
   "display_name": "Python 3",
   "language": "python",
   "name": "python3"
  },
  "language_info": {
   "codemirror_mode": {
    "name": "ipython",
    "version": 3
   },
   "file_extension": ".py",
   "mimetype": "text/x-python",
   "name": "python",
   "nbconvert_exporter": "python",
   "pygments_lexer": "ipython3",
   "version": "3.6.4"
  }
 },
 "nbformat": 4,
 "nbformat_minor": 2
}
