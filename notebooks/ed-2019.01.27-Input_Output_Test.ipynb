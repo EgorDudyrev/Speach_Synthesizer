{
 "cells": [
  {
   "cell_type": "code",
   "execution_count": 1,
   "metadata": {},
   "outputs": [],
   "source": [
    "import os\n",
    "import sys\n",
    "import importlib\n",
    "sys.path.append('/opt/notebooks/')\n",
    "\n",
    "try: importlib.reload(sl)\n",
    "except: import synt_lib as sl\n",
    "    \n",
    "import numpy as np"
   ]
  },
  {
   "cell_type": "code",
   "execution_count": 2,
   "metadata": {},
   "outputs": [],
   "source": [
    "DIRS = sl.get_dirs()\n",
    "M_PARAMS = sl.get_model_params()"
   ]
  },
  {
   "cell_type": "markdown",
   "metadata": {},
   "source": [
    "# Получение .wav файлов"
   ]
  },
  {
   "cell_type": "markdown",
   "metadata": {},
   "source": [
    ".wav файлы"
   ]
  },
  {
   "cell_type": "code",
   "execution_count": 3,
   "metadata": {},
   "outputs": [
    {
     "data": {
      "text/plain": [
       "[]"
      ]
     },
     "execution_count": 3,
     "metadata": {},
     "output_type": "execute_result"
    }
   ],
   "source": [
    "[x for x in os.listdir(DIRS['SONGS'])[:5] if x.endswith('.wav')]"
   ]
  },
  {
   "cell_type": "markdown",
   "metadata": {},
   "source": [
    ".mp3 файлы"
   ]
  },
  {
   "cell_type": "code",
   "execution_count": 4,
   "metadata": {},
   "outputs": [
    {
     "data": {
      "text/plain": [
       "['Lou Reed - Walk On The Wild Side Lyrics.mp3']"
      ]
     },
     "execution_count": 4,
     "metadata": {},
     "output_type": "execute_result"
    }
   ],
   "source": [
    "[x for x in os.listdir(DIRS['SONGS'])[:5] if x.endswith('.mp3')]"
   ]
  },
  {
   "cell_type": "markdown",
   "metadata": {},
   "source": [
    "Преобразование .wav в .mp3"
   ]
  },
  {
   "cell_type": "code",
   "execution_count": 5,
   "metadata": {},
   "outputs": [],
   "source": [
    "for f in [x for x in os.listdir(DIRS['SONGS']) if x.endswith('.mp3')]:\n",
    "    fname = os.path.join(DIRS['SONGS'], f)\n",
    "    fname = fname.replace(' ', '\\ ')\n",
    "    !ffmpeg -loglevel panic -i {fname} -ar {M_PARAMS['SAMPLE_RATE']} {fname.replace('.mp3','.wav')} -y"
   ]
  },
  {
   "cell_type": "markdown",
   "metadata": {},
   "source": [
    ".wav файлы теперь"
   ]
  },
  {
   "cell_type": "code",
   "execution_count": 6,
   "metadata": {},
   "outputs": [
    {
     "data": {
      "text/plain": [
       "['Lou Reed - Walk On The Wild Side Lyrics.wav']"
      ]
     },
     "execution_count": 6,
     "metadata": {},
     "output_type": "execute_result"
    }
   ],
   "source": [
    "[x for x in os.listdir(DIRS['SONGS'])[:5] if x.endswith('.wav')]"
   ]
  },
  {
   "cell_type": "markdown",
   "metadata": {},
   "source": [
    "# Работа с .wav файлами"
   ]
  },
  {
   "cell_type": "code",
   "execution_count": 7,
   "metadata": {},
   "outputs": [],
   "source": [
    "from wavenet import AudioReader, mu_law_encode, mu_law_decode\n",
    "import librosa"
   ]
  },
  {
   "cell_type": "code",
   "execution_count": 8,
   "metadata": {},
   "outputs": [],
   "source": [
    "import tensorflow as tf"
   ]
  },
  {
   "cell_type": "code",
   "execution_count": 9,
   "metadata": {},
   "outputs": [],
   "source": [
    "def _one_hot(input_batch):\n",
    "    '''One-hot encodes the waveform amplitudes.\n",
    "\n",
    "    This allows the definition of the network as a categorical distribution\n",
    "    over a finite set of possible amplitudes.\n",
    "    '''\n",
    "    with tf.name_scope('one_hot_encode'):\n",
    "        encoded = tf.one_hot(\n",
    "            input_batch,\n",
    "            depth=M_PARAMS['QUANTISATION_CHANNELS'],\n",
    "            dtype=tf.float32)\n",
    "        shape = [M_PARAMS['BATCH_SIZE'], -1, M_PARAMS['QUANTISATION_CHANNELS']]\n",
    "        encoded = tf.reshape(encoded, shape)\n",
    "    return encoded"
   ]
  },
  {
   "cell_type": "code",
   "execution_count": 10,
   "metadata": {},
   "outputs": [],
   "source": [
    "def _de_one_hot(encoded):\n",
    "    '''One-hot decodes the waveform amplitudes.\n",
    "    '''\n",
    "    with tf.name_scope('one_hot_decode'):\n",
    "        decoded = tf.argmax(encoded, axis=2)\n",
    "    return decoded"
   ]
  },
  {
   "cell_type": "code",
   "execution_count": 11,
   "metadata": {},
   "outputs": [],
   "source": [
    "def write_wav(waveform, sample_rate, filename):\n",
    "    y = np.array(waveform)\n",
    "    librosa.output.write_wav(filename, y, sample_rate)\n",
    "    print('Updated wav file at {}'.format(filename))"
   ]
  },
  {
   "cell_type": "code",
   "execution_count": 12,
   "metadata": {},
   "outputs": [],
   "source": [
    "sess = tf.Session()"
   ]
  },
  {
   "cell_type": "code",
   "execution_count": 13,
   "metadata": {},
   "outputs": [],
   "source": [
    "wav_fname = os.path.join(DIRS['SONGS'], [x for x in os.listdir(DIRS['SONGS']) if x.endswith('.wav')][0])\n",
    "wav_fname_new = wav_fname.replace('.wav', '_after.wav')"
   ]
  },
  {
   "cell_type": "markdown",
   "metadata": {},
   "source": [
    "low raw audio"
   ]
  },
  {
   "cell_type": "code",
   "execution_count": 14,
   "metadata": {},
   "outputs": [
    {
     "data": {
      "text/plain": [
       "array([ 0.0000000e+00,  0.0000000e+00, -1.5258789e-05,  0.0000000e+00,\n",
       "        0.0000000e+00,  0.0000000e+00,  0.0000000e+00, -1.5258789e-05,\n",
       "       -1.5258789e-05, -1.5258789e-05,  0.0000000e+00,  0.0000000e+00,\n",
       "       -1.5258789e-05, -1.5258789e-05,  0.0000000e+00,  0.0000000e+00,\n",
       "        0.0000000e+00,  0.0000000e+00,  1.5258789e-05, -1.5258789e-05,\n",
       "        0.0000000e+00, -1.5258789e-05,  0.0000000e+00,  0.0000000e+00,\n",
       "        0.0000000e+00, -1.5258789e-05, -1.5258789e-05,  0.0000000e+00,\n",
       "        0.0000000e+00,  0.0000000e+00, -3.0517578e-05,  0.0000000e+00,\n",
       "       -1.5258789e-05,  0.0000000e+00,  0.0000000e+00, -3.0517578e-05,\n",
       "        0.0000000e+00,  0.0000000e+00, -1.5258789e-05,  1.5258789e-05,\n",
       "        0.0000000e+00,  0.0000000e+00, -1.5258789e-05, -1.5258789e-05,\n",
       "       -1.5258789e-05, -1.5258789e-05,  0.0000000e+00,  1.5258789e-05,\n",
       "        0.0000000e+00,  0.0000000e+00], dtype=float32)"
      ]
     },
     "execution_count": 14,
     "metadata": {},
     "output_type": "execute_result"
    }
   ],
   "source": [
    "audio, _ = librosa.load(wav_fname, sr=M_PARAMS['SAMPLE_RATE'], mono=True)\n",
    "audio[1000:1050]"
   ]
  },
  {
   "cell_type": "markdown",
   "metadata": {},
   "source": [
    "encode it to 8 bit amplitude"
   ]
  },
  {
   "cell_type": "code",
   "execution_count": 15,
   "metadata": {},
   "outputs": [
    {
     "data": {
      "text/plain": [
       "array([4, 4, 3, 4, 4, 4, 4, 3, 3, 3, 4, 4, 3, 3, 4, 4, 4, 4, 4, 3, 4, 3,\n",
       "       4, 4, 4, 3, 3, 4, 4, 4, 3, 4, 3, 4, 4, 3, 4, 4, 3, 4, 4, 4, 3, 3,\n",
       "       3, 3, 4, 4, 4, 4], dtype=int32)"
      ]
     },
     "execution_count": 15,
     "metadata": {},
     "output_type": "execute_result"
    }
   ],
   "source": [
    "quantized = mu_law_encode(audio, M_PARAMS['QUANTISATION_CHANNELS'])\n",
    "quantized[1000:1050].eval(session=sess)"
   ]
  },
  {
   "cell_type": "markdown",
   "metadata": {},
   "source": [
    "get RNN input"
   ]
  },
  {
   "cell_type": "code",
   "execution_count": 16,
   "metadata": {},
   "outputs": [
    {
     "data": {
      "text/plain": [
       "array([[0., 0., 0., 0., 1., 0., 0., 0.],\n",
       "       [0., 0., 0., 0., 1., 0., 0., 0.],\n",
       "       [0., 0., 0., 1., 0., 0., 0., 0.],\n",
       "       [0., 0., 0., 0., 1., 0., 0., 0.],\n",
       "       [0., 0., 0., 0., 1., 0., 0., 0.],\n",
       "       [0., 0., 0., 0., 1., 0., 0., 0.],\n",
       "       [0., 0., 0., 0., 1., 0., 0., 0.],\n",
       "       [0., 0., 0., 1., 0., 0., 0., 0.],\n",
       "       [0., 0., 0., 1., 0., 0., 0., 0.],\n",
       "       [0., 0., 0., 1., 0., 0., 0., 0.],\n",
       "       [0., 0., 0., 0., 1., 0., 0., 0.],\n",
       "       [0., 0., 0., 0., 1., 0., 0., 0.],\n",
       "       [0., 0., 0., 1., 0., 0., 0., 0.],\n",
       "       [0., 0., 0., 1., 0., 0., 0., 0.],\n",
       "       [0., 0., 0., 0., 1., 0., 0., 0.],\n",
       "       [0., 0., 0., 0., 1., 0., 0., 0.],\n",
       "       [0., 0., 0., 0., 1., 0., 0., 0.],\n",
       "       [0., 0., 0., 0., 1., 0., 0., 0.],\n",
       "       [0., 0., 0., 0., 1., 0., 0., 0.],\n",
       "       [0., 0., 0., 1., 0., 0., 0., 0.]], dtype=float32)"
      ]
     },
     "execution_count": 16,
     "metadata": {},
     "output_type": "execute_result"
    }
   ],
   "source": [
    "quantized_oh = _one_hot(quantized)\n",
    "quantized_oh[0][1000:1020].eval(session=sess)"
   ]
  },
  {
   "cell_type": "markdown",
   "metadata": {},
   "source": [
    "let RNN out be exact RNN input (for test)\n",
    "\n",
    "turn it back to 8 bit signal"
   ]
  },
  {
   "cell_type": "code",
   "execution_count": 17,
   "metadata": {},
   "outputs": [
    {
     "data": {
      "text/plain": [
       "array([4, 4, 3, 4, 4, 4, 4, 3, 3, 3, 4, 4, 3, 3, 4, 4, 4, 4, 4, 3, 4, 3,\n",
       "       4, 4, 4, 3, 3, 4, 4, 4, 3, 4, 3, 4, 4, 3, 4, 4, 3, 4, 4, 4, 3, 3,\n",
       "       3, 3, 4, 4, 4, 4])"
      ]
     },
     "execution_count": 17,
     "metadata": {},
     "output_type": "execute_result"
    }
   ],
   "source": [
    "quantized_deoh = _de_one_hot(quantized_oh)\n",
    "quantized_deoh[0][1000:1050].eval(session=sess)"
   ]
  },
  {
   "cell_type": "markdown",
   "metadata": {},
   "source": [
    "from 8 bit signal to real sound"
   ]
  },
  {
   "cell_type": "code",
   "execution_count": 18,
   "metadata": {},
   "outputs": [
    {
     "data": {
      "text/plain": [
       "array([ 0.04941433,  0.04941433, -0.0494143 ,  0.04941433,  0.04941433,\n",
       "        0.04941433,  0.04941433, -0.0494143 , -0.0494143 , -0.0494143 ,\n",
       "        0.04941433,  0.04941433, -0.0494143 , -0.0494143 ,  0.04941433,\n",
       "        0.04941433,  0.04941433,  0.04941433,  0.04941433, -0.0494143 ,\n",
       "        0.04941433, -0.0494143 ,  0.04941433,  0.04941433,  0.04941433,\n",
       "       -0.0494143 , -0.0494143 ,  0.04941433,  0.04941433,  0.04941433,\n",
       "       -0.0494143 ,  0.04941433, -0.0494143 ,  0.04941433,  0.04941433,\n",
       "       -0.0494143 ,  0.04941433,  0.04941433, -0.0494143 ,  0.04941433,\n",
       "        0.04941433,  0.04941433, -0.0494143 , -0.0494143 , -0.0494143 ,\n",
       "       -0.0494143 ,  0.04941433,  0.04941433,  0.04941433,  0.04941433],\n",
       "      dtype=float32)"
      ]
     },
     "execution_count": 18,
     "metadata": {},
     "output_type": "execute_result"
    }
   ],
   "source": [
    "out = mu_law_decode(quantized_deoh,\n",
    "    quantization_channels=M_PARAMS['QUANTISATION_CHANNELS'])\n",
    "out[0][1000:1050].eval(session=sess)"
   ]
  },
  {
   "cell_type": "markdown",
   "metadata": {},
   "source": [
    "evaluate real_sound from tf to numpy"
   ]
  },
  {
   "cell_type": "code",
   "execution_count": 19,
   "metadata": {},
   "outputs": [],
   "source": [
    "out_wave = sess.run(out[0])"
   ]
  },
  {
   "cell_type": "markdown",
   "metadata": {},
   "source": [
    "write into file"
   ]
  },
  {
   "cell_type": "code",
   "execution_count": 20,
   "metadata": {},
   "outputs": [
    {
     "name": "stdout",
     "output_type": "stream",
     "text": [
      "Updated wav file at /opt/notebooks/data/songs/Lou Reed - Walk On The Wild Side Lyrics_after.wav\n"
     ]
    }
   ],
   "source": [
    "write_wav(out_wave, M_PARAMS['SAMPLE_RATE'], wav_fname_new)"
   ]
  }
 ],
 "metadata": {
  "kernelspec": {
   "display_name": "Python 3",
   "language": "python",
   "name": "python3"
  },
  "language_info": {
   "codemirror_mode": {
    "name": "ipython",
    "version": 3
   },
   "file_extension": ".py",
   "mimetype": "text/x-python",
   "name": "python",
   "nbconvert_exporter": "python",
   "pygments_lexer": "ipython3",
   "version": "3.6.8"
  }
 },
 "nbformat": 4,
 "nbformat_minor": 2
}
